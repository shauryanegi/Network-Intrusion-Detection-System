{
 "cells": [
  {
   "cell_type": "markdown",
   "metadata": {},
   "source": [
    "## Import the Basic Packages"
   ]
  },
  {
   "cell_type": "code",
   "execution_count": 3,
   "metadata": {
    "ExecuteTime": {
     "end_time": "2020-04-13T07:36:09.904136Z",
     "start_time": "2020-04-13T07:36:09.895160Z"
    }
   },
   "outputs": [
    {
     "name": "stdout",
     "output_type": "stream",
     "text": [
      "0.25.3\n",
      "1.16.5\n",
      "0.9.0\n"
     ]
    }
   ],
   "source": [
    "import numpy as np\n",
    "import pandas as pd\n",
    "import matplotlib.pyplot as plt\n",
    "import seaborn as sns\n",
    "import scipy.stats as stats\n",
    "import datetime as dt\n",
    "%matplotlib inline\n",
    "import math\n",
    "import pandas_profiling\n",
    "from sklearn.model_selection import train_test_split\n",
    "from sklearn import metrics\n",
    "\n",
    "from patsy import dmatrices\n",
    "from statsmodels.stats.outliers_influence import variance_inflation_factor\n",
    "\n",
    "from sklearn.linear_model import LogisticRegression\n",
    "\n",
    "print(pd.__version__)\n",
    "print(np.__version__)\n",
    "print(sns.__version__)"
   ]
  },
  {
   "cell_type": "markdown",
   "metadata": {},
   "source": [
    "## Create the UDF's"
   ]
  },
  {
   "cell_type": "code",
   "execution_count": 4,
   "metadata": {
    "ExecuteTime": {
     "end_time": "2020-04-13T07:37:12.353665Z",
     "start_time": "2020-04-13T07:37:12.344689Z"
    }
   },
   "outputs": [],
   "source": [
    "# Create Data audit Report for continuous variables\n",
    "def continuous_var_summary(x):\n",
    "    return pd.Series([\n",
    "        x.count(),\n",
    "        x.isnull().sum(),\n",
    "        x.sum(),\n",
    "        x.mean(),\n",
    "        x.median(),\n",
    "        x.std(),\n",
    "        x.var(),\n",
    "        x.min(),\n",
    "        x.quantile(0.01),\n",
    "        x.quantile(0.05),\n",
    "        x.quantile(0.10),\n",
    "        x.quantile(0.25),\n",
    "        x.quantile(0.50),\n",
    "        x.quantile(0.75),\n",
    "        x.quantile(0.90),\n",
    "        x.quantile(0.95),\n",
    "        x.quantile(0.99),\n",
    "        x.max()\n",
    "    ],\n",
    "                     index=[\n",
    "                         'N', 'NMISS', 'SUM', 'MEAN', 'MEDIAN', 'STD', 'VAR',\n",
    "                         'MIN', 'P1', 'P5', 'P10', 'P25', 'P50', 'P75', 'P90',\n",
    "                         'P95', 'P99', 'MAX'\n",
    "                     ])"
   ]
  },
  {
   "cell_type": "code",
   "execution_count": 5,
   "metadata": {
    "ExecuteTime": {
     "end_time": "2020-04-13T07:37:18.976903Z",
     "start_time": "2020-04-13T07:37:18.971920Z"
    }
   },
   "outputs": [],
   "source": [
    "# Create Data audit Report for categorical variables\n",
    "def categorical_var_summary(x):\n",
    "    Mode = x.value_counts().sort_values(ascending=False)[0:1].reset_index()\n",
    "    return pd.Series([\n",
    "        x.count(),\n",
    "        x.isnull().sum(), Mode.iloc[0, 0], Mode.iloc[0, 1],\n",
    "        round(Mode.iloc[0, 1] * 100 / x.count(), 2)\n",
    "    ],\n",
    "                     index=['N', 'NMISS', 'MODE', 'FREQ', 'PERCENT'])"
   ]
  },
  {
   "cell_type": "code",
   "execution_count": 6,
   "metadata": {
    "ExecuteTime": {
     "end_time": "2020-04-13T07:38:36.918546Z",
     "start_time": "2020-04-13T07:38:36.913559Z"
    }
   },
   "outputs": [],
   "source": [
    "# Missing value imputation for categorical and continuous variables\n",
    "def missing_imputation(x, stats='mean'):\n",
    "    if (x.dtypes == 'float64') | (x.dtypes == 'int64'):\n",
    "        x = x.fillna(x.mean()) if stats == 'mean' else x.fillna(x.median())\n",
    "    else:\n",
    "        x = x.fillna(x.mode())\n",
    "    return x"
   ]
  },
  {
   "cell_type": "code",
   "execution_count": 7,
   "metadata": {
    "ExecuteTime": {
     "end_time": "2020-04-13T07:38:43.069267Z",
     "start_time": "2020-04-13T07:38:43.065275Z"
    }
   },
   "outputs": [],
   "source": [
    "#An utility function to create dummy variable\n",
    "def create_dummies(df, colname):\n",
    "    col_dummies = pd.get_dummies(df[colname], prefix=colname, drop_first=True)\n",
    "    df = pd.concat([df, col_dummies], axis=1)\n",
    "    df.drop(colname, axis=1, inplace=True)\n",
    "    return df"
   ]
  },
  {
   "cell_type": "code",
   "execution_count": 8,
   "metadata": {
    "ExecuteTime": {
     "end_time": "2020-04-13T07:38:49.539418Z",
     "start_time": "2020-04-13T07:38:49.536425Z"
    }
   },
   "outputs": [],
   "source": [
    "# create user defined function to create the freq plots\n",
    "def fn_countplot(pd_series):\n",
    "    plt.figure(figsize=(5, 3))\n",
    "    sns.countplot(y=pd_series)\n",
    "    print('This is a freq chart for ' + pd_series.name)\n",
    "    plt.show()\n",
    "    return"
   ]
  },
  {
   "cell_type": "code",
   "execution_count": 9,
   "metadata": {
    "ExecuteTime": {
     "end_time": "2020-04-13T07:39:00.889720Z",
     "start_time": "2020-04-13T07:39:00.457853Z"
    }
   },
   "outputs": [
    {
     "name": "stdout",
     "output_type": "stream",
     "text": [
      "Dimensions of the Training set: (125973, 43)\n",
      "Dimensions of the Test set: (22544, 43)\n"
     ]
    }
   ],
   "source": [
    "# attach the column names to the dataset\n",
    "\n",
    "col_names = [\n",
    "    \"duration\", \"protocol_type\", \"service\", \"flag\", \"src_bytes\", \"dst_bytes\",\n",
    "    \"land\", \"wrong_fragment\", \"urgent\", \"hot\", \"num_failed_logins\",\n",
    "    \"logged_in\", \"num_compromised\", \"root_shell\", \"su_attempted\", \"num_root\",\n",
    "    \"num_file_creations\", \"num_shells\", \"num_access_files\",\n",
    "    \"num_outbound_cmds\", \"is_host_login\", \"is_guest_login\", \"count\",\n",
    "    \"srv_count\", \"serror_rate\", \"srv_serror_rate\", \"rerror_rate\",\n",
    "    \"srv_rerror_rate\", \"same_srv_rate\", \"diff_srv_rate\", \"srv_diff_host_rate\",\n",
    "    \"dst_host_count\", \"dst_host_srv_count\", \"dst_host_same_srv_rate\",\n",
    "    \"dst_host_diff_srv_rate\", \"dst_host_same_src_port_rate\",\n",
    "    \"dst_host_srv_diff_host_rate\", \"dst_host_serror_rate\",\n",
    "    \"dst_host_srv_serror_rate\", \"dst_host_rerror_rate\",\n",
    "    \"dst_host_srv_rerror_rate\", \"attack\", \"last_flag\"\n",
    "]\n",
    "\n",
    "df_train = pd.read_table(\n",
    "    'C:/Data Sets/(Class 21-Python - Case Study)/3. Network Intrusion Detection System/NSL_Dataset/train.txt',\n",
    "    names=col_names,  #Adding the column names\n",
    "    index_col=False,      #Removing the first column values from becoming an index.\n",
    "    sep=','                      #Separator used to separate the values and create a readable DataFrame\n",
    ")  \n",
    "df_test = pd.read_table(\n",
    "    'C:/Data Sets/(Class 21-Python - Case Study)/3. Network Intrusion Detection System/NSL_Dataset/test.txt',\n",
    "    names=col_names,   #Adding the column names for the test dataset\n",
    "    index_col=False,       #Removing the first column values from becoming an index for the test dataset\n",
    "    sep=',')                      #Separator used to separate the values and create a readable DataFrame for the test dataset\n",
    "\n",
    "# shape, this gives the dimensions of the dataset\n",
    "print('Dimensions of the Training set:', df_train.shape)\n",
    "print('Dimensions of the Test set:', df_test.shape)"
   ]
  },
  {
   "cell_type": "code",
   "execution_count": 10,
   "metadata": {
    "ExecuteTime": {
     "end_time": "2020-04-13T07:42:32.846511Z",
     "start_time": "2020-04-13T07:42:32.820532Z"
    }
   },
   "outputs": [
    {
     "data": {
      "text/html": [
       "<div>\n",
       "<style scoped>\n",
       "    .dataframe tbody tr th:only-of-type {\n",
       "        vertical-align: middle;\n",
       "    }\n",
       "\n",
       "    .dataframe tbody tr th {\n",
       "        vertical-align: top;\n",
       "    }\n",
       "\n",
       "    .dataframe thead th {\n",
       "        text-align: right;\n",
       "    }\n",
       "</style>\n",
       "<table border=\"1\" class=\"dataframe\">\n",
       "  <thead>\n",
       "    <tr style=\"text-align: right;\">\n",
       "      <th></th>\n",
       "      <th>duration</th>\n",
       "      <th>protocol_type</th>\n",
       "      <th>service</th>\n",
       "      <th>flag</th>\n",
       "      <th>src_bytes</th>\n",
       "      <th>dst_bytes</th>\n",
       "      <th>land</th>\n",
       "      <th>wrong_fragment</th>\n",
       "      <th>urgent</th>\n",
       "      <th>hot</th>\n",
       "      <th>...</th>\n",
       "      <th>dst_host_same_srv_rate</th>\n",
       "      <th>dst_host_diff_srv_rate</th>\n",
       "      <th>dst_host_same_src_port_rate</th>\n",
       "      <th>dst_host_srv_diff_host_rate</th>\n",
       "      <th>dst_host_serror_rate</th>\n",
       "      <th>dst_host_srv_serror_rate</th>\n",
       "      <th>dst_host_rerror_rate</th>\n",
       "      <th>dst_host_srv_rerror_rate</th>\n",
       "      <th>attack</th>\n",
       "      <th>last_flag</th>\n",
       "    </tr>\n",
       "  </thead>\n",
       "  <tbody>\n",
       "    <tr>\n",
       "      <th>0</th>\n",
       "      <td>0</td>\n",
       "      <td>tcp</td>\n",
       "      <td>ftp_data</td>\n",
       "      <td>SF</td>\n",
       "      <td>491</td>\n",
       "      <td>0</td>\n",
       "      <td>0</td>\n",
       "      <td>0</td>\n",
       "      <td>0</td>\n",
       "      <td>0</td>\n",
       "      <td>...</td>\n",
       "      <td>0.17</td>\n",
       "      <td>0.03</td>\n",
       "      <td>0.17</td>\n",
       "      <td>0.00</td>\n",
       "      <td>0.00</td>\n",
       "      <td>0.00</td>\n",
       "      <td>0.05</td>\n",
       "      <td>0.00</td>\n",
       "      <td>normal</td>\n",
       "      <td>20</td>\n",
       "    </tr>\n",
       "    <tr>\n",
       "      <th>1</th>\n",
       "      <td>0</td>\n",
       "      <td>udp</td>\n",
       "      <td>other</td>\n",
       "      <td>SF</td>\n",
       "      <td>146</td>\n",
       "      <td>0</td>\n",
       "      <td>0</td>\n",
       "      <td>0</td>\n",
       "      <td>0</td>\n",
       "      <td>0</td>\n",
       "      <td>...</td>\n",
       "      <td>0.00</td>\n",
       "      <td>0.60</td>\n",
       "      <td>0.88</td>\n",
       "      <td>0.00</td>\n",
       "      <td>0.00</td>\n",
       "      <td>0.00</td>\n",
       "      <td>0.00</td>\n",
       "      <td>0.00</td>\n",
       "      <td>normal</td>\n",
       "      <td>15</td>\n",
       "    </tr>\n",
       "    <tr>\n",
       "      <th>2</th>\n",
       "      <td>0</td>\n",
       "      <td>tcp</td>\n",
       "      <td>private</td>\n",
       "      <td>S0</td>\n",
       "      <td>0</td>\n",
       "      <td>0</td>\n",
       "      <td>0</td>\n",
       "      <td>0</td>\n",
       "      <td>0</td>\n",
       "      <td>0</td>\n",
       "      <td>...</td>\n",
       "      <td>0.10</td>\n",
       "      <td>0.05</td>\n",
       "      <td>0.00</td>\n",
       "      <td>0.00</td>\n",
       "      <td>1.00</td>\n",
       "      <td>1.00</td>\n",
       "      <td>0.00</td>\n",
       "      <td>0.00</td>\n",
       "      <td>neptune</td>\n",
       "      <td>19</td>\n",
       "    </tr>\n",
       "    <tr>\n",
       "      <th>3</th>\n",
       "      <td>0</td>\n",
       "      <td>tcp</td>\n",
       "      <td>http</td>\n",
       "      <td>SF</td>\n",
       "      <td>232</td>\n",
       "      <td>8153</td>\n",
       "      <td>0</td>\n",
       "      <td>0</td>\n",
       "      <td>0</td>\n",
       "      <td>0</td>\n",
       "      <td>...</td>\n",
       "      <td>1.00</td>\n",
       "      <td>0.00</td>\n",
       "      <td>0.03</td>\n",
       "      <td>0.04</td>\n",
       "      <td>0.03</td>\n",
       "      <td>0.01</td>\n",
       "      <td>0.00</td>\n",
       "      <td>0.01</td>\n",
       "      <td>normal</td>\n",
       "      <td>21</td>\n",
       "    </tr>\n",
       "    <tr>\n",
       "      <th>4</th>\n",
       "      <td>0</td>\n",
       "      <td>tcp</td>\n",
       "      <td>http</td>\n",
       "      <td>SF</td>\n",
       "      <td>199</td>\n",
       "      <td>420</td>\n",
       "      <td>0</td>\n",
       "      <td>0</td>\n",
       "      <td>0</td>\n",
       "      <td>0</td>\n",
       "      <td>...</td>\n",
       "      <td>1.00</td>\n",
       "      <td>0.00</td>\n",
       "      <td>0.00</td>\n",
       "      <td>0.00</td>\n",
       "      <td>0.00</td>\n",
       "      <td>0.00</td>\n",
       "      <td>0.00</td>\n",
       "      <td>0.00</td>\n",
       "      <td>normal</td>\n",
       "      <td>21</td>\n",
       "    </tr>\n",
       "  </tbody>\n",
       "</table>\n",
       "<p>5 rows × 43 columns</p>\n",
       "</div>"
      ],
      "text/plain": [
       "   duration protocol_type   service flag  src_bytes  dst_bytes  land  \\\n",
       "0         0           tcp  ftp_data   SF        491          0     0   \n",
       "1         0           udp     other   SF        146          0     0   \n",
       "2         0           tcp   private   S0          0          0     0   \n",
       "3         0           tcp      http   SF        232       8153     0   \n",
       "4         0           tcp      http   SF        199        420     0   \n",
       "\n",
       "   wrong_fragment  urgent  hot  ...  dst_host_same_srv_rate  \\\n",
       "0               0       0    0  ...                    0.17   \n",
       "1               0       0    0  ...                    0.00   \n",
       "2               0       0    0  ...                    0.10   \n",
       "3               0       0    0  ...                    1.00   \n",
       "4               0       0    0  ...                    1.00   \n",
       "\n",
       "   dst_host_diff_srv_rate  dst_host_same_src_port_rate  \\\n",
       "0                    0.03                         0.17   \n",
       "1                    0.60                         0.88   \n",
       "2                    0.05                         0.00   \n",
       "3                    0.00                         0.03   \n",
       "4                    0.00                         0.00   \n",
       "\n",
       "   dst_host_srv_diff_host_rate  dst_host_serror_rate  \\\n",
       "0                         0.00                  0.00   \n",
       "1                         0.00                  0.00   \n",
       "2                         0.00                  1.00   \n",
       "3                         0.04                  0.03   \n",
       "4                         0.00                  0.00   \n",
       "\n",
       "   dst_host_srv_serror_rate  dst_host_rerror_rate  dst_host_srv_rerror_rate  \\\n",
       "0                      0.00                  0.05                      0.00   \n",
       "1                      0.00                  0.00                      0.00   \n",
       "2                      1.00                  0.00                      0.00   \n",
       "3                      0.01                  0.00                      0.01   \n",
       "4                      0.00                  0.00                      0.00   \n",
       "\n",
       "    attack  last_flag  \n",
       "0   normal         20  \n",
       "1   normal         15  \n",
       "2  neptune         19  \n",
       "3   normal         21  \n",
       "4   normal         21  \n",
       "\n",
       "[5 rows x 43 columns]"
      ]
     },
     "execution_count": 10,
     "metadata": {},
     "output_type": "execute_result"
    }
   ],
   "source": [
    "df_train.head()  #First 5 values for basic assesment."
   ]
  },
  {
   "cell_type": "code",
   "execution_count": 11,
   "metadata": {
    "ExecuteTime": {
     "end_time": "2020-04-13T07:42:53.041553Z",
     "start_time": "2020-04-13T07:42:53.025596Z"
    }
   },
   "outputs": [
    {
     "data": {
      "text/html": [
       "<div>\n",
       "<style scoped>\n",
       "    .dataframe tbody tr th:only-of-type {\n",
       "        vertical-align: middle;\n",
       "    }\n",
       "\n",
       "    .dataframe tbody tr th {\n",
       "        vertical-align: top;\n",
       "    }\n",
       "\n",
       "    .dataframe thead th {\n",
       "        text-align: right;\n",
       "    }\n",
       "</style>\n",
       "<table border=\"1\" class=\"dataframe\">\n",
       "  <thead>\n",
       "    <tr style=\"text-align: right;\">\n",
       "      <th></th>\n",
       "      <th>duration</th>\n",
       "      <th>protocol_type</th>\n",
       "      <th>service</th>\n",
       "      <th>flag</th>\n",
       "      <th>src_bytes</th>\n",
       "      <th>dst_bytes</th>\n",
       "      <th>land</th>\n",
       "      <th>wrong_fragment</th>\n",
       "      <th>urgent</th>\n",
       "      <th>hot</th>\n",
       "      <th>...</th>\n",
       "      <th>dst_host_same_srv_rate</th>\n",
       "      <th>dst_host_diff_srv_rate</th>\n",
       "      <th>dst_host_same_src_port_rate</th>\n",
       "      <th>dst_host_srv_diff_host_rate</th>\n",
       "      <th>dst_host_serror_rate</th>\n",
       "      <th>dst_host_srv_serror_rate</th>\n",
       "      <th>dst_host_rerror_rate</th>\n",
       "      <th>dst_host_srv_rerror_rate</th>\n",
       "      <th>attack</th>\n",
       "      <th>last_flag</th>\n",
       "    </tr>\n",
       "  </thead>\n",
       "  <tbody>\n",
       "    <tr>\n",
       "      <th>0</th>\n",
       "      <td>0</td>\n",
       "      <td>tcp</td>\n",
       "      <td>private</td>\n",
       "      <td>REJ</td>\n",
       "      <td>0</td>\n",
       "      <td>0</td>\n",
       "      <td>0</td>\n",
       "      <td>0</td>\n",
       "      <td>0</td>\n",
       "      <td>0</td>\n",
       "      <td>...</td>\n",
       "      <td>0.04</td>\n",
       "      <td>0.06</td>\n",
       "      <td>0.00</td>\n",
       "      <td>0.00</td>\n",
       "      <td>0.0</td>\n",
       "      <td>0.0</td>\n",
       "      <td>1.00</td>\n",
       "      <td>1.00</td>\n",
       "      <td>neptune</td>\n",
       "      <td>21</td>\n",
       "    </tr>\n",
       "    <tr>\n",
       "      <th>1</th>\n",
       "      <td>0</td>\n",
       "      <td>tcp</td>\n",
       "      <td>private</td>\n",
       "      <td>REJ</td>\n",
       "      <td>0</td>\n",
       "      <td>0</td>\n",
       "      <td>0</td>\n",
       "      <td>0</td>\n",
       "      <td>0</td>\n",
       "      <td>0</td>\n",
       "      <td>...</td>\n",
       "      <td>0.00</td>\n",
       "      <td>0.06</td>\n",
       "      <td>0.00</td>\n",
       "      <td>0.00</td>\n",
       "      <td>0.0</td>\n",
       "      <td>0.0</td>\n",
       "      <td>1.00</td>\n",
       "      <td>1.00</td>\n",
       "      <td>neptune</td>\n",
       "      <td>21</td>\n",
       "    </tr>\n",
       "    <tr>\n",
       "      <th>2</th>\n",
       "      <td>2</td>\n",
       "      <td>tcp</td>\n",
       "      <td>ftp_data</td>\n",
       "      <td>SF</td>\n",
       "      <td>12983</td>\n",
       "      <td>0</td>\n",
       "      <td>0</td>\n",
       "      <td>0</td>\n",
       "      <td>0</td>\n",
       "      <td>0</td>\n",
       "      <td>...</td>\n",
       "      <td>0.61</td>\n",
       "      <td>0.04</td>\n",
       "      <td>0.61</td>\n",
       "      <td>0.02</td>\n",
       "      <td>0.0</td>\n",
       "      <td>0.0</td>\n",
       "      <td>0.00</td>\n",
       "      <td>0.00</td>\n",
       "      <td>normal</td>\n",
       "      <td>21</td>\n",
       "    </tr>\n",
       "    <tr>\n",
       "      <th>3</th>\n",
       "      <td>0</td>\n",
       "      <td>icmp</td>\n",
       "      <td>eco_i</td>\n",
       "      <td>SF</td>\n",
       "      <td>20</td>\n",
       "      <td>0</td>\n",
       "      <td>0</td>\n",
       "      <td>0</td>\n",
       "      <td>0</td>\n",
       "      <td>0</td>\n",
       "      <td>...</td>\n",
       "      <td>1.00</td>\n",
       "      <td>0.00</td>\n",
       "      <td>1.00</td>\n",
       "      <td>0.28</td>\n",
       "      <td>0.0</td>\n",
       "      <td>0.0</td>\n",
       "      <td>0.00</td>\n",
       "      <td>0.00</td>\n",
       "      <td>saint</td>\n",
       "      <td>15</td>\n",
       "    </tr>\n",
       "    <tr>\n",
       "      <th>4</th>\n",
       "      <td>1</td>\n",
       "      <td>tcp</td>\n",
       "      <td>telnet</td>\n",
       "      <td>RSTO</td>\n",
       "      <td>0</td>\n",
       "      <td>15</td>\n",
       "      <td>0</td>\n",
       "      <td>0</td>\n",
       "      <td>0</td>\n",
       "      <td>0</td>\n",
       "      <td>...</td>\n",
       "      <td>0.31</td>\n",
       "      <td>0.17</td>\n",
       "      <td>0.03</td>\n",
       "      <td>0.02</td>\n",
       "      <td>0.0</td>\n",
       "      <td>0.0</td>\n",
       "      <td>0.83</td>\n",
       "      <td>0.71</td>\n",
       "      <td>mscan</td>\n",
       "      <td>11</td>\n",
       "    </tr>\n",
       "  </tbody>\n",
       "</table>\n",
       "<p>5 rows × 43 columns</p>\n",
       "</div>"
      ],
      "text/plain": [
       "   duration protocol_type   service  flag  src_bytes  dst_bytes  land  \\\n",
       "0         0           tcp   private   REJ          0          0     0   \n",
       "1         0           tcp   private   REJ          0          0     0   \n",
       "2         2           tcp  ftp_data    SF      12983          0     0   \n",
       "3         0          icmp     eco_i    SF         20          0     0   \n",
       "4         1           tcp    telnet  RSTO          0         15     0   \n",
       "\n",
       "   wrong_fragment  urgent  hot  ...  dst_host_same_srv_rate  \\\n",
       "0               0       0    0  ...                    0.04   \n",
       "1               0       0    0  ...                    0.00   \n",
       "2               0       0    0  ...                    0.61   \n",
       "3               0       0    0  ...                    1.00   \n",
       "4               0       0    0  ...                    0.31   \n",
       "\n",
       "   dst_host_diff_srv_rate  dst_host_same_src_port_rate  \\\n",
       "0                    0.06                         0.00   \n",
       "1                    0.06                         0.00   \n",
       "2                    0.04                         0.61   \n",
       "3                    0.00                         1.00   \n",
       "4                    0.17                         0.03   \n",
       "\n",
       "   dst_host_srv_diff_host_rate  dst_host_serror_rate  \\\n",
       "0                         0.00                   0.0   \n",
       "1                         0.00                   0.0   \n",
       "2                         0.02                   0.0   \n",
       "3                         0.28                   0.0   \n",
       "4                         0.02                   0.0   \n",
       "\n",
       "   dst_host_srv_serror_rate  dst_host_rerror_rate  dst_host_srv_rerror_rate  \\\n",
       "0                       0.0                  1.00                      1.00   \n",
       "1                       0.0                  1.00                      1.00   \n",
       "2                       0.0                  0.00                      0.00   \n",
       "3                       0.0                  0.00                      0.00   \n",
       "4                       0.0                  0.83                      0.71   \n",
       "\n",
       "    attack  last_flag  \n",
       "0  neptune         21  \n",
       "1  neptune         21  \n",
       "2   normal         21  \n",
       "3    saint         15  \n",
       "4    mscan         11  \n",
       "\n",
       "[5 rows x 43 columns]"
      ]
     },
     "execution_count": 11,
     "metadata": {},
     "output_type": "execute_result"
    }
   ],
   "source": [
    "df_test.head()"
   ]
  },
  {
   "cell_type": "code",
   "execution_count": 12,
   "metadata": {
    "ExecuteTime": {
     "end_time": "2020-04-13T07:43:01.109431Z",
     "start_time": "2020-04-13T07:43:01.063523Z"
    }
   },
   "outputs": [
    {
     "name": "stdout",
     "output_type": "stream",
     "text": [
      "<class 'pandas.core.frame.DataFrame'>\n",
      "RangeIndex: 125973 entries, 0 to 125972\n",
      "Data columns (total 43 columns):\n",
      "duration                       125973 non-null int64\n",
      "protocol_type                  125973 non-null object\n",
      "service                        125973 non-null object\n",
      "flag                           125973 non-null object\n",
      "src_bytes                      125973 non-null int64\n",
      "dst_bytes                      125973 non-null int64\n",
      "land                           125973 non-null int64\n",
      "wrong_fragment                 125973 non-null int64\n",
      "urgent                         125973 non-null int64\n",
      "hot                            125973 non-null int64\n",
      "num_failed_logins              125973 non-null int64\n",
      "logged_in                      125973 non-null int64\n",
      "num_compromised                125973 non-null int64\n",
      "root_shell                     125973 non-null int64\n",
      "su_attempted                   125973 non-null int64\n",
      "num_root                       125973 non-null int64\n",
      "num_file_creations             125973 non-null int64\n",
      "num_shells                     125973 non-null int64\n",
      "num_access_files               125973 non-null int64\n",
      "num_outbound_cmds              125973 non-null int64\n",
      "is_host_login                  125973 non-null int64\n",
      "is_guest_login                 125973 non-null int64\n",
      "count                          125973 non-null int64\n",
      "srv_count                      125973 non-null int64\n",
      "serror_rate                    125973 non-null float64\n",
      "srv_serror_rate                125973 non-null float64\n",
      "rerror_rate                    125973 non-null float64\n",
      "srv_rerror_rate                125973 non-null float64\n",
      "same_srv_rate                  125973 non-null float64\n",
      "diff_srv_rate                  125973 non-null float64\n",
      "srv_diff_host_rate             125973 non-null float64\n",
      "dst_host_count                 125973 non-null int64\n",
      "dst_host_srv_count             125973 non-null int64\n",
      "dst_host_same_srv_rate         125973 non-null float64\n",
      "dst_host_diff_srv_rate         125973 non-null float64\n",
      "dst_host_same_src_port_rate    125973 non-null float64\n",
      "dst_host_srv_diff_host_rate    125973 non-null float64\n",
      "dst_host_serror_rate           125973 non-null float64\n",
      "dst_host_srv_serror_rate       125973 non-null float64\n",
      "dst_host_rerror_rate           125973 non-null float64\n",
      "dst_host_srv_rerror_rate       125973 non-null float64\n",
      "attack                         125973 non-null object\n",
      "last_flag                      125973 non-null int64\n",
      "dtypes: float64(15), int64(24), object(4)\n",
      "memory usage: 41.3+ MB\n"
     ]
    }
   ],
   "source": [
    "df_train.info() #Basic Information check for null values and data types."
   ]
  },
  {
   "cell_type": "code",
   "execution_count": 13,
   "metadata": {
    "ExecuteTime": {
     "end_time": "2020-04-13T07:43:18.721579Z",
     "start_time": "2020-04-13T07:43:18.355343Z"
    }
   },
   "outputs": [],
   "source": [
    "#Initially we are working on binomial classification so classifying data accordingly.\n",
    "#In attack variable normal means 0 and 1 means attacked.\n",
    "\n",
    "df_train.loc[df_train.attack == 'normal', 'attack'] = 0\n",
    "\n",
    "df_train.loc[(df_train.attack == 'back') | (df_train.attack == 'land') |\n",
    "             (df_train.attack == 'pod') | (df_train.attack == 'neptune') |\n",
    "             (df_train.attack == 'smurf') | (df_train.attack == 'teardrop') |\n",
    "             (df_train.attack == 'apache2') | (df_train.attack == 'udpstorm') |\n",
    "             (df_train.attack == 'processtable') | (df_train.attack == 'worm')\n",
    "             | (df_train.attack == 'mailbomb') | (df_train.attack == 'satan') |\n",
    "             (df_train.attack == 'ipsweep') | (df_train.attack == 'nmap') |\n",
    "             (df_train.attack == 'portsweep') | (df_train.attack == 'mscan') |\n",
    "             (df_train.attack == 'saint') | (df_train.attack == 'guess_passwd')\n",
    "             | (df_train.attack == 'ftp_write') | (df_train.attack == 'imap') |\n",
    "             (df_train.attack == 'phf') | (df_train.attack == 'multihop') |\n",
    "             (df_train.attack == 'warezmaster') |\n",
    "             (df_train.attack == 'warezclient') | (df_train.attack == 'spy') |\n",
    "             (df_train.attack == 'xlock') | (df_train.attack == 'xsnoop') |\n",
    "             (df_train.attack == 'snmpguess') |\n",
    "             (df_train.attack == 'snmpgetattack') |\n",
    "             (df_train.attack == 'httptunnel') |\n",
    "             (df_train.attack == 'sendmail') | (df_train.attack == 'named') |\n",
    "             (df_train.attack == 'buffer_overflow') |\n",
    "             (df_train.attack == 'loadmodule') | (df_train.attack == 'rootkit')\n",
    "             | (df_train.attack == 'perl') | (df_train.attack == 'sqlattack') |\n",
    "             (df_train.attack == 'xterm') | (df_train.attack == 'ps'),\n",
    "             'attack'] = 1"
   ]
  },
  {
   "cell_type": "code",
   "execution_count": 14,
   "metadata": {
    "ExecuteTime": {
     "end_time": "2020-04-13T07:43:26.119330Z",
     "start_time": "2020-04-13T07:43:26.004589Z"
    }
   },
   "outputs": [
    {
     "data": {
      "text/html": [
       "<div>\n",
       "<style scoped>\n",
       "    .dataframe tbody tr th:only-of-type {\n",
       "        vertical-align: middle;\n",
       "    }\n",
       "\n",
       "    .dataframe tbody tr th {\n",
       "        vertical-align: top;\n",
       "    }\n",
       "\n",
       "    .dataframe thead th {\n",
       "        text-align: right;\n",
       "    }\n",
       "</style>\n",
       "<table border=\"1\" class=\"dataframe\">\n",
       "  <thead>\n",
       "    <tr style=\"text-align: right;\">\n",
       "      <th></th>\n",
       "      <th>duration</th>\n",
       "      <th>protocol_type</th>\n",
       "      <th>service</th>\n",
       "      <th>flag</th>\n",
       "      <th>src_bytes</th>\n",
       "      <th>dst_bytes</th>\n",
       "      <th>land</th>\n",
       "      <th>wrong_fragment</th>\n",
       "      <th>urgent</th>\n",
       "      <th>hot</th>\n",
       "      <th>...</th>\n",
       "      <th>dst_host_same_srv_rate</th>\n",
       "      <th>dst_host_diff_srv_rate</th>\n",
       "      <th>dst_host_same_src_port_rate</th>\n",
       "      <th>dst_host_srv_diff_host_rate</th>\n",
       "      <th>dst_host_serror_rate</th>\n",
       "      <th>dst_host_srv_serror_rate</th>\n",
       "      <th>dst_host_rerror_rate</th>\n",
       "      <th>dst_host_srv_rerror_rate</th>\n",
       "      <th>attack</th>\n",
       "      <th>last_flag</th>\n",
       "    </tr>\n",
       "  </thead>\n",
       "  <tbody>\n",
       "    <tr>\n",
       "      <th>0</th>\n",
       "      <td>0</td>\n",
       "      <td>tcp</td>\n",
       "      <td>private</td>\n",
       "      <td>REJ</td>\n",
       "      <td>0</td>\n",
       "      <td>0</td>\n",
       "      <td>0</td>\n",
       "      <td>0</td>\n",
       "      <td>0</td>\n",
       "      <td>0</td>\n",
       "      <td>...</td>\n",
       "      <td>0.04</td>\n",
       "      <td>0.06</td>\n",
       "      <td>0.00</td>\n",
       "      <td>0.00</td>\n",
       "      <td>0.00</td>\n",
       "      <td>0.0</td>\n",
       "      <td>1.00</td>\n",
       "      <td>1.00</td>\n",
       "      <td>1</td>\n",
       "      <td>21</td>\n",
       "    </tr>\n",
       "    <tr>\n",
       "      <th>1</th>\n",
       "      <td>0</td>\n",
       "      <td>tcp</td>\n",
       "      <td>private</td>\n",
       "      <td>REJ</td>\n",
       "      <td>0</td>\n",
       "      <td>0</td>\n",
       "      <td>0</td>\n",
       "      <td>0</td>\n",
       "      <td>0</td>\n",
       "      <td>0</td>\n",
       "      <td>...</td>\n",
       "      <td>0.00</td>\n",
       "      <td>0.06</td>\n",
       "      <td>0.00</td>\n",
       "      <td>0.00</td>\n",
       "      <td>0.00</td>\n",
       "      <td>0.0</td>\n",
       "      <td>1.00</td>\n",
       "      <td>1.00</td>\n",
       "      <td>1</td>\n",
       "      <td>21</td>\n",
       "    </tr>\n",
       "    <tr>\n",
       "      <th>2</th>\n",
       "      <td>2</td>\n",
       "      <td>tcp</td>\n",
       "      <td>ftp_data</td>\n",
       "      <td>SF</td>\n",
       "      <td>12983</td>\n",
       "      <td>0</td>\n",
       "      <td>0</td>\n",
       "      <td>0</td>\n",
       "      <td>0</td>\n",
       "      <td>0</td>\n",
       "      <td>...</td>\n",
       "      <td>0.61</td>\n",
       "      <td>0.04</td>\n",
       "      <td>0.61</td>\n",
       "      <td>0.02</td>\n",
       "      <td>0.00</td>\n",
       "      <td>0.0</td>\n",
       "      <td>0.00</td>\n",
       "      <td>0.00</td>\n",
       "      <td>0</td>\n",
       "      <td>21</td>\n",
       "    </tr>\n",
       "    <tr>\n",
       "      <th>3</th>\n",
       "      <td>0</td>\n",
       "      <td>icmp</td>\n",
       "      <td>eco_i</td>\n",
       "      <td>SF</td>\n",
       "      <td>20</td>\n",
       "      <td>0</td>\n",
       "      <td>0</td>\n",
       "      <td>0</td>\n",
       "      <td>0</td>\n",
       "      <td>0</td>\n",
       "      <td>...</td>\n",
       "      <td>1.00</td>\n",
       "      <td>0.00</td>\n",
       "      <td>1.00</td>\n",
       "      <td>0.28</td>\n",
       "      <td>0.00</td>\n",
       "      <td>0.0</td>\n",
       "      <td>0.00</td>\n",
       "      <td>0.00</td>\n",
       "      <td>1</td>\n",
       "      <td>15</td>\n",
       "    </tr>\n",
       "    <tr>\n",
       "      <th>4</th>\n",
       "      <td>1</td>\n",
       "      <td>tcp</td>\n",
       "      <td>telnet</td>\n",
       "      <td>RSTO</td>\n",
       "      <td>0</td>\n",
       "      <td>15</td>\n",
       "      <td>0</td>\n",
       "      <td>0</td>\n",
       "      <td>0</td>\n",
       "      <td>0</td>\n",
       "      <td>...</td>\n",
       "      <td>0.31</td>\n",
       "      <td>0.17</td>\n",
       "      <td>0.03</td>\n",
       "      <td>0.02</td>\n",
       "      <td>0.00</td>\n",
       "      <td>0.0</td>\n",
       "      <td>0.83</td>\n",
       "      <td>0.71</td>\n",
       "      <td>1</td>\n",
       "      <td>11</td>\n",
       "    </tr>\n",
       "    <tr>\n",
       "      <th>...</th>\n",
       "      <td>...</td>\n",
       "      <td>...</td>\n",
       "      <td>...</td>\n",
       "      <td>...</td>\n",
       "      <td>...</td>\n",
       "      <td>...</td>\n",
       "      <td>...</td>\n",
       "      <td>...</td>\n",
       "      <td>...</td>\n",
       "      <td>...</td>\n",
       "      <td>...</td>\n",
       "      <td>...</td>\n",
       "      <td>...</td>\n",
       "      <td>...</td>\n",
       "      <td>...</td>\n",
       "      <td>...</td>\n",
       "      <td>...</td>\n",
       "      <td>...</td>\n",
       "      <td>...</td>\n",
       "      <td>...</td>\n",
       "      <td>...</td>\n",
       "    </tr>\n",
       "    <tr>\n",
       "      <th>22539</th>\n",
       "      <td>0</td>\n",
       "      <td>tcp</td>\n",
       "      <td>smtp</td>\n",
       "      <td>SF</td>\n",
       "      <td>794</td>\n",
       "      <td>333</td>\n",
       "      <td>0</td>\n",
       "      <td>0</td>\n",
       "      <td>0</td>\n",
       "      <td>0</td>\n",
       "      <td>...</td>\n",
       "      <td>0.72</td>\n",
       "      <td>0.06</td>\n",
       "      <td>0.01</td>\n",
       "      <td>0.01</td>\n",
       "      <td>0.01</td>\n",
       "      <td>0.0</td>\n",
       "      <td>0.00</td>\n",
       "      <td>0.00</td>\n",
       "      <td>0</td>\n",
       "      <td>21</td>\n",
       "    </tr>\n",
       "    <tr>\n",
       "      <th>22540</th>\n",
       "      <td>0</td>\n",
       "      <td>tcp</td>\n",
       "      <td>http</td>\n",
       "      <td>SF</td>\n",
       "      <td>317</td>\n",
       "      <td>938</td>\n",
       "      <td>0</td>\n",
       "      <td>0</td>\n",
       "      <td>0</td>\n",
       "      <td>0</td>\n",
       "      <td>...</td>\n",
       "      <td>1.00</td>\n",
       "      <td>0.00</td>\n",
       "      <td>0.01</td>\n",
       "      <td>0.01</td>\n",
       "      <td>0.01</td>\n",
       "      <td>0.0</td>\n",
       "      <td>0.00</td>\n",
       "      <td>0.00</td>\n",
       "      <td>0</td>\n",
       "      <td>21</td>\n",
       "    </tr>\n",
       "    <tr>\n",
       "      <th>22541</th>\n",
       "      <td>0</td>\n",
       "      <td>tcp</td>\n",
       "      <td>http</td>\n",
       "      <td>SF</td>\n",
       "      <td>54540</td>\n",
       "      <td>8314</td>\n",
       "      <td>0</td>\n",
       "      <td>0</td>\n",
       "      <td>0</td>\n",
       "      <td>2</td>\n",
       "      <td>...</td>\n",
       "      <td>1.00</td>\n",
       "      <td>0.00</td>\n",
       "      <td>0.00</td>\n",
       "      <td>0.00</td>\n",
       "      <td>0.00</td>\n",
       "      <td>0.0</td>\n",
       "      <td>0.07</td>\n",
       "      <td>0.07</td>\n",
       "      <td>1</td>\n",
       "      <td>15</td>\n",
       "    </tr>\n",
       "    <tr>\n",
       "      <th>22542</th>\n",
       "      <td>0</td>\n",
       "      <td>udp</td>\n",
       "      <td>domain_u</td>\n",
       "      <td>SF</td>\n",
       "      <td>42</td>\n",
       "      <td>42</td>\n",
       "      <td>0</td>\n",
       "      <td>0</td>\n",
       "      <td>0</td>\n",
       "      <td>0</td>\n",
       "      <td>...</td>\n",
       "      <td>0.99</td>\n",
       "      <td>0.01</td>\n",
       "      <td>0.00</td>\n",
       "      <td>0.00</td>\n",
       "      <td>0.00</td>\n",
       "      <td>0.0</td>\n",
       "      <td>0.00</td>\n",
       "      <td>0.00</td>\n",
       "      <td>0</td>\n",
       "      <td>21</td>\n",
       "    </tr>\n",
       "    <tr>\n",
       "      <th>22543</th>\n",
       "      <td>0</td>\n",
       "      <td>tcp</td>\n",
       "      <td>sunrpc</td>\n",
       "      <td>REJ</td>\n",
       "      <td>0</td>\n",
       "      <td>0</td>\n",
       "      <td>0</td>\n",
       "      <td>0</td>\n",
       "      <td>0</td>\n",
       "      <td>0</td>\n",
       "      <td>...</td>\n",
       "      <td>0.08</td>\n",
       "      <td>0.03</td>\n",
       "      <td>0.00</td>\n",
       "      <td>0.00</td>\n",
       "      <td>0.00</td>\n",
       "      <td>0.0</td>\n",
       "      <td>0.44</td>\n",
       "      <td>1.00</td>\n",
       "      <td>1</td>\n",
       "      <td>14</td>\n",
       "    </tr>\n",
       "  </tbody>\n",
       "</table>\n",
       "<p>22544 rows × 43 columns</p>\n",
       "</div>"
      ],
      "text/plain": [
       "       duration protocol_type   service  flag  src_bytes  dst_bytes  land  \\\n",
       "0             0           tcp   private   REJ          0          0     0   \n",
       "1             0           tcp   private   REJ          0          0     0   \n",
       "2             2           tcp  ftp_data    SF      12983          0     0   \n",
       "3             0          icmp     eco_i    SF         20          0     0   \n",
       "4             1           tcp    telnet  RSTO          0         15     0   \n",
       "...         ...           ...       ...   ...        ...        ...   ...   \n",
       "22539         0           tcp      smtp    SF        794        333     0   \n",
       "22540         0           tcp      http    SF        317        938     0   \n",
       "22541         0           tcp      http    SF      54540       8314     0   \n",
       "22542         0           udp  domain_u    SF         42         42     0   \n",
       "22543         0           tcp    sunrpc   REJ          0          0     0   \n",
       "\n",
       "       wrong_fragment  urgent  hot  ...  dst_host_same_srv_rate  \\\n",
       "0                   0       0    0  ...                    0.04   \n",
       "1                   0       0    0  ...                    0.00   \n",
       "2                   0       0    0  ...                    0.61   \n",
       "3                   0       0    0  ...                    1.00   \n",
       "4                   0       0    0  ...                    0.31   \n",
       "...               ...     ...  ...  ...                     ...   \n",
       "22539               0       0    0  ...                    0.72   \n",
       "22540               0       0    0  ...                    1.00   \n",
       "22541               0       0    2  ...                    1.00   \n",
       "22542               0       0    0  ...                    0.99   \n",
       "22543               0       0    0  ...                    0.08   \n",
       "\n",
       "       dst_host_diff_srv_rate  dst_host_same_src_port_rate  \\\n",
       "0                        0.06                         0.00   \n",
       "1                        0.06                         0.00   \n",
       "2                        0.04                         0.61   \n",
       "3                        0.00                         1.00   \n",
       "4                        0.17                         0.03   \n",
       "...                       ...                          ...   \n",
       "22539                    0.06                         0.01   \n",
       "22540                    0.00                         0.01   \n",
       "22541                    0.00                         0.00   \n",
       "22542                    0.01                         0.00   \n",
       "22543                    0.03                         0.00   \n",
       "\n",
       "       dst_host_srv_diff_host_rate  dst_host_serror_rate  \\\n",
       "0                             0.00                  0.00   \n",
       "1                             0.00                  0.00   \n",
       "2                             0.02                  0.00   \n",
       "3                             0.28                  0.00   \n",
       "4                             0.02                  0.00   \n",
       "...                            ...                   ...   \n",
       "22539                         0.01                  0.01   \n",
       "22540                         0.01                  0.01   \n",
       "22541                         0.00                  0.00   \n",
       "22542                         0.00                  0.00   \n",
       "22543                         0.00                  0.00   \n",
       "\n",
       "       dst_host_srv_serror_rate  dst_host_rerror_rate  \\\n",
       "0                           0.0                  1.00   \n",
       "1                           0.0                  1.00   \n",
       "2                           0.0                  0.00   \n",
       "3                           0.0                  0.00   \n",
       "4                           0.0                  0.83   \n",
       "...                         ...                   ...   \n",
       "22539                       0.0                  0.00   \n",
       "22540                       0.0                  0.00   \n",
       "22541                       0.0                  0.07   \n",
       "22542                       0.0                  0.00   \n",
       "22543                       0.0                  0.44   \n",
       "\n",
       "       dst_host_srv_rerror_rate  attack  last_flag  \n",
       "0                          1.00       1         21  \n",
       "1                          1.00       1         21  \n",
       "2                          0.00       0         21  \n",
       "3                          0.00       1         15  \n",
       "4                          0.71       1         11  \n",
       "...                         ...     ...        ...  \n",
       "22539                      0.00       0         21  \n",
       "22540                      0.00       0         21  \n",
       "22541                      0.07       1         15  \n",
       "22542                      0.00       0         21  \n",
       "22543                      1.00       1         14  \n",
       "\n",
       "[22544 rows x 43 columns]"
      ]
     },
     "execution_count": 14,
     "metadata": {},
     "output_type": "execute_result"
    }
   ],
   "source": [
    "#We will do the same for the test data\n",
    "\n",
    "df_test.loc[df_test.attack == 'normal', 'attack'] = 0\n",
    "\n",
    "df_test.loc[(df_test.attack == 'back') | (df_test.attack == 'land') |\n",
    "            (df_test.attack == 'pod') | (df_test.attack == 'neptune') |\n",
    "            (df_test.attack == 'smurf') | (df_test.attack == 'teardrop') |\n",
    "            (df_test.attack == 'apache2') | (df_test.attack == 'udpstorm') |\n",
    "            (df_test.attack == 'processtable') | (df_test.attack == 'worm')\n",
    "            | (df_test.attack == 'mailbomb') | (df_test.attack == 'satan') |\n",
    "            (df_test.attack == 'ipsweep') | (df_test.attack == 'nmap') |\n",
    "            (df_test.attack == 'portsweep') | (df_test.attack == 'mscan') |\n",
    "            (df_test.attack == 'saint') | (df_test.attack == 'guess_passwd')\n",
    "            | (df_test.attack == 'ftp_write') | (df_test.attack == 'imap') |\n",
    "            (df_test.attack == 'phf') | (df_test.attack == 'multihop') |\n",
    "            (df_test.attack == 'warezmaster') |\n",
    "            (df_test.attack == 'warezclient') | (df_test.attack == 'spy') |\n",
    "            (df_test.attack == 'xlock') | (df_test.attack == 'xsnoop') |\n",
    "            (df_test.attack == 'snmpguess') |\n",
    "            (df_test.attack == 'snmpgetattack') |\n",
    "            (df_test.attack == 'httptunnel') | (df_test.attack == 'sendmail') |\n",
    "            (df_test.attack == 'named') | (df_test.attack == 'buffer_overflow')\n",
    "            | (df_test.attack == 'loadmodule') | (df_test.attack == 'rootkit')\n",
    "            | (df_test.attack == 'perl') | (df_test.attack == 'sqlattack') |\n",
    "            (df_test.attack == 'xterm') | (df_test.attack == 'ps'),\n",
    "            'attack'] = 1\n",
    "\n",
    "df_test"
   ]
  },
  {
   "cell_type": "code",
   "execution_count": 8,
   "metadata": {
    "ExecuteTime": {
     "end_time": "2020-05-27T03:55:12.196735Z",
     "start_time": "2020-05-27T03:55:12.193742Z"
    }
   },
   "outputs": [],
   "source": [
    "#Pandas Profiling for the data\n",
    "#report = pandas_profiling.ProfileReport(df_train)\n",
    "#report.to_file(\n",
    "#    output_file=\n",
    "#    'C:/Data Sets/(Class 21-Python - Case Study)/3. Network Intrusion Detection System/profilereportbinomial.html'\n",
    "#)\n",
    "#report"
   ]
  },
  {
   "cell_type": "code",
   "execution_count": 23,
   "metadata": {
    "ExecuteTime": {
     "end_time": "2020-04-13T07:53:52.634781Z",
     "start_time": "2020-04-13T07:53:52.574941Z"
    }
   },
   "outputs": [],
   "source": [
    "#Separating the categorial and continous variables\n",
    "\n",
    "df_train_cont = df_train.select_dtypes(['int64','float64']) \n",
    "df_train_cat = df_train.select_dtypes(['object'])\n",
    "\n",
    "df_test_cont = df_test.select_dtypes(['int64','float64']) \n",
    "df_test_cat = df_test.select_dtypes(['object'])"
   ]
  },
  {
   "cell_type": "code",
   "execution_count": 24,
   "metadata": {
    "ExecuteTime": {
     "end_time": "2020-04-13T07:53:53.100010Z",
     "start_time": "2020-04-13T07:53:53.092030Z"
    }
   },
   "outputs": [
    {
     "data": {
      "text/html": [
       "<div>\n",
       "<style scoped>\n",
       "    .dataframe tbody tr th:only-of-type {\n",
       "        vertical-align: middle;\n",
       "    }\n",
       "\n",
       "    .dataframe tbody tr th {\n",
       "        vertical-align: top;\n",
       "    }\n",
       "\n",
       "    .dataframe thead th {\n",
       "        text-align: right;\n",
       "    }\n",
       "</style>\n",
       "<table border=\"1\" class=\"dataframe\">\n",
       "  <thead>\n",
       "    <tr style=\"text-align: right;\">\n",
       "      <th></th>\n",
       "      <th>protocol_type</th>\n",
       "      <th>service</th>\n",
       "      <th>flag</th>\n",
       "    </tr>\n",
       "  </thead>\n",
       "  <tbody>\n",
       "    <tr>\n",
       "      <th>0</th>\n",
       "      <td>tcp</td>\n",
       "      <td>ftp_data</td>\n",
       "      <td>SF</td>\n",
       "    </tr>\n",
       "    <tr>\n",
       "      <th>1</th>\n",
       "      <td>udp</td>\n",
       "      <td>other</td>\n",
       "      <td>SF</td>\n",
       "    </tr>\n",
       "    <tr>\n",
       "      <th>2</th>\n",
       "      <td>tcp</td>\n",
       "      <td>private</td>\n",
       "      <td>S0</td>\n",
       "    </tr>\n",
       "    <tr>\n",
       "      <th>3</th>\n",
       "      <td>tcp</td>\n",
       "      <td>http</td>\n",
       "      <td>SF</td>\n",
       "    </tr>\n",
       "    <tr>\n",
       "      <th>4</th>\n",
       "      <td>tcp</td>\n",
       "      <td>http</td>\n",
       "      <td>SF</td>\n",
       "    </tr>\n",
       "  </tbody>\n",
       "</table>\n",
       "</div>"
      ],
      "text/plain": [
       "  protocol_type   service flag\n",
       "0           tcp  ftp_data   SF\n",
       "1           udp     other   SF\n",
       "2           tcp   private   S0\n",
       "3           tcp      http   SF\n",
       "4           tcp      http   SF"
      ]
     },
     "execution_count": 24,
     "metadata": {},
     "output_type": "execute_result"
    }
   ],
   "source": [
    "df_train_cat.head()"
   ]
  },
  {
   "cell_type": "code",
   "execution_count": 25,
   "metadata": {
    "ExecuteTime": {
     "end_time": "2020-04-13T07:53:53.698299Z",
     "start_time": "2020-04-13T07:53:53.674323Z"
    }
   },
   "outputs": [
    {
     "data": {
      "text/html": [
       "<div>\n",
       "<style scoped>\n",
       "    .dataframe tbody tr th:only-of-type {\n",
       "        vertical-align: middle;\n",
       "    }\n",
       "\n",
       "    .dataframe tbody tr th {\n",
       "        vertical-align: top;\n",
       "    }\n",
       "\n",
       "    .dataframe thead th {\n",
       "        text-align: right;\n",
       "    }\n",
       "</style>\n",
       "<table border=\"1\" class=\"dataframe\">\n",
       "  <thead>\n",
       "    <tr style=\"text-align: right;\">\n",
       "      <th></th>\n",
       "      <th>duration</th>\n",
       "      <th>src_bytes</th>\n",
       "      <th>dst_bytes</th>\n",
       "      <th>land</th>\n",
       "      <th>wrong_fragment</th>\n",
       "      <th>urgent</th>\n",
       "      <th>hot</th>\n",
       "      <th>num_failed_logins</th>\n",
       "      <th>logged_in</th>\n",
       "      <th>num_compromised</th>\n",
       "      <th>...</th>\n",
       "      <th>dst_host_same_srv_rate</th>\n",
       "      <th>dst_host_diff_srv_rate</th>\n",
       "      <th>dst_host_same_src_port_rate</th>\n",
       "      <th>dst_host_srv_diff_host_rate</th>\n",
       "      <th>dst_host_serror_rate</th>\n",
       "      <th>dst_host_srv_serror_rate</th>\n",
       "      <th>dst_host_rerror_rate</th>\n",
       "      <th>dst_host_srv_rerror_rate</th>\n",
       "      <th>attack</th>\n",
       "      <th>last_flag</th>\n",
       "    </tr>\n",
       "  </thead>\n",
       "  <tbody>\n",
       "    <tr>\n",
       "      <th>0</th>\n",
       "      <td>0</td>\n",
       "      <td>491</td>\n",
       "      <td>0</td>\n",
       "      <td>0</td>\n",
       "      <td>0</td>\n",
       "      <td>0</td>\n",
       "      <td>0</td>\n",
       "      <td>0</td>\n",
       "      <td>0</td>\n",
       "      <td>0</td>\n",
       "      <td>...</td>\n",
       "      <td>0.17</td>\n",
       "      <td>0.03</td>\n",
       "      <td>0.17</td>\n",
       "      <td>0.00</td>\n",
       "      <td>0.00</td>\n",
       "      <td>0.00</td>\n",
       "      <td>0.05</td>\n",
       "      <td>0.00</td>\n",
       "      <td>0</td>\n",
       "      <td>20</td>\n",
       "    </tr>\n",
       "    <tr>\n",
       "      <th>1</th>\n",
       "      <td>0</td>\n",
       "      <td>146</td>\n",
       "      <td>0</td>\n",
       "      <td>0</td>\n",
       "      <td>0</td>\n",
       "      <td>0</td>\n",
       "      <td>0</td>\n",
       "      <td>0</td>\n",
       "      <td>0</td>\n",
       "      <td>0</td>\n",
       "      <td>...</td>\n",
       "      <td>0.00</td>\n",
       "      <td>0.60</td>\n",
       "      <td>0.88</td>\n",
       "      <td>0.00</td>\n",
       "      <td>0.00</td>\n",
       "      <td>0.00</td>\n",
       "      <td>0.00</td>\n",
       "      <td>0.00</td>\n",
       "      <td>0</td>\n",
       "      <td>15</td>\n",
       "    </tr>\n",
       "    <tr>\n",
       "      <th>2</th>\n",
       "      <td>0</td>\n",
       "      <td>0</td>\n",
       "      <td>0</td>\n",
       "      <td>0</td>\n",
       "      <td>0</td>\n",
       "      <td>0</td>\n",
       "      <td>0</td>\n",
       "      <td>0</td>\n",
       "      <td>0</td>\n",
       "      <td>0</td>\n",
       "      <td>...</td>\n",
       "      <td>0.10</td>\n",
       "      <td>0.05</td>\n",
       "      <td>0.00</td>\n",
       "      <td>0.00</td>\n",
       "      <td>1.00</td>\n",
       "      <td>1.00</td>\n",
       "      <td>0.00</td>\n",
       "      <td>0.00</td>\n",
       "      <td>1</td>\n",
       "      <td>19</td>\n",
       "    </tr>\n",
       "    <tr>\n",
       "      <th>3</th>\n",
       "      <td>0</td>\n",
       "      <td>232</td>\n",
       "      <td>8153</td>\n",
       "      <td>0</td>\n",
       "      <td>0</td>\n",
       "      <td>0</td>\n",
       "      <td>0</td>\n",
       "      <td>0</td>\n",
       "      <td>1</td>\n",
       "      <td>0</td>\n",
       "      <td>...</td>\n",
       "      <td>1.00</td>\n",
       "      <td>0.00</td>\n",
       "      <td>0.03</td>\n",
       "      <td>0.04</td>\n",
       "      <td>0.03</td>\n",
       "      <td>0.01</td>\n",
       "      <td>0.00</td>\n",
       "      <td>0.01</td>\n",
       "      <td>0</td>\n",
       "      <td>21</td>\n",
       "    </tr>\n",
       "    <tr>\n",
       "      <th>4</th>\n",
       "      <td>0</td>\n",
       "      <td>199</td>\n",
       "      <td>420</td>\n",
       "      <td>0</td>\n",
       "      <td>0</td>\n",
       "      <td>0</td>\n",
       "      <td>0</td>\n",
       "      <td>0</td>\n",
       "      <td>1</td>\n",
       "      <td>0</td>\n",
       "      <td>...</td>\n",
       "      <td>1.00</td>\n",
       "      <td>0.00</td>\n",
       "      <td>0.00</td>\n",
       "      <td>0.00</td>\n",
       "      <td>0.00</td>\n",
       "      <td>0.00</td>\n",
       "      <td>0.00</td>\n",
       "      <td>0.00</td>\n",
       "      <td>0</td>\n",
       "      <td>21</td>\n",
       "    </tr>\n",
       "  </tbody>\n",
       "</table>\n",
       "<p>5 rows × 40 columns</p>\n",
       "</div>"
      ],
      "text/plain": [
       "   duration  src_bytes  dst_bytes  land  wrong_fragment  urgent  hot  \\\n",
       "0         0        491          0     0               0       0    0   \n",
       "1         0        146          0     0               0       0    0   \n",
       "2         0          0          0     0               0       0    0   \n",
       "3         0        232       8153     0               0       0    0   \n",
       "4         0        199        420     0               0       0    0   \n",
       "\n",
       "   num_failed_logins  logged_in  num_compromised  ...  dst_host_same_srv_rate  \\\n",
       "0                  0          0                0  ...                    0.17   \n",
       "1                  0          0                0  ...                    0.00   \n",
       "2                  0          0                0  ...                    0.10   \n",
       "3                  0          1                0  ...                    1.00   \n",
       "4                  0          1                0  ...                    1.00   \n",
       "\n",
       "   dst_host_diff_srv_rate  dst_host_same_src_port_rate  \\\n",
       "0                    0.03                         0.17   \n",
       "1                    0.60                         0.88   \n",
       "2                    0.05                         0.00   \n",
       "3                    0.00                         0.03   \n",
       "4                    0.00                         0.00   \n",
       "\n",
       "   dst_host_srv_diff_host_rate  dst_host_serror_rate  \\\n",
       "0                         0.00                  0.00   \n",
       "1                         0.00                  0.00   \n",
       "2                         0.00                  1.00   \n",
       "3                         0.04                  0.03   \n",
       "4                         0.00                  0.00   \n",
       "\n",
       "   dst_host_srv_serror_rate  dst_host_rerror_rate  dst_host_srv_rerror_rate  \\\n",
       "0                      0.00                  0.05                      0.00   \n",
       "1                      0.00                  0.00                      0.00   \n",
       "2                      1.00                  0.00                      0.00   \n",
       "3                      0.01                  0.00                      0.01   \n",
       "4                      0.00                  0.00                      0.00   \n",
       "\n",
       "   attack  last_flag  \n",
       "0       0         20  \n",
       "1       0         15  \n",
       "2       1         19  \n",
       "3       0         21  \n",
       "4       0         21  \n",
       "\n",
       "[5 rows x 40 columns]"
      ]
     },
     "execution_count": 25,
     "metadata": {},
     "output_type": "execute_result"
    }
   ],
   "source": [
    "df_train_cont.head()"
   ]
  },
  {
   "cell_type": "code",
   "execution_count": 26,
   "metadata": {
    "ExecuteTime": {
     "end_time": "2020-04-13T07:53:54.636167Z",
     "start_time": "2020-04-13T07:53:54.060324Z"
    }
   },
   "outputs": [
    {
     "data": {
      "text/html": [
       "<div>\n",
       "<style scoped>\n",
       "    .dataframe tbody tr th:only-of-type {\n",
       "        vertical-align: middle;\n",
       "    }\n",
       "\n",
       "    .dataframe tbody tr th {\n",
       "        vertical-align: top;\n",
       "    }\n",
       "\n",
       "    .dataframe thead th {\n",
       "        text-align: right;\n",
       "    }\n",
       "</style>\n",
       "<table border=\"1\" class=\"dataframe\">\n",
       "  <thead>\n",
       "    <tr style=\"text-align: right;\">\n",
       "      <th></th>\n",
       "      <th>duration</th>\n",
       "      <th>src_bytes</th>\n",
       "      <th>dst_bytes</th>\n",
       "      <th>land</th>\n",
       "      <th>wrong_fragment</th>\n",
       "      <th>urgent</th>\n",
       "      <th>hot</th>\n",
       "      <th>num_failed_logins</th>\n",
       "      <th>logged_in</th>\n",
       "      <th>num_compromised</th>\n",
       "      <th>...</th>\n",
       "      <th>dst_host_same_srv_rate</th>\n",
       "      <th>dst_host_diff_srv_rate</th>\n",
       "      <th>dst_host_same_src_port_rate</th>\n",
       "      <th>dst_host_srv_diff_host_rate</th>\n",
       "      <th>dst_host_serror_rate</th>\n",
       "      <th>dst_host_srv_serror_rate</th>\n",
       "      <th>dst_host_rerror_rate</th>\n",
       "      <th>dst_host_srv_rerror_rate</th>\n",
       "      <th>attack</th>\n",
       "      <th>last_flag</th>\n",
       "    </tr>\n",
       "  </thead>\n",
       "  <tbody>\n",
       "    <tr>\n",
       "      <th>N</th>\n",
       "      <td>125973.00</td>\n",
       "      <td>1.259730e+05</td>\n",
       "      <td>1.259730e+05</td>\n",
       "      <td>125973.00</td>\n",
       "      <td>125973.00</td>\n",
       "      <td>125973.00</td>\n",
       "      <td>125973.00</td>\n",
       "      <td>125973.00</td>\n",
       "      <td>125973.00</td>\n",
       "      <td>125973.00</td>\n",
       "      <td>...</td>\n",
       "      <td>125973.00</td>\n",
       "      <td>125973.00</td>\n",
       "      <td>125973.00</td>\n",
       "      <td>125973.00</td>\n",
       "      <td>125973.00</td>\n",
       "      <td>125973.00</td>\n",
       "      <td>125973.00</td>\n",
       "      <td>125973.00</td>\n",
       "      <td>125973.00</td>\n",
       "      <td>125973.00</td>\n",
       "    </tr>\n",
       "    <tr>\n",
       "      <th>NMISS</th>\n",
       "      <td>0.00</td>\n",
       "      <td>0.000000e+00</td>\n",
       "      <td>0.000000e+00</td>\n",
       "      <td>0.00</td>\n",
       "      <td>0.00</td>\n",
       "      <td>0.00</td>\n",
       "      <td>0.00</td>\n",
       "      <td>0.00</td>\n",
       "      <td>0.00</td>\n",
       "      <td>0.00</td>\n",
       "      <td>...</td>\n",
       "      <td>0.00</td>\n",
       "      <td>0.00</td>\n",
       "      <td>0.00</td>\n",
       "      <td>0.00</td>\n",
       "      <td>0.00</td>\n",
       "      <td>0.00</td>\n",
       "      <td>0.00</td>\n",
       "      <td>0.00</td>\n",
       "      <td>0.00</td>\n",
       "      <td>0.00</td>\n",
       "    </tr>\n",
       "    <tr>\n",
       "      <th>SUM</th>\n",
       "      <td>36172473.00</td>\n",
       "      <td>5.740179e+09</td>\n",
       "      <td>2.491634e+09</td>\n",
       "      <td>25.00</td>\n",
       "      <td>2858.00</td>\n",
       "      <td>14.00</td>\n",
       "      <td>25750.00</td>\n",
       "      <td>154.00</td>\n",
       "      <td>49852.00</td>\n",
       "      <td>35178.00</td>\n",
       "      <td>...</td>\n",
       "      <td>65662.38</td>\n",
       "      <td>10449.60</td>\n",
       "      <td>18691.73</td>\n",
       "      <td>4099.47</td>\n",
       "      <td>35833.33</td>\n",
       "      <td>35081.53</td>\n",
       "      <td>14969.60</td>\n",
       "      <td>15146.98</td>\n",
       "      <td>58630.00</td>\n",
       "      <td>2456985.00</td>\n",
       "    </tr>\n",
       "    <tr>\n",
       "      <th>MEAN</th>\n",
       "      <td>287.14</td>\n",
       "      <td>4.556674e+04</td>\n",
       "      <td>1.977911e+04</td>\n",
       "      <td>0.00</td>\n",
       "      <td>0.02</td>\n",
       "      <td>0.00</td>\n",
       "      <td>0.20</td>\n",
       "      <td>0.00</td>\n",
       "      <td>0.40</td>\n",
       "      <td>0.28</td>\n",
       "      <td>...</td>\n",
       "      <td>0.52</td>\n",
       "      <td>0.08</td>\n",
       "      <td>0.15</td>\n",
       "      <td>0.03</td>\n",
       "      <td>0.28</td>\n",
       "      <td>0.28</td>\n",
       "      <td>0.12</td>\n",
       "      <td>0.12</td>\n",
       "      <td>0.47</td>\n",
       "      <td>19.50</td>\n",
       "    </tr>\n",
       "    <tr>\n",
       "      <th>MEDIAN</th>\n",
       "      <td>0.00</td>\n",
       "      <td>4.400000e+01</td>\n",
       "      <td>0.000000e+00</td>\n",
       "      <td>0.00</td>\n",
       "      <td>0.00</td>\n",
       "      <td>0.00</td>\n",
       "      <td>0.00</td>\n",
       "      <td>0.00</td>\n",
       "      <td>0.00</td>\n",
       "      <td>0.00</td>\n",
       "      <td>...</td>\n",
       "      <td>0.51</td>\n",
       "      <td>0.02</td>\n",
       "      <td>0.00</td>\n",
       "      <td>0.00</td>\n",
       "      <td>0.00</td>\n",
       "      <td>0.00</td>\n",
       "      <td>0.00</td>\n",
       "      <td>0.00</td>\n",
       "      <td>0.00</td>\n",
       "      <td>20.00</td>\n",
       "    </tr>\n",
       "    <tr>\n",
       "      <th>STD</th>\n",
       "      <td>2604.52</td>\n",
       "      <td>5.870331e+06</td>\n",
       "      <td>4.021269e+06</td>\n",
       "      <td>0.01</td>\n",
       "      <td>0.25</td>\n",
       "      <td>0.01</td>\n",
       "      <td>2.15</td>\n",
       "      <td>0.05</td>\n",
       "      <td>0.49</td>\n",
       "      <td>23.94</td>\n",
       "      <td>...</td>\n",
       "      <td>0.45</td>\n",
       "      <td>0.19</td>\n",
       "      <td>0.31</td>\n",
       "      <td>0.11</td>\n",
       "      <td>0.44</td>\n",
       "      <td>0.45</td>\n",
       "      <td>0.31</td>\n",
       "      <td>0.32</td>\n",
       "      <td>0.50</td>\n",
       "      <td>2.29</td>\n",
       "    </tr>\n",
       "    <tr>\n",
       "      <th>VAR</th>\n",
       "      <td>6783500.00</td>\n",
       "      <td>3.446079e+13</td>\n",
       "      <td>1.617061e+13</td>\n",
       "      <td>0.00</td>\n",
       "      <td>0.06</td>\n",
       "      <td>0.00</td>\n",
       "      <td>4.62</td>\n",
       "      <td>0.00</td>\n",
       "      <td>0.24</td>\n",
       "      <td>573.22</td>\n",
       "      <td>...</td>\n",
       "      <td>0.20</td>\n",
       "      <td>0.04</td>\n",
       "      <td>0.10</td>\n",
       "      <td>0.01</td>\n",
       "      <td>0.20</td>\n",
       "      <td>0.20</td>\n",
       "      <td>0.09</td>\n",
       "      <td>0.10</td>\n",
       "      <td>0.25</td>\n",
       "      <td>5.25</td>\n",
       "    </tr>\n",
       "    <tr>\n",
       "      <th>MIN</th>\n",
       "      <td>0.00</td>\n",
       "      <td>0.000000e+00</td>\n",
       "      <td>0.000000e+00</td>\n",
       "      <td>0.00</td>\n",
       "      <td>0.00</td>\n",
       "      <td>0.00</td>\n",
       "      <td>0.00</td>\n",
       "      <td>0.00</td>\n",
       "      <td>0.00</td>\n",
       "      <td>0.00</td>\n",
       "      <td>...</td>\n",
       "      <td>0.00</td>\n",
       "      <td>0.00</td>\n",
       "      <td>0.00</td>\n",
       "      <td>0.00</td>\n",
       "      <td>0.00</td>\n",
       "      <td>0.00</td>\n",
       "      <td>0.00</td>\n",
       "      <td>0.00</td>\n",
       "      <td>0.00</td>\n",
       "      <td>0.00</td>\n",
       "    </tr>\n",
       "    <tr>\n",
       "      <th>P1</th>\n",
       "      <td>0.00</td>\n",
       "      <td>0.000000e+00</td>\n",
       "      <td>0.000000e+00</td>\n",
       "      <td>0.00</td>\n",
       "      <td>0.00</td>\n",
       "      <td>0.00</td>\n",
       "      <td>0.00</td>\n",
       "      <td>0.00</td>\n",
       "      <td>0.00</td>\n",
       "      <td>0.00</td>\n",
       "      <td>...</td>\n",
       "      <td>0.00</td>\n",
       "      <td>0.00</td>\n",
       "      <td>0.00</td>\n",
       "      <td>0.00</td>\n",
       "      <td>0.00</td>\n",
       "      <td>0.00</td>\n",
       "      <td>0.00</td>\n",
       "      <td>0.00</td>\n",
       "      <td>0.00</td>\n",
       "      <td>11.00</td>\n",
       "    </tr>\n",
       "    <tr>\n",
       "      <th>P5</th>\n",
       "      <td>0.00</td>\n",
       "      <td>0.000000e+00</td>\n",
       "      <td>0.000000e+00</td>\n",
       "      <td>0.00</td>\n",
       "      <td>0.00</td>\n",
       "      <td>0.00</td>\n",
       "      <td>0.00</td>\n",
       "      <td>0.00</td>\n",
       "      <td>0.00</td>\n",
       "      <td>0.00</td>\n",
       "      <td>...</td>\n",
       "      <td>0.00</td>\n",
       "      <td>0.00</td>\n",
       "      <td>0.00</td>\n",
       "      <td>0.00</td>\n",
       "      <td>0.00</td>\n",
       "      <td>0.00</td>\n",
       "      <td>0.00</td>\n",
       "      <td>0.00</td>\n",
       "      <td>0.00</td>\n",
       "      <td>15.00</td>\n",
       "    </tr>\n",
       "    <tr>\n",
       "      <th>P10</th>\n",
       "      <td>0.00</td>\n",
       "      <td>0.000000e+00</td>\n",
       "      <td>0.000000e+00</td>\n",
       "      <td>0.00</td>\n",
       "      <td>0.00</td>\n",
       "      <td>0.00</td>\n",
       "      <td>0.00</td>\n",
       "      <td>0.00</td>\n",
       "      <td>0.00</td>\n",
       "      <td>0.00</td>\n",
       "      <td>...</td>\n",
       "      <td>0.01</td>\n",
       "      <td>0.00</td>\n",
       "      <td>0.00</td>\n",
       "      <td>0.00</td>\n",
       "      <td>0.00</td>\n",
       "      <td>0.00</td>\n",
       "      <td>0.00</td>\n",
       "      <td>0.00</td>\n",
       "      <td>0.00</td>\n",
       "      <td>17.00</td>\n",
       "    </tr>\n",
       "    <tr>\n",
       "      <th>P25</th>\n",
       "      <td>0.00</td>\n",
       "      <td>0.000000e+00</td>\n",
       "      <td>0.000000e+00</td>\n",
       "      <td>0.00</td>\n",
       "      <td>0.00</td>\n",
       "      <td>0.00</td>\n",
       "      <td>0.00</td>\n",
       "      <td>0.00</td>\n",
       "      <td>0.00</td>\n",
       "      <td>0.00</td>\n",
       "      <td>...</td>\n",
       "      <td>0.05</td>\n",
       "      <td>0.00</td>\n",
       "      <td>0.00</td>\n",
       "      <td>0.00</td>\n",
       "      <td>0.00</td>\n",
       "      <td>0.00</td>\n",
       "      <td>0.00</td>\n",
       "      <td>0.00</td>\n",
       "      <td>0.00</td>\n",
       "      <td>18.00</td>\n",
       "    </tr>\n",
       "    <tr>\n",
       "      <th>P50</th>\n",
       "      <td>0.00</td>\n",
       "      <td>4.400000e+01</td>\n",
       "      <td>0.000000e+00</td>\n",
       "      <td>0.00</td>\n",
       "      <td>0.00</td>\n",
       "      <td>0.00</td>\n",
       "      <td>0.00</td>\n",
       "      <td>0.00</td>\n",
       "      <td>0.00</td>\n",
       "      <td>0.00</td>\n",
       "      <td>...</td>\n",
       "      <td>0.51</td>\n",
       "      <td>0.02</td>\n",
       "      <td>0.00</td>\n",
       "      <td>0.00</td>\n",
       "      <td>0.00</td>\n",
       "      <td>0.00</td>\n",
       "      <td>0.00</td>\n",
       "      <td>0.00</td>\n",
       "      <td>0.00</td>\n",
       "      <td>20.00</td>\n",
       "    </tr>\n",
       "    <tr>\n",
       "      <th>P75</th>\n",
       "      <td>0.00</td>\n",
       "      <td>2.760000e+02</td>\n",
       "      <td>5.160000e+02</td>\n",
       "      <td>0.00</td>\n",
       "      <td>0.00</td>\n",
       "      <td>0.00</td>\n",
       "      <td>0.00</td>\n",
       "      <td>0.00</td>\n",
       "      <td>1.00</td>\n",
       "      <td>0.00</td>\n",
       "      <td>...</td>\n",
       "      <td>1.00</td>\n",
       "      <td>0.07</td>\n",
       "      <td>0.06</td>\n",
       "      <td>0.02</td>\n",
       "      <td>1.00</td>\n",
       "      <td>1.00</td>\n",
       "      <td>0.00</td>\n",
       "      <td>0.00</td>\n",
       "      <td>1.00</td>\n",
       "      <td>21.00</td>\n",
       "    </tr>\n",
       "    <tr>\n",
       "      <th>P90</th>\n",
       "      <td>0.00</td>\n",
       "      <td>8.480000e+02</td>\n",
       "      <td>3.375800e+03</td>\n",
       "      <td>0.00</td>\n",
       "      <td>0.00</td>\n",
       "      <td>0.00</td>\n",
       "      <td>0.00</td>\n",
       "      <td>0.00</td>\n",
       "      <td>1.00</td>\n",
       "      <td>0.00</td>\n",
       "      <td>...</td>\n",
       "      <td>1.00</td>\n",
       "      <td>0.10</td>\n",
       "      <td>0.84</td>\n",
       "      <td>0.05</td>\n",
       "      <td>1.00</td>\n",
       "      <td>1.00</td>\n",
       "      <td>0.84</td>\n",
       "      <td>1.00</td>\n",
       "      <td>1.00</td>\n",
       "      <td>21.00</td>\n",
       "    </tr>\n",
       "    <tr>\n",
       "      <th>P95</th>\n",
       "      <td>4.00</td>\n",
       "      <td>1.480000e+03</td>\n",
       "      <td>8.314000e+03</td>\n",
       "      <td>0.00</td>\n",
       "      <td>0.00</td>\n",
       "      <td>0.00</td>\n",
       "      <td>0.00</td>\n",
       "      <td>0.00</td>\n",
       "      <td>1.00</td>\n",
       "      <td>0.00</td>\n",
       "      <td>...</td>\n",
       "      <td>1.00</td>\n",
       "      <td>0.56</td>\n",
       "      <td>1.00</td>\n",
       "      <td>0.18</td>\n",
       "      <td>1.00</td>\n",
       "      <td>1.00</td>\n",
       "      <td>1.00</td>\n",
       "      <td>1.00</td>\n",
       "      <td>1.00</td>\n",
       "      <td>21.00</td>\n",
       "    </tr>\n",
       "    <tr>\n",
       "      <th>P99</th>\n",
       "      <td>9590.56</td>\n",
       "      <td>5.454000e+04</td>\n",
       "      <td>2.551900e+04</td>\n",
       "      <td>0.00</td>\n",
       "      <td>0.00</td>\n",
       "      <td>0.00</td>\n",
       "      <td>3.00</td>\n",
       "      <td>0.00</td>\n",
       "      <td>1.00</td>\n",
       "      <td>1.00</td>\n",
       "      <td>...</td>\n",
       "      <td>1.00</td>\n",
       "      <td>1.00</td>\n",
       "      <td>1.00</td>\n",
       "      <td>0.52</td>\n",
       "      <td>1.00</td>\n",
       "      <td>1.00</td>\n",
       "      <td>1.00</td>\n",
       "      <td>1.00</td>\n",
       "      <td>1.00</td>\n",
       "      <td>21.00</td>\n",
       "    </tr>\n",
       "    <tr>\n",
       "      <th>MAX</th>\n",
       "      <td>42908.00</td>\n",
       "      <td>1.379964e+09</td>\n",
       "      <td>1.309937e+09</td>\n",
       "      <td>1.00</td>\n",
       "      <td>3.00</td>\n",
       "      <td>3.00</td>\n",
       "      <td>77.00</td>\n",
       "      <td>5.00</td>\n",
       "      <td>1.00</td>\n",
       "      <td>7479.00</td>\n",
       "      <td>...</td>\n",
       "      <td>1.00</td>\n",
       "      <td>1.00</td>\n",
       "      <td>1.00</td>\n",
       "      <td>1.00</td>\n",
       "      <td>1.00</td>\n",
       "      <td>1.00</td>\n",
       "      <td>1.00</td>\n",
       "      <td>1.00</td>\n",
       "      <td>1.00</td>\n",
       "      <td>21.00</td>\n",
       "    </tr>\n",
       "  </tbody>\n",
       "</table>\n",
       "<p>18 rows × 40 columns</p>\n",
       "</div>"
      ],
      "text/plain": [
       "           duration     src_bytes     dst_bytes       land  wrong_fragment  \\\n",
       "N         125973.00  1.259730e+05  1.259730e+05  125973.00       125973.00   \n",
       "NMISS          0.00  0.000000e+00  0.000000e+00       0.00            0.00   \n",
       "SUM     36172473.00  5.740179e+09  2.491634e+09      25.00         2858.00   \n",
       "MEAN         287.14  4.556674e+04  1.977911e+04       0.00            0.02   \n",
       "MEDIAN         0.00  4.400000e+01  0.000000e+00       0.00            0.00   \n",
       "STD         2604.52  5.870331e+06  4.021269e+06       0.01            0.25   \n",
       "VAR      6783500.00  3.446079e+13  1.617061e+13       0.00            0.06   \n",
       "MIN            0.00  0.000000e+00  0.000000e+00       0.00            0.00   \n",
       "P1             0.00  0.000000e+00  0.000000e+00       0.00            0.00   \n",
       "P5             0.00  0.000000e+00  0.000000e+00       0.00            0.00   \n",
       "P10            0.00  0.000000e+00  0.000000e+00       0.00            0.00   \n",
       "P25            0.00  0.000000e+00  0.000000e+00       0.00            0.00   \n",
       "P50            0.00  4.400000e+01  0.000000e+00       0.00            0.00   \n",
       "P75            0.00  2.760000e+02  5.160000e+02       0.00            0.00   \n",
       "P90            0.00  8.480000e+02  3.375800e+03       0.00            0.00   \n",
       "P95            4.00  1.480000e+03  8.314000e+03       0.00            0.00   \n",
       "P99         9590.56  5.454000e+04  2.551900e+04       0.00            0.00   \n",
       "MAX        42908.00  1.379964e+09  1.309937e+09       1.00            3.00   \n",
       "\n",
       "           urgent        hot  num_failed_logins  logged_in  num_compromised  \\\n",
       "N       125973.00  125973.00          125973.00  125973.00        125973.00   \n",
       "NMISS        0.00       0.00               0.00       0.00             0.00   \n",
       "SUM         14.00   25750.00             154.00   49852.00         35178.00   \n",
       "MEAN         0.00       0.20               0.00       0.40             0.28   \n",
       "MEDIAN       0.00       0.00               0.00       0.00             0.00   \n",
       "STD          0.01       2.15               0.05       0.49            23.94   \n",
       "VAR          0.00       4.62               0.00       0.24           573.22   \n",
       "MIN          0.00       0.00               0.00       0.00             0.00   \n",
       "P1           0.00       0.00               0.00       0.00             0.00   \n",
       "P5           0.00       0.00               0.00       0.00             0.00   \n",
       "P10          0.00       0.00               0.00       0.00             0.00   \n",
       "P25          0.00       0.00               0.00       0.00             0.00   \n",
       "P50          0.00       0.00               0.00       0.00             0.00   \n",
       "P75          0.00       0.00               0.00       1.00             0.00   \n",
       "P90          0.00       0.00               0.00       1.00             0.00   \n",
       "P95          0.00       0.00               0.00       1.00             0.00   \n",
       "P99          0.00       3.00               0.00       1.00             1.00   \n",
       "MAX          3.00      77.00               5.00       1.00          7479.00   \n",
       "\n",
       "        ...  dst_host_same_srv_rate  dst_host_diff_srv_rate  \\\n",
       "N       ...               125973.00               125973.00   \n",
       "NMISS   ...                    0.00                    0.00   \n",
       "SUM     ...                65662.38                10449.60   \n",
       "MEAN    ...                    0.52                    0.08   \n",
       "MEDIAN  ...                    0.51                    0.02   \n",
       "STD     ...                    0.45                    0.19   \n",
       "VAR     ...                    0.20                    0.04   \n",
       "MIN     ...                    0.00                    0.00   \n",
       "P1      ...                    0.00                    0.00   \n",
       "P5      ...                    0.00                    0.00   \n",
       "P10     ...                    0.01                    0.00   \n",
       "P25     ...                    0.05                    0.00   \n",
       "P50     ...                    0.51                    0.02   \n",
       "P75     ...                    1.00                    0.07   \n",
       "P90     ...                    1.00                    0.10   \n",
       "P95     ...                    1.00                    0.56   \n",
       "P99     ...                    1.00                    1.00   \n",
       "MAX     ...                    1.00                    1.00   \n",
       "\n",
       "        dst_host_same_src_port_rate  dst_host_srv_diff_host_rate  \\\n",
       "N                         125973.00                    125973.00   \n",
       "NMISS                          0.00                         0.00   \n",
       "SUM                        18691.73                      4099.47   \n",
       "MEAN                           0.15                         0.03   \n",
       "MEDIAN                         0.00                         0.00   \n",
       "STD                            0.31                         0.11   \n",
       "VAR                            0.10                         0.01   \n",
       "MIN                            0.00                         0.00   \n",
       "P1                             0.00                         0.00   \n",
       "P5                             0.00                         0.00   \n",
       "P10                            0.00                         0.00   \n",
       "P25                            0.00                         0.00   \n",
       "P50                            0.00                         0.00   \n",
       "P75                            0.06                         0.02   \n",
       "P90                            0.84                         0.05   \n",
       "P95                            1.00                         0.18   \n",
       "P99                            1.00                         0.52   \n",
       "MAX                            1.00                         1.00   \n",
       "\n",
       "        dst_host_serror_rate  dst_host_srv_serror_rate  dst_host_rerror_rate  \\\n",
       "N                  125973.00                 125973.00             125973.00   \n",
       "NMISS                   0.00                      0.00                  0.00   \n",
       "SUM                 35833.33                  35081.53              14969.60   \n",
       "MEAN                    0.28                      0.28                  0.12   \n",
       "MEDIAN                  0.00                      0.00                  0.00   \n",
       "STD                     0.44                      0.45                  0.31   \n",
       "VAR                     0.20                      0.20                  0.09   \n",
       "MIN                     0.00                      0.00                  0.00   \n",
       "P1                      0.00                      0.00                  0.00   \n",
       "P5                      0.00                      0.00                  0.00   \n",
       "P10                     0.00                      0.00                  0.00   \n",
       "P25                     0.00                      0.00                  0.00   \n",
       "P50                     0.00                      0.00                  0.00   \n",
       "P75                     1.00                      1.00                  0.00   \n",
       "P90                     1.00                      1.00                  0.84   \n",
       "P95                     1.00                      1.00                  1.00   \n",
       "P99                     1.00                      1.00                  1.00   \n",
       "MAX                     1.00                      1.00                  1.00   \n",
       "\n",
       "        dst_host_srv_rerror_rate     attack   last_flag  \n",
       "N                      125973.00  125973.00   125973.00  \n",
       "NMISS                       0.00       0.00        0.00  \n",
       "SUM                     15146.98   58630.00  2456985.00  \n",
       "MEAN                        0.12       0.47       19.50  \n",
       "MEDIAN                      0.00       0.00       20.00  \n",
       "STD                         0.32       0.50        2.29  \n",
       "VAR                         0.10       0.25        5.25  \n",
       "MIN                         0.00       0.00        0.00  \n",
       "P1                          0.00       0.00       11.00  \n",
       "P5                          0.00       0.00       15.00  \n",
       "P10                         0.00       0.00       17.00  \n",
       "P25                         0.00       0.00       18.00  \n",
       "P50                         0.00       0.00       20.00  \n",
       "P75                         0.00       1.00       21.00  \n",
       "P90                         1.00       1.00       21.00  \n",
       "P95                         1.00       1.00       21.00  \n",
       "P99                         1.00       1.00       21.00  \n",
       "MAX                         1.00       1.00       21.00  \n",
       "\n",
       "[18 rows x 40 columns]"
      ]
     },
     "execution_count": 26,
     "metadata": {},
     "output_type": "execute_result"
    }
   ],
   "source": [
    "#Data report for checking null values and outlier data and summary.\n",
    "\n",
    "df_train_cont.apply(continuous_var_summary).round(2)\n",
    "\n",
    "#We found that we have outlier data. We will treat it below.\n",
    "#There are no null values."
   ]
  },
  {
   "cell_type": "code",
   "execution_count": 27,
   "metadata": {
    "ExecuteTime": {
     "end_time": "2020-04-13T07:53:54.736989Z",
     "start_time": "2020-04-13T07:53:54.637117Z"
    }
   },
   "outputs": [
    {
     "data": {
      "text/html": [
       "<div>\n",
       "<style scoped>\n",
       "    .dataframe tbody tr th:only-of-type {\n",
       "        vertical-align: middle;\n",
       "    }\n",
       "\n",
       "    .dataframe tbody tr th {\n",
       "        vertical-align: top;\n",
       "    }\n",
       "\n",
       "    .dataframe thead th {\n",
       "        text-align: right;\n",
       "    }\n",
       "</style>\n",
       "<table border=\"1\" class=\"dataframe\">\n",
       "  <thead>\n",
       "    <tr style=\"text-align: right;\">\n",
       "      <th></th>\n",
       "      <th>protocol_type</th>\n",
       "      <th>service</th>\n",
       "      <th>flag</th>\n",
       "    </tr>\n",
       "  </thead>\n",
       "  <tbody>\n",
       "    <tr>\n",
       "      <th>N</th>\n",
       "      <td>125973</td>\n",
       "      <td>125973</td>\n",
       "      <td>125973</td>\n",
       "    </tr>\n",
       "    <tr>\n",
       "      <th>NMISS</th>\n",
       "      <td>0</td>\n",
       "      <td>0</td>\n",
       "      <td>0</td>\n",
       "    </tr>\n",
       "    <tr>\n",
       "      <th>MODE</th>\n",
       "      <td>tcp</td>\n",
       "      <td>http</td>\n",
       "      <td>SF</td>\n",
       "    </tr>\n",
       "    <tr>\n",
       "      <th>FREQ</th>\n",
       "      <td>102689</td>\n",
       "      <td>40338</td>\n",
       "      <td>74945</td>\n",
       "    </tr>\n",
       "    <tr>\n",
       "      <th>PERCENT</th>\n",
       "      <td>81.52</td>\n",
       "      <td>32.02</td>\n",
       "      <td>59.49</td>\n",
       "    </tr>\n",
       "  </tbody>\n",
       "</table>\n",
       "</div>"
      ],
      "text/plain": [
       "        protocol_type service    flag\n",
       "N              125973  125973  125973\n",
       "NMISS               0       0       0\n",
       "MODE              tcp    http      SF\n",
       "FREQ           102689   40338   74945\n",
       "PERCENT         81.52   32.02   59.49"
      ]
     },
     "execution_count": 27,
     "metadata": {},
     "output_type": "execute_result"
    }
   ],
   "source": [
    "df_train_cat.apply(categorical_var_summary)"
   ]
  },
  {
   "cell_type": "code",
   "execution_count": 28,
   "metadata": {
    "ExecuteTime": {
     "end_time": "2020-04-13T07:53:55.279884Z",
     "start_time": "2020-04-13T07:53:54.771963Z"
    }
   },
   "outputs": [],
   "source": [
    "#We found that we had outlier data in the summary so handling outliers.\n",
    "\n",
    "\n",
    "def outlier_capping(x):\n",
    "    x = x.clip(upper=x.quantile(0.99))\n",
    "    x = x.clip(lower=x.quantile(0.01))\n",
    "    return x\n",
    "\n",
    "\n",
    "df_train_cont = df_train_cont.apply(outlier_capping)\n",
    "df_test_cont = df_test_cont.apply(outlier_capping)"
   ]
  },
  {
   "cell_type": "markdown",
   "metadata": {},
   "source": [
    "## Basic exploratory data analsysis"
   ]
  },
  {
   "cell_type": "code",
   "execution_count": 29,
   "metadata": {
    "ExecuteTime": {
     "end_time": "2020-04-13T07:54:37.183131Z",
     "start_time": "2020-04-13T07:54:37.022008Z"
    }
   },
   "outputs": [
    {
     "data": {
      "image/png": "[encoded data removed]",
      "text/plain": [
       "<Figure size 720x576 with 1 Axes>"
      ]
     },
     "metadata": {
      "needs_background": "light"
     },
     "output_type": "display_data"
    }
   ],
   "source": [
    "# Protocol type distribution\n",
    "plt.figure(figsize=(10, 8))\n",
    "sns.countplot(x=\"protocol_type\",\n",
    "              data=df_train,\n",
    "              hue='protocol_type',\n",
    "              palette=\"Set3\")\n",
    "plt.show()"
   ]
  },
  {
   "cell_type": "code",
   "execution_count": 30,
   "metadata": {
    "ExecuteTime": {
     "end_time": "2020-04-13T07:54:45.225143Z",
     "start_time": "2020-04-13T07:54:44.575643Z"
    }
   },
   "outputs": [
    {
     "data": {
      "image/png": "[encoded data removed]",
      "text/plain": [
       "<Figure size 1080x864 with 1 Axes>"
      ]
     },
     "metadata": {
      "needs_background": "light"
     },
     "output_type": "display_data"
    }
   ],
   "source": [
    "# service distribution\n",
    "plt.figure(figsize=(15, 12))\n",
    "sns.countplot(y=\"service\", data=df_train, palette=\"hls\")\n",
    "plt.show()"
   ]
  },
  {
   "cell_type": "code",
   "execution_count": 31,
   "metadata": {
    "ExecuteTime": {
     "end_time": "2020-04-13T07:54:55.948388Z",
     "start_time": "2020-04-13T07:54:55.765368Z"
    }
   },
   "outputs": [
    {
     "data": {
      "image/png": "[encoded data removed]",
      "text/plain": [
       "<Figure size 720x576 with 1 Axes>"
      ]
     },
     "metadata": {
      "needs_background": "light"
     },
     "output_type": "display_data"
    }
   ],
   "source": [
    "# flag distribution\n",
    "plt.figure(figsize=(10, 8))\n",
    "sns.countplot(x=\"flag\", data=df_train, palette=\"Set3\")\n",
    "plt.show()"
   ]
  },
  {
   "cell_type": "code",
   "execution_count": 32,
   "metadata": {
    "ExecuteTime": {
     "end_time": "2020-04-13T07:55:06.133559Z",
     "start_time": "2020-04-13T07:55:06.124554Z"
    }
   },
   "outputs": [
    {
     "data": {
      "text/plain": [
       "0    67343\n",
       "1    58630\n",
       "Name: attack, dtype: int64"
      ]
     },
     "execution_count": 32,
     "metadata": {},
     "output_type": "execute_result"
    }
   ],
   "source": [
    "#Label column to diagnose the attack values\n",
    "df_train.attack.value_counts()"
   ]
  },
  {
   "cell_type": "code",
   "execution_count": 33,
   "metadata": {
    "ExecuteTime": {
     "end_time": "2020-04-13T07:55:13.712604Z",
     "start_time": "2020-04-13T07:55:13.608882Z"
    }
   },
   "outputs": [
    {
     "name": "stdout",
     "output_type": "stream",
     "text": [
      "0    67343\n",
      "1    58630\n",
      "Name: attack, dtype: int64\n"
     ]
    },
    {
     "data": {
      "image/png": "[encoded data removed]",
      "text/plain": [
       "<Figure size 432x288 with 1 Axes>"
      ]
     },
     "metadata": {
      "needs_background": "light"
     },
     "output_type": "display_data"
    }
   ],
   "source": [
    "#Checking if the y variable is skewed or not\n",
    "\n",
    "sns.countplot(x='attack', data=df_train, palette='Paired')\n",
    "\n",
    "print(df_train.attack.value_counts())\n",
    "\n",
    "#The y variable is not skewed so we dont need to do sampling of the data."
   ]
  },
  {
   "cell_type": "code",
   "execution_count": 34,
   "metadata": {
    "ExecuteTime": {
     "end_time": "2020-04-13T07:55:25.692342Z",
     "start_time": "2020-04-13T07:55:25.590569Z"
    }
   },
   "outputs": [
    {
     "name": "stdout",
     "output_type": "stream",
     "text": [
      "1    12833\n",
      "0     9711\n",
      "Name: attack, dtype: int64\n"
     ]
    },
    {
     "data": {
      "image/png": "[encoded data removed]",
      "text/plain": [
       "<Figure size 432x288 with 1 Axes>"
      ]
     },
     "metadata": {
      "needs_background": "light"
     },
     "output_type": "display_data"
    }
   ],
   "source": [
    "#Checking if the y variable is skewed or not\n",
    "\n",
    "sns.countplot(x='attack', data=df_test, palette='Paired')\n",
    "\n",
    "print(df_test.attack.value_counts())\n",
    "\n",
    "#The y variable is not skewed so we dont need to do sampling of the data."
   ]
  },
  {
   "cell_type": "code",
   "execution_count": 35,
   "metadata": {
    "ExecuteTime": {
     "end_time": "2020-04-13T07:55:50.481385Z",
     "start_time": "2020-04-13T07:55:50.361740Z"
    }
   },
   "outputs": [],
   "source": [
    "#Creating Dummy Variables for the nominal categorical variables\n",
    "\n",
    "cat_dummies = ['protocol_type', 'service', 'flag']\n",
    "#for c_feature in categorical_features\n",
    "\n",
    "# for c_feature in categorical_features\n",
    "for c_feature in [cat_dummies]:\n",
    "    df_train_cat[c_feature] = df_train_cat[c_feature].astype('category')\n",
    "    df_train_cat = create_dummies(df_train_cat, c_feature)"
   ]
  },
  {
   "cell_type": "code",
   "execution_count": 36,
   "metadata": {
    "ExecuteTime": {
     "end_time": "2020-04-13T07:56:08.767597Z",
     "start_time": "2020-04-13T07:56:08.753636Z"
    }
   },
   "outputs": [
    {
     "data": {
      "text/html": [
       "<div>\n",
       "<style scoped>\n",
       "    .dataframe tbody tr th:only-of-type {\n",
       "        vertical-align: middle;\n",
       "    }\n",
       "\n",
       "    .dataframe tbody tr th {\n",
       "        vertical-align: top;\n",
       "    }\n",
       "\n",
       "    .dataframe thead th {\n",
       "        text-align: right;\n",
       "    }\n",
       "</style>\n",
       "<table border=\"1\" class=\"dataframe\">\n",
       "  <thead>\n",
       "    <tr style=\"text-align: right;\">\n",
       "      <th></th>\n",
       "      <th>protocol_type_tcp</th>\n",
       "      <th>protocol_type_udp</th>\n",
       "      <th>service_X11</th>\n",
       "      <th>service_Z39_50</th>\n",
       "      <th>service_aol</th>\n",
       "      <th>service_auth</th>\n",
       "      <th>service_bgp</th>\n",
       "      <th>service_courier</th>\n",
       "      <th>service_csnet_ns</th>\n",
       "      <th>service_ctf</th>\n",
       "      <th>...</th>\n",
       "      <th>flag_REJ</th>\n",
       "      <th>flag_RSTO</th>\n",
       "      <th>flag_RSTOS0</th>\n",
       "      <th>flag_RSTR</th>\n",
       "      <th>flag_S0</th>\n",
       "      <th>flag_S1</th>\n",
       "      <th>flag_S2</th>\n",
       "      <th>flag_S3</th>\n",
       "      <th>flag_SF</th>\n",
       "      <th>flag_SH</th>\n",
       "    </tr>\n",
       "  </thead>\n",
       "  <tbody>\n",
       "    <tr>\n",
       "      <th>0</th>\n",
       "      <td>1</td>\n",
       "      <td>0</td>\n",
       "      <td>0</td>\n",
       "      <td>0</td>\n",
       "      <td>0</td>\n",
       "      <td>0</td>\n",
       "      <td>0</td>\n",
       "      <td>0</td>\n",
       "      <td>0</td>\n",
       "      <td>0</td>\n",
       "      <td>...</td>\n",
       "      <td>0</td>\n",
       "      <td>0</td>\n",
       "      <td>0</td>\n",
       "      <td>0</td>\n",
       "      <td>0</td>\n",
       "      <td>0</td>\n",
       "      <td>0</td>\n",
       "      <td>0</td>\n",
       "      <td>1</td>\n",
       "      <td>0</td>\n",
       "    </tr>\n",
       "    <tr>\n",
       "      <th>1</th>\n",
       "      <td>0</td>\n",
       "      <td>1</td>\n",
       "      <td>0</td>\n",
       "      <td>0</td>\n",
       "      <td>0</td>\n",
       "      <td>0</td>\n",
       "      <td>0</td>\n",
       "      <td>0</td>\n",
       "      <td>0</td>\n",
       "      <td>0</td>\n",
       "      <td>...</td>\n",
       "      <td>0</td>\n",
       "      <td>0</td>\n",
       "      <td>0</td>\n",
       "      <td>0</td>\n",
       "      <td>0</td>\n",
       "      <td>0</td>\n",
       "      <td>0</td>\n",
       "      <td>0</td>\n",
       "      <td>1</td>\n",
       "      <td>0</td>\n",
       "    </tr>\n",
       "    <tr>\n",
       "      <th>2</th>\n",
       "      <td>1</td>\n",
       "      <td>0</td>\n",
       "      <td>0</td>\n",
       "      <td>0</td>\n",
       "      <td>0</td>\n",
       "      <td>0</td>\n",
       "      <td>0</td>\n",
       "      <td>0</td>\n",
       "      <td>0</td>\n",
       "      <td>0</td>\n",
       "      <td>...</td>\n",
       "      <td>0</td>\n",
       "      <td>0</td>\n",
       "      <td>0</td>\n",
       "      <td>0</td>\n",
       "      <td>1</td>\n",
       "      <td>0</td>\n",
       "      <td>0</td>\n",
       "      <td>0</td>\n",
       "      <td>0</td>\n",
       "      <td>0</td>\n",
       "    </tr>\n",
       "    <tr>\n",
       "      <th>3</th>\n",
       "      <td>1</td>\n",
       "      <td>0</td>\n",
       "      <td>0</td>\n",
       "      <td>0</td>\n",
       "      <td>0</td>\n",
       "      <td>0</td>\n",
       "      <td>0</td>\n",
       "      <td>0</td>\n",
       "      <td>0</td>\n",
       "      <td>0</td>\n",
       "      <td>...</td>\n",
       "      <td>0</td>\n",
       "      <td>0</td>\n",
       "      <td>0</td>\n",
       "      <td>0</td>\n",
       "      <td>0</td>\n",
       "      <td>0</td>\n",
       "      <td>0</td>\n",
       "      <td>0</td>\n",
       "      <td>1</td>\n",
       "      <td>0</td>\n",
       "    </tr>\n",
       "    <tr>\n",
       "      <th>4</th>\n",
       "      <td>1</td>\n",
       "      <td>0</td>\n",
       "      <td>0</td>\n",
       "      <td>0</td>\n",
       "      <td>0</td>\n",
       "      <td>0</td>\n",
       "      <td>0</td>\n",
       "      <td>0</td>\n",
       "      <td>0</td>\n",
       "      <td>0</td>\n",
       "      <td>...</td>\n",
       "      <td>0</td>\n",
       "      <td>0</td>\n",
       "      <td>0</td>\n",
       "      <td>0</td>\n",
       "      <td>0</td>\n",
       "      <td>0</td>\n",
       "      <td>0</td>\n",
       "      <td>0</td>\n",
       "      <td>1</td>\n",
       "      <td>0</td>\n",
       "    </tr>\n",
       "  </tbody>\n",
       "</table>\n",
       "<p>5 rows × 81 columns</p>\n",
       "</div>"
      ],
      "text/plain": [
       "   protocol_type_tcp  protocol_type_udp  service_X11  service_Z39_50  \\\n",
       "0                  1                  0            0               0   \n",
       "1                  0                  1            0               0   \n",
       "2                  1                  0            0               0   \n",
       "3                  1                  0            0               0   \n",
       "4                  1                  0            0               0   \n",
       "\n",
       "   service_aol  service_auth  service_bgp  service_courier  service_csnet_ns  \\\n",
       "0            0             0            0                0                 0   \n",
       "1            0             0            0                0                 0   \n",
       "2            0             0            0                0                 0   \n",
       "3            0             0            0                0                 0   \n",
       "4            0             0            0                0                 0   \n",
       "\n",
       "   service_ctf  ...  flag_REJ  flag_RSTO  flag_RSTOS0  flag_RSTR  flag_S0  \\\n",
       "0            0  ...         0          0            0          0        0   \n",
       "1            0  ...         0          0            0          0        0   \n",
       "2            0  ...         0          0            0          0        1   \n",
       "3            0  ...         0          0            0          0        0   \n",
       "4            0  ...         0          0            0          0        0   \n",
       "\n",
       "   flag_S1  flag_S2  flag_S3  flag_SF  flag_SH  \n",
       "0        0        0        0        1        0  \n",
       "1        0        0        0        1        0  \n",
       "2        0        0        0        0        0  \n",
       "3        0        0        0        1        0  \n",
       "4        0        0        0        1        0  \n",
       "\n",
       "[5 rows x 81 columns]"
      ]
     },
     "execution_count": 36,
     "metadata": {},
     "output_type": "execute_result"
    }
   ],
   "source": [
    "df_train_cat.head()"
   ]
  },
  {
   "cell_type": "code",
   "execution_count": 37,
   "metadata": {
    "ExecuteTime": {
     "end_time": "2020-04-13T07:56:15.485936Z",
     "start_time": "2020-04-13T07:56:15.460972Z"
    }
   },
   "outputs": [],
   "source": [
    "# for c_feature in categorical_features\n",
    "for c_feature in [cat_dummies]:\n",
    "    df_test_cat[c_feature] = df_test_cat[c_feature].astype('category')\n",
    "    df_test_cat = create_dummies(df_test_cat, c_feature)"
   ]
  },
  {
   "cell_type": "code",
   "execution_count": 38,
   "metadata": {
    "ExecuteTime": {
     "end_time": "2020-04-13T07:56:22.387120Z",
     "start_time": "2020-04-13T07:56:22.373160Z"
    }
   },
   "outputs": [
    {
     "data": {
      "text/html": [
       "<div>\n",
       "<style scoped>\n",
       "    .dataframe tbody tr th:only-of-type {\n",
       "        vertical-align: middle;\n",
       "    }\n",
       "\n",
       "    .dataframe tbody tr th {\n",
       "        vertical-align: top;\n",
       "    }\n",
       "\n",
       "    .dataframe thead th {\n",
       "        text-align: right;\n",
       "    }\n",
       "</style>\n",
       "<table border=\"1\" class=\"dataframe\">\n",
       "  <thead>\n",
       "    <tr style=\"text-align: right;\">\n",
       "      <th></th>\n",
       "      <th>protocol_type_tcp</th>\n",
       "      <th>protocol_type_udp</th>\n",
       "      <th>service_X11</th>\n",
       "      <th>service_Z39_50</th>\n",
       "      <th>service_auth</th>\n",
       "      <th>service_bgp</th>\n",
       "      <th>service_courier</th>\n",
       "      <th>service_csnet_ns</th>\n",
       "      <th>service_ctf</th>\n",
       "      <th>service_daytime</th>\n",
       "      <th>...</th>\n",
       "      <th>flag_REJ</th>\n",
       "      <th>flag_RSTO</th>\n",
       "      <th>flag_RSTOS0</th>\n",
       "      <th>flag_RSTR</th>\n",
       "      <th>flag_S0</th>\n",
       "      <th>flag_S1</th>\n",
       "      <th>flag_S2</th>\n",
       "      <th>flag_S3</th>\n",
       "      <th>flag_SF</th>\n",
       "      <th>flag_SH</th>\n",
       "    </tr>\n",
       "  </thead>\n",
       "  <tbody>\n",
       "    <tr>\n",
       "      <th>0</th>\n",
       "      <td>1</td>\n",
       "      <td>0</td>\n",
       "      <td>0</td>\n",
       "      <td>0</td>\n",
       "      <td>0</td>\n",
       "      <td>0</td>\n",
       "      <td>0</td>\n",
       "      <td>0</td>\n",
       "      <td>0</td>\n",
       "      <td>0</td>\n",
       "      <td>...</td>\n",
       "      <td>1</td>\n",
       "      <td>0</td>\n",
       "      <td>0</td>\n",
       "      <td>0</td>\n",
       "      <td>0</td>\n",
       "      <td>0</td>\n",
       "      <td>0</td>\n",
       "      <td>0</td>\n",
       "      <td>0</td>\n",
       "      <td>0</td>\n",
       "    </tr>\n",
       "    <tr>\n",
       "      <th>1</th>\n",
       "      <td>1</td>\n",
       "      <td>0</td>\n",
       "      <td>0</td>\n",
       "      <td>0</td>\n",
       "      <td>0</td>\n",
       "      <td>0</td>\n",
       "      <td>0</td>\n",
       "      <td>0</td>\n",
       "      <td>0</td>\n",
       "      <td>0</td>\n",
       "      <td>...</td>\n",
       "      <td>1</td>\n",
       "      <td>0</td>\n",
       "      <td>0</td>\n",
       "      <td>0</td>\n",
       "      <td>0</td>\n",
       "      <td>0</td>\n",
       "      <td>0</td>\n",
       "      <td>0</td>\n",
       "      <td>0</td>\n",
       "      <td>0</td>\n",
       "    </tr>\n",
       "    <tr>\n",
       "      <th>2</th>\n",
       "      <td>1</td>\n",
       "      <td>0</td>\n",
       "      <td>0</td>\n",
       "      <td>0</td>\n",
       "      <td>0</td>\n",
       "      <td>0</td>\n",
       "      <td>0</td>\n",
       "      <td>0</td>\n",
       "      <td>0</td>\n",
       "      <td>0</td>\n",
       "      <td>...</td>\n",
       "      <td>0</td>\n",
       "      <td>0</td>\n",
       "      <td>0</td>\n",
       "      <td>0</td>\n",
       "      <td>0</td>\n",
       "      <td>0</td>\n",
       "      <td>0</td>\n",
       "      <td>0</td>\n",
       "      <td>1</td>\n",
       "      <td>0</td>\n",
       "    </tr>\n",
       "    <tr>\n",
       "      <th>3</th>\n",
       "      <td>0</td>\n",
       "      <td>0</td>\n",
       "      <td>0</td>\n",
       "      <td>0</td>\n",
       "      <td>0</td>\n",
       "      <td>0</td>\n",
       "      <td>0</td>\n",
       "      <td>0</td>\n",
       "      <td>0</td>\n",
       "      <td>0</td>\n",
       "      <td>...</td>\n",
       "      <td>0</td>\n",
       "      <td>0</td>\n",
       "      <td>0</td>\n",
       "      <td>0</td>\n",
       "      <td>0</td>\n",
       "      <td>0</td>\n",
       "      <td>0</td>\n",
       "      <td>0</td>\n",
       "      <td>1</td>\n",
       "      <td>0</td>\n",
       "    </tr>\n",
       "    <tr>\n",
       "      <th>4</th>\n",
       "      <td>1</td>\n",
       "      <td>0</td>\n",
       "      <td>0</td>\n",
       "      <td>0</td>\n",
       "      <td>0</td>\n",
       "      <td>0</td>\n",
       "      <td>0</td>\n",
       "      <td>0</td>\n",
       "      <td>0</td>\n",
       "      <td>0</td>\n",
       "      <td>...</td>\n",
       "      <td>0</td>\n",
       "      <td>1</td>\n",
       "      <td>0</td>\n",
       "      <td>0</td>\n",
       "      <td>0</td>\n",
       "      <td>0</td>\n",
       "      <td>0</td>\n",
       "      <td>0</td>\n",
       "      <td>0</td>\n",
       "      <td>0</td>\n",
       "    </tr>\n",
       "  </tbody>\n",
       "</table>\n",
       "<p>5 rows × 75 columns</p>\n",
       "</div>"
      ],
      "text/plain": [
       "   protocol_type_tcp  protocol_type_udp  service_X11  service_Z39_50  \\\n",
       "0                  1                  0            0               0   \n",
       "1                  1                  0            0               0   \n",
       "2                  1                  0            0               0   \n",
       "3                  0                  0            0               0   \n",
       "4                  1                  0            0               0   \n",
       "\n",
       "   service_auth  service_bgp  service_courier  service_csnet_ns  service_ctf  \\\n",
       "0             0            0                0                 0            0   \n",
       "1             0            0                0                 0            0   \n",
       "2             0            0                0                 0            0   \n",
       "3             0            0                0                 0            0   \n",
       "4             0            0                0                 0            0   \n",
       "\n",
       "   service_daytime  ...  flag_REJ  flag_RSTO  flag_RSTOS0  flag_RSTR  flag_S0  \\\n",
       "0                0  ...         1          0            0          0        0   \n",
       "1                0  ...         1          0            0          0        0   \n",
       "2                0  ...         0          0            0          0        0   \n",
       "3                0  ...         0          0            0          0        0   \n",
       "4                0  ...         0          1            0          0        0   \n",
       "\n",
       "   flag_S1  flag_S2  flag_S3  flag_SF  flag_SH  \n",
       "0        0        0        0        0        0  \n",
       "1        0        0        0        0        0  \n",
       "2        0        0        0        1        0  \n",
       "3        0        0        0        1        0  \n",
       "4        0        0        0        0        0  \n",
       "\n",
       "[5 rows x 75 columns]"
      ]
     },
     "execution_count": 38,
     "metadata": {},
     "output_type": "execute_result"
    }
   ],
   "source": [
    "df_test_cat.head()"
   ]
  },
  {
   "cell_type": "markdown",
   "metadata": {},
   "source": [
    "## Final Data for Analysis"
   ]
  },
  {
   "cell_type": "code",
   "execution_count": 39,
   "metadata": {
    "ExecuteTime": {
     "end_time": "2020-04-13T07:56:50.082247Z",
     "start_time": "2020-04-13T07:56:50.045351Z"
    }
   },
   "outputs": [],
   "source": [
    "df_train_new = pd.concat([df_train_cont, df_train_cat], axis=1)\n",
    "df_test_new = pd.concat([df_test_cont, df_test_cat], axis=1)"
   ]
  },
  {
   "cell_type": "code",
   "execution_count": 40,
   "metadata": {
    "ExecuteTime": {
     "end_time": "2020-04-13T07:56:59.594503Z",
     "start_time": "2020-04-13T07:56:59.580541Z"
    }
   },
   "outputs": [
    {
     "data": {
      "text/html": [
       "<div>\n",
       "<style scoped>\n",
       "    .dataframe tbody tr th:only-of-type {\n",
       "        vertical-align: middle;\n",
       "    }\n",
       "\n",
       "    .dataframe tbody tr th {\n",
       "        vertical-align: top;\n",
       "    }\n",
       "\n",
       "    .dataframe thead th {\n",
       "        text-align: right;\n",
       "    }\n",
       "</style>\n",
       "<table border=\"1\" class=\"dataframe\">\n",
       "  <thead>\n",
       "    <tr style=\"text-align: right;\">\n",
       "      <th></th>\n",
       "      <th>duration</th>\n",
       "      <th>src_bytes</th>\n",
       "      <th>dst_bytes</th>\n",
       "      <th>land</th>\n",
       "      <th>wrong_fragment</th>\n",
       "      <th>urgent</th>\n",
       "      <th>hot</th>\n",
       "      <th>num_failed_logins</th>\n",
       "      <th>logged_in</th>\n",
       "      <th>num_compromised</th>\n",
       "      <th>...</th>\n",
       "      <th>flag_REJ</th>\n",
       "      <th>flag_RSTO</th>\n",
       "      <th>flag_RSTOS0</th>\n",
       "      <th>flag_RSTR</th>\n",
       "      <th>flag_S0</th>\n",
       "      <th>flag_S1</th>\n",
       "      <th>flag_S2</th>\n",
       "      <th>flag_S3</th>\n",
       "      <th>flag_SF</th>\n",
       "      <th>flag_SH</th>\n",
       "    </tr>\n",
       "  </thead>\n",
       "  <tbody>\n",
       "    <tr>\n",
       "      <th>0</th>\n",
       "      <td>0.0</td>\n",
       "      <td>491</td>\n",
       "      <td>0</td>\n",
       "      <td>0</td>\n",
       "      <td>0</td>\n",
       "      <td>0</td>\n",
       "      <td>0</td>\n",
       "      <td>0</td>\n",
       "      <td>0</td>\n",
       "      <td>0</td>\n",
       "      <td>...</td>\n",
       "      <td>0</td>\n",
       "      <td>0</td>\n",
       "      <td>0</td>\n",
       "      <td>0</td>\n",
       "      <td>0</td>\n",
       "      <td>0</td>\n",
       "      <td>0</td>\n",
       "      <td>0</td>\n",
       "      <td>1</td>\n",
       "      <td>0</td>\n",
       "    </tr>\n",
       "    <tr>\n",
       "      <th>1</th>\n",
       "      <td>0.0</td>\n",
       "      <td>146</td>\n",
       "      <td>0</td>\n",
       "      <td>0</td>\n",
       "      <td>0</td>\n",
       "      <td>0</td>\n",
       "      <td>0</td>\n",
       "      <td>0</td>\n",
       "      <td>0</td>\n",
       "      <td>0</td>\n",
       "      <td>...</td>\n",
       "      <td>0</td>\n",
       "      <td>0</td>\n",
       "      <td>0</td>\n",
       "      <td>0</td>\n",
       "      <td>0</td>\n",
       "      <td>0</td>\n",
       "      <td>0</td>\n",
       "      <td>0</td>\n",
       "      <td>1</td>\n",
       "      <td>0</td>\n",
       "    </tr>\n",
       "    <tr>\n",
       "      <th>2</th>\n",
       "      <td>0.0</td>\n",
       "      <td>0</td>\n",
       "      <td>0</td>\n",
       "      <td>0</td>\n",
       "      <td>0</td>\n",
       "      <td>0</td>\n",
       "      <td>0</td>\n",
       "      <td>0</td>\n",
       "      <td>0</td>\n",
       "      <td>0</td>\n",
       "      <td>...</td>\n",
       "      <td>0</td>\n",
       "      <td>0</td>\n",
       "      <td>0</td>\n",
       "      <td>0</td>\n",
       "      <td>1</td>\n",
       "      <td>0</td>\n",
       "      <td>0</td>\n",
       "      <td>0</td>\n",
       "      <td>0</td>\n",
       "      <td>0</td>\n",
       "    </tr>\n",
       "    <tr>\n",
       "      <th>3</th>\n",
       "      <td>0.0</td>\n",
       "      <td>232</td>\n",
       "      <td>8153</td>\n",
       "      <td>0</td>\n",
       "      <td>0</td>\n",
       "      <td>0</td>\n",
       "      <td>0</td>\n",
       "      <td>0</td>\n",
       "      <td>1</td>\n",
       "      <td>0</td>\n",
       "      <td>...</td>\n",
       "      <td>0</td>\n",
       "      <td>0</td>\n",
       "      <td>0</td>\n",
       "      <td>0</td>\n",
       "      <td>0</td>\n",
       "      <td>0</td>\n",
       "      <td>0</td>\n",
       "      <td>0</td>\n",
       "      <td>1</td>\n",
       "      <td>0</td>\n",
       "    </tr>\n",
       "    <tr>\n",
       "      <th>4</th>\n",
       "      <td>0.0</td>\n",
       "      <td>199</td>\n",
       "      <td>420</td>\n",
       "      <td>0</td>\n",
       "      <td>0</td>\n",
       "      <td>0</td>\n",
       "      <td>0</td>\n",
       "      <td>0</td>\n",
       "      <td>1</td>\n",
       "      <td>0</td>\n",
       "      <td>...</td>\n",
       "      <td>0</td>\n",
       "      <td>0</td>\n",
       "      <td>0</td>\n",
       "      <td>0</td>\n",
       "      <td>0</td>\n",
       "      <td>0</td>\n",
       "      <td>0</td>\n",
       "      <td>0</td>\n",
       "      <td>1</td>\n",
       "      <td>0</td>\n",
       "    </tr>\n",
       "  </tbody>\n",
       "</table>\n",
       "<p>5 rows × 121 columns</p>\n",
       "</div>"
      ],
      "text/plain": [
       "   duration  src_bytes  dst_bytes  land  wrong_fragment  urgent  hot  \\\n",
       "0       0.0        491          0     0               0       0    0   \n",
       "1       0.0        146          0     0               0       0    0   \n",
       "2       0.0          0          0     0               0       0    0   \n",
       "3       0.0        232       8153     0               0       0    0   \n",
       "4       0.0        199        420     0               0       0    0   \n",
       "\n",
       "   num_failed_logins  logged_in  num_compromised  ...  flag_REJ  flag_RSTO  \\\n",
       "0                  0          0                0  ...         0          0   \n",
       "1                  0          0                0  ...         0          0   \n",
       "2                  0          0                0  ...         0          0   \n",
       "3                  0          1                0  ...         0          0   \n",
       "4                  0          1                0  ...         0          0   \n",
       "\n",
       "   flag_RSTOS0  flag_RSTR  flag_S0  flag_S1  flag_S2  flag_S3  flag_SF  \\\n",
       "0            0          0        0        0        0        0        1   \n",
       "1            0          0        0        0        0        0        1   \n",
       "2            0          0        1        0        0        0        0   \n",
       "3            0          0        0        0        0        0        1   \n",
       "4            0          0        0        0        0        0        1   \n",
       "\n",
       "   flag_SH  \n",
       "0        0  \n",
       "1        0  \n",
       "2        0  \n",
       "3        0  \n",
       "4        0  \n",
       "\n",
       "[5 rows x 121 columns]"
      ]
     },
     "execution_count": 40,
     "metadata": {},
     "output_type": "execute_result"
    }
   ],
   "source": [
    "df_train_new.head()"
   ]
  },
  {
   "cell_type": "code",
   "execution_count": 41,
   "metadata": {
    "ExecuteTime": {
     "end_time": "2020-04-13T07:57:06.508842Z",
     "start_time": "2020-04-13T07:57:06.484901Z"
    }
   },
   "outputs": [
    {
     "data": {
      "text/html": [
       "<div>\n",
       "<style scoped>\n",
       "    .dataframe tbody tr th:only-of-type {\n",
       "        vertical-align: middle;\n",
       "    }\n",
       "\n",
       "    .dataframe tbody tr th {\n",
       "        vertical-align: top;\n",
       "    }\n",
       "\n",
       "    .dataframe thead th {\n",
       "        text-align: right;\n",
       "    }\n",
       "</style>\n",
       "<table border=\"1\" class=\"dataframe\">\n",
       "  <thead>\n",
       "    <tr style=\"text-align: right;\">\n",
       "      <th></th>\n",
       "      <th>duration</th>\n",
       "      <th>src_bytes</th>\n",
       "      <th>dst_bytes</th>\n",
       "      <th>land</th>\n",
       "      <th>wrong_fragment</th>\n",
       "      <th>urgent</th>\n",
       "      <th>hot</th>\n",
       "      <th>num_failed_logins</th>\n",
       "      <th>logged_in</th>\n",
       "      <th>num_compromised</th>\n",
       "      <th>...</th>\n",
       "      <th>flag_REJ</th>\n",
       "      <th>flag_RSTO</th>\n",
       "      <th>flag_RSTOS0</th>\n",
       "      <th>flag_RSTR</th>\n",
       "      <th>flag_S0</th>\n",
       "      <th>flag_S1</th>\n",
       "      <th>flag_S2</th>\n",
       "      <th>flag_S3</th>\n",
       "      <th>flag_SF</th>\n",
       "      <th>flag_SH</th>\n",
       "    </tr>\n",
       "  </thead>\n",
       "  <tbody>\n",
       "    <tr>\n",
       "      <th>0</th>\n",
       "      <td>0.0</td>\n",
       "      <td>0</td>\n",
       "      <td>0.0</td>\n",
       "      <td>0</td>\n",
       "      <td>0</td>\n",
       "      <td>0</td>\n",
       "      <td>0</td>\n",
       "      <td>0</td>\n",
       "      <td>0</td>\n",
       "      <td>0</td>\n",
       "      <td>...</td>\n",
       "      <td>1</td>\n",
       "      <td>0</td>\n",
       "      <td>0</td>\n",
       "      <td>0</td>\n",
       "      <td>0</td>\n",
       "      <td>0</td>\n",
       "      <td>0</td>\n",
       "      <td>0</td>\n",
       "      <td>0</td>\n",
       "      <td>0</td>\n",
       "    </tr>\n",
       "    <tr>\n",
       "      <th>1</th>\n",
       "      <td>0.0</td>\n",
       "      <td>0</td>\n",
       "      <td>0.0</td>\n",
       "      <td>0</td>\n",
       "      <td>0</td>\n",
       "      <td>0</td>\n",
       "      <td>0</td>\n",
       "      <td>0</td>\n",
       "      <td>0</td>\n",
       "      <td>0</td>\n",
       "      <td>...</td>\n",
       "      <td>1</td>\n",
       "      <td>0</td>\n",
       "      <td>0</td>\n",
       "      <td>0</td>\n",
       "      <td>0</td>\n",
       "      <td>0</td>\n",
       "      <td>0</td>\n",
       "      <td>0</td>\n",
       "      <td>0</td>\n",
       "      <td>0</td>\n",
       "    </tr>\n",
       "    <tr>\n",
       "      <th>2</th>\n",
       "      <td>2.0</td>\n",
       "      <td>12983</td>\n",
       "      <td>0.0</td>\n",
       "      <td>0</td>\n",
       "      <td>0</td>\n",
       "      <td>0</td>\n",
       "      <td>0</td>\n",
       "      <td>0</td>\n",
       "      <td>0</td>\n",
       "      <td>0</td>\n",
       "      <td>...</td>\n",
       "      <td>0</td>\n",
       "      <td>0</td>\n",
       "      <td>0</td>\n",
       "      <td>0</td>\n",
       "      <td>0</td>\n",
       "      <td>0</td>\n",
       "      <td>0</td>\n",
       "      <td>0</td>\n",
       "      <td>1</td>\n",
       "      <td>0</td>\n",
       "    </tr>\n",
       "    <tr>\n",
       "      <th>3</th>\n",
       "      <td>0.0</td>\n",
       "      <td>20</td>\n",
       "      <td>0.0</td>\n",
       "      <td>0</td>\n",
       "      <td>0</td>\n",
       "      <td>0</td>\n",
       "      <td>0</td>\n",
       "      <td>0</td>\n",
       "      <td>0</td>\n",
       "      <td>0</td>\n",
       "      <td>...</td>\n",
       "      <td>0</td>\n",
       "      <td>0</td>\n",
       "      <td>0</td>\n",
       "      <td>0</td>\n",
       "      <td>0</td>\n",
       "      <td>0</td>\n",
       "      <td>0</td>\n",
       "      <td>0</td>\n",
       "      <td>1</td>\n",
       "      <td>0</td>\n",
       "    </tr>\n",
       "    <tr>\n",
       "      <th>4</th>\n",
       "      <td>1.0</td>\n",
       "      <td>0</td>\n",
       "      <td>15.0</td>\n",
       "      <td>0</td>\n",
       "      <td>0</td>\n",
       "      <td>0</td>\n",
       "      <td>0</td>\n",
       "      <td>0</td>\n",
       "      <td>0</td>\n",
       "      <td>0</td>\n",
       "      <td>...</td>\n",
       "      <td>0</td>\n",
       "      <td>1</td>\n",
       "      <td>0</td>\n",
       "      <td>0</td>\n",
       "      <td>0</td>\n",
       "      <td>0</td>\n",
       "      <td>0</td>\n",
       "      <td>0</td>\n",
       "      <td>0</td>\n",
       "      <td>0</td>\n",
       "    </tr>\n",
       "  </tbody>\n",
       "</table>\n",
       "<p>5 rows × 115 columns</p>\n",
       "</div>"
      ],
      "text/plain": [
       "   duration  src_bytes  dst_bytes  land  wrong_fragment  urgent  hot  \\\n",
       "0       0.0          0        0.0     0               0       0    0   \n",
       "1       0.0          0        0.0     0               0       0    0   \n",
       "2       2.0      12983        0.0     0               0       0    0   \n",
       "3       0.0         20        0.0     0               0       0    0   \n",
       "4       1.0          0       15.0     0               0       0    0   \n",
       "\n",
       "   num_failed_logins  logged_in  num_compromised  ...  flag_REJ  flag_RSTO  \\\n",
       "0                  0          0                0  ...         1          0   \n",
       "1                  0          0                0  ...         1          0   \n",
       "2                  0          0                0  ...         0          0   \n",
       "3                  0          0                0  ...         0          0   \n",
       "4                  0          0                0  ...         0          1   \n",
       "\n",
       "   flag_RSTOS0  flag_RSTR  flag_S0  flag_S1  flag_S2  flag_S3  flag_SF  \\\n",
       "0            0          0        0        0        0        0        0   \n",
       "1            0          0        0        0        0        0        0   \n",
       "2            0          0        0        0        0        0        1   \n",
       "3            0          0        0        0        0        0        1   \n",
       "4            0          0        0        0        0        0        0   \n",
       "\n",
       "   flag_SH  \n",
       "0        0  \n",
       "1        0  \n",
       "2        0  \n",
       "3        0  \n",
       "4        0  \n",
       "\n",
       "[5 rows x 115 columns]"
      ]
     },
     "execution_count": 41,
     "metadata": {},
     "output_type": "execute_result"
    }
   ],
   "source": [
    "df_test_new.head()"
   ]
  },
  {
   "cell_type": "code",
   "execution_count": 42,
   "metadata": {
    "ExecuteTime": {
     "end_time": "2020-04-13T08:06:23.432897Z",
     "start_time": "2020-04-13T08:06:19.380064Z"
    }
   },
   "outputs": [
    {
     "data": {
      "text/html": [
       "<div>\n",
       "<style scoped>\n",
       "    .dataframe tbody tr th:only-of-type {\n",
       "        vertical-align: middle;\n",
       "    }\n",
       "\n",
       "    .dataframe tbody tr th {\n",
       "        vertical-align: top;\n",
       "    }\n",
       "\n",
       "    .dataframe thead th {\n",
       "        text-align: right;\n",
       "    }\n",
       "</style>\n",
       "<table border=\"1\" class=\"dataframe\">\n",
       "  <thead>\n",
       "    <tr style=\"text-align: right;\">\n",
       "      <th></th>\n",
       "      <th>duration</th>\n",
       "      <th>src_bytes</th>\n",
       "      <th>dst_bytes</th>\n",
       "      <th>land</th>\n",
       "      <th>wrong_fragment</th>\n",
       "      <th>urgent</th>\n",
       "      <th>hot</th>\n",
       "      <th>num_failed_logins</th>\n",
       "      <th>logged_in</th>\n",
       "      <th>num_compromised</th>\n",
       "      <th>...</th>\n",
       "      <th>flag_REJ</th>\n",
       "      <th>flag_RSTO</th>\n",
       "      <th>flag_RSTOS0</th>\n",
       "      <th>flag_RSTR</th>\n",
       "      <th>flag_S0</th>\n",
       "      <th>flag_S1</th>\n",
       "      <th>flag_S2</th>\n",
       "      <th>flag_S3</th>\n",
       "      <th>flag_SF</th>\n",
       "      <th>flag_SH</th>\n",
       "    </tr>\n",
       "  </thead>\n",
       "  <tbody>\n",
       "    <tr>\n",
       "      <th>duration</th>\n",
       "      <td>1.000000</td>\n",
       "      <td>0.011740</td>\n",
       "      <td>0.036892</td>\n",
       "      <td>NaN</td>\n",
       "      <td>NaN</td>\n",
       "      <td>NaN</td>\n",
       "      <td>0.021274</td>\n",
       "      <td>NaN</td>\n",
       "      <td>-0.064537</td>\n",
       "      <td>0.062081</td>\n",
       "      <td>...</td>\n",
       "      <td>-0.043311</td>\n",
       "      <td>-0.003733</td>\n",
       "      <td>0.020369</td>\n",
       "      <td>0.497641</td>\n",
       "      <td>-0.085618</td>\n",
       "      <td>-0.007463</td>\n",
       "      <td>-0.004180</td>\n",
       "      <td>0.004280</td>\n",
       "      <td>-0.034731</td>\n",
       "      <td>-0.006428</td>\n",
       "    </tr>\n",
       "    <tr>\n",
       "      <th>src_bytes</th>\n",
       "      <td>0.011740</td>\n",
       "      <td>1.000000</td>\n",
       "      <td>0.127827</td>\n",
       "      <td>NaN</td>\n",
       "      <td>NaN</td>\n",
       "      <td>NaN</td>\n",
       "      <td>0.379973</td>\n",
       "      <td>NaN</td>\n",
       "      <td>0.163275</td>\n",
       "      <td>0.603363</td>\n",
       "      <td>...</td>\n",
       "      <td>-0.052480</td>\n",
       "      <td>-0.016138</td>\n",
       "      <td>0.007541</td>\n",
       "      <td>0.018268</td>\n",
       "      <td>-0.103727</td>\n",
       "      <td>0.041955</td>\n",
       "      <td>0.011526</td>\n",
       "      <td>0.031067</td>\n",
       "      <td>0.117345</td>\n",
       "      <td>-0.007788</td>\n",
       "    </tr>\n",
       "    <tr>\n",
       "      <th>dst_bytes</th>\n",
       "      <td>0.036892</td>\n",
       "      <td>0.127827</td>\n",
       "      <td>1.000000</td>\n",
       "      <td>NaN</td>\n",
       "      <td>NaN</td>\n",
       "      <td>NaN</td>\n",
       "      <td>0.127002</td>\n",
       "      <td>NaN</td>\n",
       "      <td>0.422000</td>\n",
       "      <td>0.237363</td>\n",
       "      <td>...</td>\n",
       "      <td>-0.110385</td>\n",
       "      <td>-0.033535</td>\n",
       "      <td>-0.010092</td>\n",
       "      <td>-0.021514</td>\n",
       "      <td>-0.218180</td>\n",
       "      <td>0.137051</td>\n",
       "      <td>0.043579</td>\n",
       "      <td>0.008654</td>\n",
       "      <td>0.260372</td>\n",
       "      <td>-0.016381</td>\n",
       "    </tr>\n",
       "    <tr>\n",
       "      <th>land</th>\n",
       "      <td>NaN</td>\n",
       "      <td>NaN</td>\n",
       "      <td>NaN</td>\n",
       "      <td>NaN</td>\n",
       "      <td>NaN</td>\n",
       "      <td>NaN</td>\n",
       "      <td>NaN</td>\n",
       "      <td>NaN</td>\n",
       "      <td>NaN</td>\n",
       "      <td>NaN</td>\n",
       "      <td>...</td>\n",
       "      <td>NaN</td>\n",
       "      <td>NaN</td>\n",
       "      <td>NaN</td>\n",
       "      <td>NaN</td>\n",
       "      <td>NaN</td>\n",
       "      <td>NaN</td>\n",
       "      <td>NaN</td>\n",
       "      <td>NaN</td>\n",
       "      <td>NaN</td>\n",
       "      <td>NaN</td>\n",
       "    </tr>\n",
       "    <tr>\n",
       "      <th>wrong_fragment</th>\n",
       "      <td>NaN</td>\n",
       "      <td>NaN</td>\n",
       "      <td>NaN</td>\n",
       "      <td>NaN</td>\n",
       "      <td>NaN</td>\n",
       "      <td>NaN</td>\n",
       "      <td>NaN</td>\n",
       "      <td>NaN</td>\n",
       "      <td>NaN</td>\n",
       "      <td>NaN</td>\n",
       "      <td>...</td>\n",
       "      <td>NaN</td>\n",
       "      <td>NaN</td>\n",
       "      <td>NaN</td>\n",
       "      <td>NaN</td>\n",
       "      <td>NaN</td>\n",
       "      <td>NaN</td>\n",
       "      <td>NaN</td>\n",
       "      <td>NaN</td>\n",
       "      <td>NaN</td>\n",
       "      <td>NaN</td>\n",
       "    </tr>\n",
       "    <tr>\n",
       "      <th>...</th>\n",
       "      <td>...</td>\n",
       "      <td>...</td>\n",
       "      <td>...</td>\n",
       "      <td>...</td>\n",
       "      <td>...</td>\n",
       "      <td>...</td>\n",
       "      <td>...</td>\n",
       "      <td>...</td>\n",
       "      <td>...</td>\n",
       "      <td>...</td>\n",
       "      <td>...</td>\n",
       "      <td>...</td>\n",
       "      <td>...</td>\n",
       "      <td>...</td>\n",
       "      <td>...</td>\n",
       "      <td>...</td>\n",
       "      <td>...</td>\n",
       "      <td>...</td>\n",
       "      <td>...</td>\n",
       "      <td>...</td>\n",
       "      <td>...</td>\n",
       "    </tr>\n",
       "    <tr>\n",
       "      <th>flag_S1</th>\n",
       "      <td>-0.007463</td>\n",
       "      <td>0.041955</td>\n",
       "      <td>0.137051</td>\n",
       "      <td>NaN</td>\n",
       "      <td>NaN</td>\n",
       "      <td>NaN</td>\n",
       "      <td>0.005006</td>\n",
       "      <td>NaN</td>\n",
       "      <td>0.052719</td>\n",
       "      <td>0.019502</td>\n",
       "      <td>...</td>\n",
       "      <td>-0.016867</td>\n",
       "      <td>-0.006040</td>\n",
       "      <td>-0.001542</td>\n",
       "      <td>-0.007546</td>\n",
       "      <td>-0.033338</td>\n",
       "      <td>1.000000</td>\n",
       "      <td>-0.001712</td>\n",
       "      <td>-0.001063</td>\n",
       "      <td>-0.065329</td>\n",
       "      <td>-0.002503</td>\n",
       "    </tr>\n",
       "    <tr>\n",
       "      <th>flag_S2</th>\n",
       "      <td>-0.004180</td>\n",
       "      <td>0.011526</td>\n",
       "      <td>0.043579</td>\n",
       "      <td>NaN</td>\n",
       "      <td>NaN</td>\n",
       "      <td>NaN</td>\n",
       "      <td>0.068759</td>\n",
       "      <td>NaN</td>\n",
       "      <td>0.033628</td>\n",
       "      <td>-0.000738</td>\n",
       "      <td>...</td>\n",
       "      <td>-0.009940</td>\n",
       "      <td>-0.003560</td>\n",
       "      <td>-0.000909</td>\n",
       "      <td>-0.004447</td>\n",
       "      <td>-0.019646</td>\n",
       "      <td>-0.001712</td>\n",
       "      <td>1.000000</td>\n",
       "      <td>-0.000627</td>\n",
       "      <td>-0.038499</td>\n",
       "      <td>-0.001475</td>\n",
       "    </tr>\n",
       "    <tr>\n",
       "      <th>flag_S3</th>\n",
       "      <td>0.004280</td>\n",
       "      <td>0.031067</td>\n",
       "      <td>0.008654</td>\n",
       "      <td>NaN</td>\n",
       "      <td>NaN</td>\n",
       "      <td>NaN</td>\n",
       "      <td>0.005233</td>\n",
       "      <td>NaN</td>\n",
       "      <td>0.019436</td>\n",
       "      <td>0.002002</td>\n",
       "      <td>...</td>\n",
       "      <td>-0.006172</td>\n",
       "      <td>-0.002210</td>\n",
       "      <td>-0.000564</td>\n",
       "      <td>-0.002761</td>\n",
       "      <td>-0.012199</td>\n",
       "      <td>-0.001063</td>\n",
       "      <td>-0.000627</td>\n",
       "      <td>1.000000</td>\n",
       "      <td>-0.023906</td>\n",
       "      <td>-0.000916</td>\n",
       "    </tr>\n",
       "    <tr>\n",
       "      <th>flag_SF</th>\n",
       "      <td>-0.034731</td>\n",
       "      <td>0.117345</td>\n",
       "      <td>0.260372</td>\n",
       "      <td>NaN</td>\n",
       "      <td>NaN</td>\n",
       "      <td>NaN</td>\n",
       "      <td>0.098075</td>\n",
       "      <td>NaN</td>\n",
       "      <td>0.641738</td>\n",
       "      <td>0.073022</td>\n",
       "      <td>...</td>\n",
       "      <td>-0.379191</td>\n",
       "      <td>-0.135793</td>\n",
       "      <td>-0.034668</td>\n",
       "      <td>-0.169644</td>\n",
       "      <td>-0.749485</td>\n",
       "      <td>-0.065329</td>\n",
       "      <td>-0.038499</td>\n",
       "      <td>-0.023906</td>\n",
       "      <td>1.000000</td>\n",
       "      <td>-0.056270</td>\n",
       "    </tr>\n",
       "    <tr>\n",
       "      <th>flag_SH</th>\n",
       "      <td>-0.006428</td>\n",
       "      <td>-0.007788</td>\n",
       "      <td>-0.016381</td>\n",
       "      <td>NaN</td>\n",
       "      <td>NaN</td>\n",
       "      <td>NaN</td>\n",
       "      <td>-0.005561</td>\n",
       "      <td>NaN</td>\n",
       "      <td>-0.037575</td>\n",
       "      <td>-0.004715</td>\n",
       "      <td>...</td>\n",
       "      <td>-0.014528</td>\n",
       "      <td>-0.005203</td>\n",
       "      <td>-0.001328</td>\n",
       "      <td>-0.006500</td>\n",
       "      <td>-0.028715</td>\n",
       "      <td>-0.002503</td>\n",
       "      <td>-0.001475</td>\n",
       "      <td>-0.000916</td>\n",
       "      <td>-0.056270</td>\n",
       "      <td>1.000000</td>\n",
       "    </tr>\n",
       "  </tbody>\n",
       "</table>\n",
       "<p>121 rows × 121 columns</p>\n",
       "</div>"
      ],
      "text/plain": [
       "                duration  src_bytes  dst_bytes  land  wrong_fragment  urgent  \\\n",
       "duration        1.000000   0.011740   0.036892   NaN             NaN     NaN   \n",
       "src_bytes       0.011740   1.000000   0.127827   NaN             NaN     NaN   \n",
       "dst_bytes       0.036892   0.127827   1.000000   NaN             NaN     NaN   \n",
       "land                 NaN        NaN        NaN   NaN             NaN     NaN   \n",
       "wrong_fragment       NaN        NaN        NaN   NaN             NaN     NaN   \n",
       "...                  ...        ...        ...   ...             ...     ...   \n",
       "flag_S1        -0.007463   0.041955   0.137051   NaN             NaN     NaN   \n",
       "flag_S2        -0.004180   0.011526   0.043579   NaN             NaN     NaN   \n",
       "flag_S3         0.004280   0.031067   0.008654   NaN             NaN     NaN   \n",
       "flag_SF        -0.034731   0.117345   0.260372   NaN             NaN     NaN   \n",
       "flag_SH        -0.006428  -0.007788  -0.016381   NaN             NaN     NaN   \n",
       "\n",
       "                     hot  num_failed_logins  logged_in  num_compromised  ...  \\\n",
       "duration        0.021274                NaN  -0.064537         0.062081  ...   \n",
       "src_bytes       0.379973                NaN   0.163275         0.603363  ...   \n",
       "dst_bytes       0.127002                NaN   0.422000         0.237363  ...   \n",
       "land                 NaN                NaN        NaN              NaN  ...   \n",
       "wrong_fragment       NaN                NaN        NaN              NaN  ...   \n",
       "...                  ...                ...        ...              ...  ...   \n",
       "flag_S1         0.005006                NaN   0.052719         0.019502  ...   \n",
       "flag_S2         0.068759                NaN   0.033628        -0.000738  ...   \n",
       "flag_S3         0.005233                NaN   0.019436         0.002002  ...   \n",
       "flag_SF         0.098075                NaN   0.641738         0.073022  ...   \n",
       "flag_SH        -0.005561                NaN  -0.037575        -0.004715  ...   \n",
       "\n",
       "                flag_REJ  flag_RSTO  flag_RSTOS0  flag_RSTR   flag_S0  \\\n",
       "duration       -0.043311  -0.003733     0.020369   0.497641 -0.085618   \n",
       "src_bytes      -0.052480  -0.016138     0.007541   0.018268 -0.103727   \n",
       "dst_bytes      -0.110385  -0.033535    -0.010092  -0.021514 -0.218180   \n",
       "land                 NaN        NaN          NaN        NaN       NaN   \n",
       "wrong_fragment       NaN        NaN          NaN        NaN       NaN   \n",
       "...                  ...        ...          ...        ...       ...   \n",
       "flag_S1        -0.016867  -0.006040    -0.001542  -0.007546 -0.033338   \n",
       "flag_S2        -0.009940  -0.003560    -0.000909  -0.004447 -0.019646   \n",
       "flag_S3        -0.006172  -0.002210    -0.000564  -0.002761 -0.012199   \n",
       "flag_SF        -0.379191  -0.135793    -0.034668  -0.169644 -0.749485   \n",
       "flag_SH        -0.014528  -0.005203    -0.001328  -0.006500 -0.028715   \n",
       "\n",
       "                 flag_S1   flag_S2   flag_S3   flag_SF   flag_SH  \n",
       "duration       -0.007463 -0.004180  0.004280 -0.034731 -0.006428  \n",
       "src_bytes       0.041955  0.011526  0.031067  0.117345 -0.007788  \n",
       "dst_bytes       0.137051  0.043579  0.008654  0.260372 -0.016381  \n",
       "land                 NaN       NaN       NaN       NaN       NaN  \n",
       "wrong_fragment       NaN       NaN       NaN       NaN       NaN  \n",
       "...                  ...       ...       ...       ...       ...  \n",
       "flag_S1         1.000000 -0.001712 -0.001063 -0.065329 -0.002503  \n",
       "flag_S2        -0.001712  1.000000 -0.000627 -0.038499 -0.001475  \n",
       "flag_S3        -0.001063 -0.000627  1.000000 -0.023906 -0.000916  \n",
       "flag_SF        -0.065329 -0.038499 -0.023906  1.000000 -0.056270  \n",
       "flag_SH        -0.002503 -0.001475 -0.000916 -0.056270  1.000000  \n",
       "\n",
       "[121 rows x 121 columns]"
      ]
     },
     "execution_count": 42,
     "metadata": {},
     "output_type": "execute_result"
    }
   ],
   "source": [
    "#Correlation check.\n",
    "\n",
    "df_train_new.corr()"
   ]
  },
  {
   "cell_type": "code",
   "execution_count": 45,
   "metadata": {
    "ExecuteTime": {
     "end_time": "2020-04-13T08:07:16.323940Z",
     "start_time": "2020-04-13T08:07:09.829547Z"
    }
   },
   "outputs": [
    {
     "data": {
      "image/png": "[encoded data removed]",
      "text/plain": [
       "<Figure size 1440x1080 with 2 Axes>"
      ]
     },
     "metadata": {
      "needs_background": "light"
     },
     "output_type": "display_data"
    }
   ],
   "source": [
    "plt.subplots(figsize=(20, 15))\n",
    "sns.heatmap(df_train_new.corr(), cmap=\"viridis\")\n",
    "plt.show()"
   ]
  },
  {
   "cell_type": "markdown",
   "metadata": {},
   "source": [
    "# Dropping columns based on data summarisation and exploratory analysis.\n",
    "\n",
    "    - Based on low variance (near zero variance, can be seen in the correlation matrix and heat map.)\n",
    "    - High missings.\n",
    "    - High correlations between two numerical variables and removing variables which are not important for business context."
   ]
  },
  {
   "cell_type": "code",
   "execution_count": 46,
   "metadata": {
    "ExecuteTime": {
     "end_time": "2020-04-13T08:09:05.904159Z",
     "start_time": "2020-04-13T08:09:05.869288Z"
    }
   },
   "outputs": [],
   "source": [
    "df_train_new.drop(columns=[\n",
    "    'land', 'wrong_fragment', 'urgent', 'num_failed_logins', \"root_shell\",\n",
    "    \"su_attempted\", \"num_root\", \"num_file_creations\", \"num_shells\",\n",
    "    \"num_access_files\", \"num_outbound_cmds\", \"is_host_login\", \"is_guest_login\",\n",
    "    'dst_host_rerror_rate', 'dst_host_serror_rate', 'dst_host_srv_rerror_rate',\n",
    "    'dst_host_srv_serror_rate', 'num_root', 'num_outbound_cmds',\n",
    "    'srv_rerror_rate', 'srv_serror_rate'\n",
    "],\n",
    "                  axis=1,\n",
    "                  inplace=True)"
   ]
  },
  {
   "cell_type": "code",
   "execution_count": 47,
   "metadata": {
    "ExecuteTime": {
     "end_time": "2020-04-13T08:09:20.180064Z",
     "start_time": "2020-04-13T08:09:14.954917Z"
    }
   },
   "outputs": [
    {
     "data": {
      "image/png": "[encoded data removed]",
      "text/plain": [
       "<Figure size 1440x1080 with 2 Axes>"
      ]
     },
     "metadata": {
      "needs_background": "light"
     },
     "output_type": "display_data"
    }
   ],
   "source": [
    "plt.subplots(figsize=(20, 15))\n",
    "sns.heatmap(df_train_new.corr(), cmap=\"viridis\")\n",
    "plt.show()"
   ]
  },
  {
   "cell_type": "markdown",
   "metadata": {},
   "source": [
    "## Feature selection using RFE"
   ]
  },
  {
   "cell_type": "code",
   "execution_count": 243,
   "metadata": {
    "ExecuteTime": {
     "end_time": "2020-04-13T09:06:27.794241Z",
     "start_time": "2020-04-13T09:04:23.956355Z"
    }
   },
   "outputs": [
    {
     "name": "stdout",
     "output_type": "stream",
     "text": [
      "Fitting estimator with 101 features.\n",
      "Fitting estimator with 100 features.\n",
      "Fitting estimator with 99 features.\n",
      "Fitting estimator with 98 features.\n",
      "Fitting estimator with 97 features.\n",
      "Fitting estimator with 96 features.\n",
      "Fitting estimator with 95 features.\n",
      "Fitting estimator with 94 features.\n",
      "Fitting estimator with 93 features.\n",
      "Fitting estimator with 92 features.\n",
      "Fitting estimator with 91 features.\n",
      "Fitting estimator with 90 features.\n",
      "Fitting estimator with 89 features.\n",
      "Fitting estimator with 88 features.\n",
      "Fitting estimator with 87 features.\n",
      "Fitting estimator with 86 features.\n",
      "Fitting estimator with 85 features.\n",
      "Fitting estimator with 84 features.\n",
      "Fitting estimator with 83 features.\n",
      "Fitting estimator with 82 features.\n",
      "Fitting estimator with 81 features.\n",
      "Fitting estimator with 80 features.\n",
      "Fitting estimator with 79 features.\n",
      "Fitting estimator with 78 features.\n",
      "Fitting estimator with 77 features.\n",
      "Fitting estimator with 76 features.\n",
      "Fitting estimator with 75 features.\n",
      "Fitting estimator with 74 features.\n",
      "Fitting estimator with 73 features.\n",
      "Fitting estimator with 72 features.\n",
      "Fitting estimator with 71 features.\n",
      "Fitting estimator with 70 features.\n",
      "Fitting estimator with 69 features.\n",
      "Fitting estimator with 68 features.\n",
      "Fitting estimator with 67 features.\n",
      "Fitting estimator with 66 features.\n",
      "Fitting estimator with 65 features.\n",
      "Fitting estimator with 64 features.\n",
      "Fitting estimator with 63 features.\n",
      "Fitting estimator with 62 features.\n",
      "Fitting estimator with 61 features.\n",
      "Fitting estimator with 60 features.\n",
      "Fitting estimator with 59 features.\n",
      "Fitting estimator with 58 features.\n",
      "Fitting estimator with 57 features.\n",
      "Fitting estimator with 56 features.\n",
      "Fitting estimator with 55 features.\n",
      "Fitting estimator with 54 features.\n",
      "Fitting estimator with 53 features.\n",
      "Fitting estimator with 52 features.\n",
      "Fitting estimator with 51 features.\n",
      "Fitting estimator with 50 features.\n",
      "Fitting estimator with 49 features.\n",
      "Fitting estimator with 48 features.\n",
      "Fitting estimator with 47 features.\n",
      "Fitting estimator with 46 features.\n",
      "Fitting estimator with 45 features.\n",
      "Fitting estimator with 44 features.\n",
      "Fitting estimator with 43 features.\n",
      "Fitting estimator with 42 features.\n",
      "Fitting estimator with 41 features.\n",
      "Fitting estimator with 40 features.\n",
      "Fitting estimator with 39 features.\n",
      "Fitting estimator with 38 features.\n",
      "Fitting estimator with 37 features.\n",
      "Fitting estimator with 36 features.\n",
      "Fitting estimator with 35 features.\n",
      "Fitting estimator with 34 features.\n",
      "Fitting estimator with 33 features.\n",
      "Fitting estimator with 32 features.\n",
      "Fitting estimator with 31 features.\n",
      "Fitting estimator with 30 features.\n",
      "Fitting estimator with 29 features.\n",
      "Fitting estimator with 28 features.\n",
      "Fitting estimator with 27 features.\n",
      "Fitting estimator with 26 features.\n",
      "Fitting estimator with 25 features.\n",
      "Fitting estimator with 24 features.\n",
      "Fitting estimator with 23 features.\n",
      "Fitting estimator with 22 features.\n",
      "Fitting estimator with 21 features.\n",
      "[False False False False False  True  True False  True False False False\n",
      " False False  True  True  True False False False  True False False  True\n",
      " False False  True False  True  True False False False False False False\n",
      " False False False False False False  True  True False False False  True\n",
      " False  True False False  True False False False False False False False\n",
      " False False False False False False False False False False False False\n",
      " False False False False False  True False False False False  True False\n",
      " False False False False  True False False False False False  True False\n",
      " False False False False False]\n",
      "[46 70 72 53 40  1  1 52  1 76 41 50 42 24  1  1  1  2 38 45  1 27 39  1\n",
      " 36 43  1 51  1  1  5 81 23 60  7 61 11 20 12 47  4 17  1  1 16 15 26  1\n",
      " 37  1 79 66  1 82 10 80  3 63 28 30 21 14  6 22 13 65 58 54 31  9 32 34\n",
      " 44 77 68 49 67  1 71 56 35 75  1 29 33 62 19 64  1 74 78 59 69 18  1 55\n",
      " 57  8 73 48 25]\n"
     ]
    }
   ],
   "source": [
    "from sklearn.feature_selection import RFE\n",
    "from sklearn.linear_model import LogisticRegression\n",
    "\n",
    "#X = df_train_new[df_train_new.columns.difference(['attack'])]\n",
    "feature_columns = df_train_new.columns.difference(['attack'])\n",
    "\n",
    "logreg = LogisticRegression(solver='lbfgs')\n",
    "rfe = RFE(logreg, n_features_to_select=20, verbose=10)\n",
    "\n",
    "rfe = rfe.fit(df_train_new[feature_columns], df_train_new['attack'])\n",
    "\n",
    "print(rfe.support_)\n",
    "print(rfe.ranking_)"
   ]
  },
  {
   "cell_type": "code",
   "execution_count": 244,
   "metadata": {
    "ExecuteTime": {
     "end_time": "2020-04-13T09:06:27.810183Z",
     "start_time": "2020-04-13T09:06:27.796221Z"
    }
   },
   "outputs": [],
   "source": [
    "X_final = df_train_new[feature_columns[rfe.support_]]\n",
    "y_final = df_train_new['attack']"
   ]
  },
  {
   "cell_type": "markdown",
   "metadata": {},
   "source": [
    "## Multi Collinearity Check - VIF"
   ]
  },
  {
   "cell_type": "code",
   "execution_count": 245,
   "metadata": {
    "ExecuteTime": {
     "end_time": "2020-04-13T09:06:27.828135Z",
     "start_time": "2020-04-13T09:06:27.812179Z"
    }
   },
   "outputs": [],
   "source": [
    "#Selecting significant variables\n",
    "feature = df_train_new[feature_columns[rfe.support_]].columns\n",
    "\n",
    "model_param = 'attack ~ ' + ' + '.join(feature)"
   ]
  },
  {
   "cell_type": "code",
   "execution_count": 246,
   "metadata": {
    "ExecuteTime": {
     "end_time": "2020-04-13T09:06:30.997816Z",
     "start_time": "2020-04-13T09:06:27.830131Z"
    }
   },
   "outputs": [
    {
     "data": {
      "text/html": [
       "<div>\n",
       "<style scoped>\n",
       "    .dataframe tbody tr th:only-of-type {\n",
       "        vertical-align: middle;\n",
       "    }\n",
       "\n",
       "    .dataframe tbody tr th {\n",
       "        vertical-align: top;\n",
       "    }\n",
       "\n",
       "    .dataframe thead th {\n",
       "        text-align: right;\n",
       "    }\n",
       "</style>\n",
       "<table border=\"1\" class=\"dataframe\">\n",
       "  <thead>\n",
       "    <tr style=\"text-align: right;\">\n",
       "      <th></th>\n",
       "      <th>Features</th>\n",
       "      <th>VIF Factor</th>\n",
       "    </tr>\n",
       "  </thead>\n",
       "  <tbody>\n",
       "    <tr>\n",
       "      <th>0</th>\n",
       "      <td>Intercept</td>\n",
       "      <td>12.081321</td>\n",
       "    </tr>\n",
       "    <tr>\n",
       "      <th>1</th>\n",
       "      <td>dst_host_same_src_port_rate</td>\n",
       "      <td>1.829128</td>\n",
       "    </tr>\n",
       "    <tr>\n",
       "      <th>2</th>\n",
       "      <td>dst_host_same_srv_rate</td>\n",
       "      <td>4.239239</td>\n",
       "    </tr>\n",
       "    <tr>\n",
       "      <th>3</th>\n",
       "      <td>dst_host_srv_diff_host_rate</td>\n",
       "      <td>2.530035</td>\n",
       "    </tr>\n",
       "    <tr>\n",
       "      <th>4</th>\n",
       "      <td>flag_S0</td>\n",
       "      <td>34.022594</td>\n",
       "    </tr>\n",
       "    <tr>\n",
       "      <th>5</th>\n",
       "      <td>flag_S1</td>\n",
       "      <td>1.292660</td>\n",
       "    </tr>\n",
       "    <tr>\n",
       "      <th>6</th>\n",
       "      <td>flag_S2</td>\n",
       "      <td>1.130016</td>\n",
       "    </tr>\n",
       "    <tr>\n",
       "      <th>7</th>\n",
       "      <td>hot</td>\n",
       "      <td>2.759097</td>\n",
       "    </tr>\n",
       "    <tr>\n",
       "      <th>8</th>\n",
       "      <td>num_compromised</td>\n",
       "      <td>1.578385</td>\n",
       "    </tr>\n",
       "    <tr>\n",
       "      <th>9</th>\n",
       "      <td>rerror_rate</td>\n",
       "      <td>1.636547</td>\n",
       "    </tr>\n",
       "    <tr>\n",
       "      <th>10</th>\n",
       "      <td>serror_rate</td>\n",
       "      <td>35.187695</td>\n",
       "    </tr>\n",
       "    <tr>\n",
       "      <th>11</th>\n",
       "      <td>service_X11</td>\n",
       "      <td>1.002422</td>\n",
       "    </tr>\n",
       "    <tr>\n",
       "      <th>12</th>\n",
       "      <td>service_eco_i</td>\n",
       "      <td>2.761678</td>\n",
       "    </tr>\n",
       "    <tr>\n",
       "      <th>13</th>\n",
       "      <td>service_ecr_i</td>\n",
       "      <td>1.194560</td>\n",
       "    </tr>\n",
       "    <tr>\n",
       "      <th>14</th>\n",
       "      <td>service_ftp</td>\n",
       "      <td>2.269447</td>\n",
       "    </tr>\n",
       "    <tr>\n",
       "      <th>15</th>\n",
       "      <td>service_gopher</td>\n",
       "      <td>1.013585</td>\n",
       "    </tr>\n",
       "    <tr>\n",
       "      <th>16</th>\n",
       "      <td>service_http</td>\n",
       "      <td>2.836260</td>\n",
       "    </tr>\n",
       "    <tr>\n",
       "      <th>17</th>\n",
       "      <td>service_private</td>\n",
       "      <td>1.344766</td>\n",
       "    </tr>\n",
       "    <tr>\n",
       "      <th>18</th>\n",
       "      <td>service_smtp</td>\n",
       "      <td>1.255894</td>\n",
       "    </tr>\n",
       "    <tr>\n",
       "      <th>19</th>\n",
       "      <td>service_telnet</td>\n",
       "      <td>1.101094</td>\n",
       "    </tr>\n",
       "    <tr>\n",
       "      <th>20</th>\n",
       "      <td>service_uucp</td>\n",
       "      <td>1.021143</td>\n",
       "    </tr>\n",
       "  </tbody>\n",
       "</table>\n",
       "</div>"
      ],
      "text/plain": [
       "                       Features  VIF Factor\n",
       "0                     Intercept   12.081321\n",
       "1   dst_host_same_src_port_rate    1.829128\n",
       "2        dst_host_same_srv_rate    4.239239\n",
       "3   dst_host_srv_diff_host_rate    2.530035\n",
       "4                       flag_S0   34.022594\n",
       "5                       flag_S1    1.292660\n",
       "6                       flag_S2    1.130016\n",
       "7                           hot    2.759097\n",
       "8               num_compromised    1.578385\n",
       "9                   rerror_rate    1.636547\n",
       "10                  serror_rate   35.187695\n",
       "11                  service_X11    1.002422\n",
       "12                service_eco_i    2.761678\n",
       "13                service_ecr_i    1.194560\n",
       "14                  service_ftp    2.269447\n",
       "15               service_gopher    1.013585\n",
       "16                 service_http    2.836260\n",
       "17              service_private    1.344766\n",
       "18                 service_smtp    1.255894\n",
       "19               service_telnet    1.101094\n",
       "20                 service_uucp    1.021143"
      ]
     },
     "execution_count": 246,
     "metadata": {},
     "output_type": "execute_result"
    }
   ],
   "source": [
    "# High VIF of the variable means information in that variable has already been explained by\n",
    "# other X variables present in the model\n",
    "\n",
    "# import the packages for vif\n",
    "from statsmodels.stats.outliers_influence import variance_inflation_factor\n",
    "from patsy import dmatrices\n",
    "\n",
    "# separate the Y and X variables\n",
    "y, X = dmatrices(model_param, df_train_new, return_type='dataframe')\n",
    "\n",
    "# For each X, calculate VIF and save in dataframe\n",
    "vif = pd.DataFrame()\n",
    "vif['Features'] = X.columns\n",
    "vif['VIF Factor'] = [\n",
    "    variance_inflation_factor(X.values, i) for i in range(X.shape[1])\n",
    "]\n",
    "\n",
    "# display the output\n",
    "features = list(\n",
    "    vif.round(1).sort_values(by='VIF Factor', ascending=False).loc[:,\n",
    "                                                                   'Features'])\n",
    "features\n",
    "\n",
    "vif\n",
    "\n",
    "\n",
    "#Ideally VIF values more than 5 have a high multicollinearity. Ideally we should remove these variables for our analysis."
   ]
  },
  {
   "cell_type": "code",
   "execution_count": 247,
   "metadata": {
    "ExecuteTime": {
     "end_time": "2020-04-13T09:06:31.003800Z",
     "start_time": "2020-04-13T09:06:30.998817Z"
    }
   },
   "outputs": [],
   "source": [
    "#Removing the highly multicolinear variables\n",
    "\n",
    "features_final = feature.difference(['flag_S0 ','serror_rate'])\n",
    "model_param_final = 'attack ~ ' + ' + '.join(features_final)"
   ]
  },
  {
   "cell_type": "code",
   "execution_count": 248,
   "metadata": {
    "ExecuteTime": {
     "end_time": "2020-04-13T09:06:33.891553Z",
     "start_time": "2020-04-13T09:06:31.005795Z"
    }
   },
   "outputs": [
    {
     "data": {
      "text/html": [
       "<div>\n",
       "<style scoped>\n",
       "    .dataframe tbody tr th:only-of-type {\n",
       "        vertical-align: middle;\n",
       "    }\n",
       "\n",
       "    .dataframe tbody tr th {\n",
       "        vertical-align: top;\n",
       "    }\n",
       "\n",
       "    .dataframe thead th {\n",
       "        text-align: right;\n",
       "    }\n",
       "</style>\n",
       "<table border=\"1\" class=\"dataframe\">\n",
       "  <thead>\n",
       "    <tr style=\"text-align: right;\">\n",
       "      <th></th>\n",
       "      <th>Features</th>\n",
       "      <th>VIF Factor</th>\n",
       "    </tr>\n",
       "  </thead>\n",
       "  <tbody>\n",
       "    <tr>\n",
       "      <th>0</th>\n",
       "      <td>Intercept</td>\n",
       "      <td>11.719657</td>\n",
       "    </tr>\n",
       "    <tr>\n",
       "      <th>1</th>\n",
       "      <td>dst_host_same_src_port_rate</td>\n",
       "      <td>1.827073</td>\n",
       "    </tr>\n",
       "    <tr>\n",
       "      <th>2</th>\n",
       "      <td>dst_host_same_srv_rate</td>\n",
       "      <td>4.150580</td>\n",
       "    </tr>\n",
       "    <tr>\n",
       "      <th>3</th>\n",
       "      <td>dst_host_srv_diff_host_rate</td>\n",
       "      <td>2.529802</td>\n",
       "    </tr>\n",
       "    <tr>\n",
       "      <th>4</th>\n",
       "      <td>flag_S0</td>\n",
       "      <td>2.643873</td>\n",
       "    </tr>\n",
       "    <tr>\n",
       "      <th>5</th>\n",
       "      <td>flag_S1</td>\n",
       "      <td>1.008930</td>\n",
       "    </tr>\n",
       "    <tr>\n",
       "      <th>6</th>\n",
       "      <td>flag_S2</td>\n",
       "      <td>1.014369</td>\n",
       "    </tr>\n",
       "    <tr>\n",
       "      <th>7</th>\n",
       "      <td>hot</td>\n",
       "      <td>2.758804</td>\n",
       "    </tr>\n",
       "    <tr>\n",
       "      <th>8</th>\n",
       "      <td>num_compromised</td>\n",
       "      <td>1.578385</td>\n",
       "    </tr>\n",
       "    <tr>\n",
       "      <th>9</th>\n",
       "      <td>rerror_rate</td>\n",
       "      <td>1.607088</td>\n",
       "    </tr>\n",
       "    <tr>\n",
       "      <th>10</th>\n",
       "      <td>service_X11</td>\n",
       "      <td>1.002350</td>\n",
       "    </tr>\n",
       "    <tr>\n",
       "      <th>11</th>\n",
       "      <td>service_eco_i</td>\n",
       "      <td>2.761600</td>\n",
       "    </tr>\n",
       "    <tr>\n",
       "      <th>12</th>\n",
       "      <td>service_ecr_i</td>\n",
       "      <td>1.193193</td>\n",
       "    </tr>\n",
       "    <tr>\n",
       "      <th>13</th>\n",
       "      <td>service_ftp</td>\n",
       "      <td>2.269238</td>\n",
       "    </tr>\n",
       "    <tr>\n",
       "      <th>14</th>\n",
       "      <td>service_gopher</td>\n",
       "      <td>1.013480</td>\n",
       "    </tr>\n",
       "    <tr>\n",
       "      <th>15</th>\n",
       "      <td>service_http</td>\n",
       "      <td>2.832093</td>\n",
       "    </tr>\n",
       "    <tr>\n",
       "      <th>16</th>\n",
       "      <td>service_private</td>\n",
       "      <td>1.336805</td>\n",
       "    </tr>\n",
       "    <tr>\n",
       "      <th>17</th>\n",
       "      <td>service_smtp</td>\n",
       "      <td>1.254434</td>\n",
       "    </tr>\n",
       "    <tr>\n",
       "      <th>18</th>\n",
       "      <td>service_telnet</td>\n",
       "      <td>1.100804</td>\n",
       "    </tr>\n",
       "    <tr>\n",
       "      <th>19</th>\n",
       "      <td>service_uucp</td>\n",
       "      <td>1.020992</td>\n",
       "    </tr>\n",
       "  </tbody>\n",
       "</table>\n",
       "</div>"
      ],
      "text/plain": [
       "                       Features  VIF Factor\n",
       "0                     Intercept   11.719657\n",
       "1   dst_host_same_src_port_rate    1.827073\n",
       "2        dst_host_same_srv_rate    4.150580\n",
       "3   dst_host_srv_diff_host_rate    2.529802\n",
       "4                       flag_S0    2.643873\n",
       "5                       flag_S1    1.008930\n",
       "6                       flag_S2    1.014369\n",
       "7                           hot    2.758804\n",
       "8               num_compromised    1.578385\n",
       "9                   rerror_rate    1.607088\n",
       "10                  service_X11    1.002350\n",
       "11                service_eco_i    2.761600\n",
       "12                service_ecr_i    1.193193\n",
       "13                  service_ftp    2.269238\n",
       "14               service_gopher    1.013480\n",
       "15                 service_http    2.832093\n",
       "16              service_private    1.336805\n",
       "17                 service_smtp    1.254434\n",
       "18               service_telnet    1.100804\n",
       "19                 service_uucp    1.020992"
      ]
     },
     "execution_count": 248,
     "metadata": {},
     "output_type": "execute_result"
    }
   ],
   "source": [
    "#VIF after removing the highly multicollinear variables\n",
    "\n",
    "# High VIF of the variable means information in that variable has already been explained by\n",
    "# other X variables present in the model\n",
    "# separate the Y and X variables\n",
    "y, X = dmatrices(model_param_final, df_train_new, return_type='dataframe')\n",
    "\n",
    "# For each X, calculate VIF and save in dataframe\n",
    "vif = pd.DataFrame()\n",
    "vif['Features'] = X.columns\n",
    "vif['VIF Factor'] = [\n",
    "    variance_inflation_factor(X.values, i) for i in range(X.shape[1])\n",
    "]\n",
    "\n",
    "# display the output\n",
    "features_final = list(\n",
    "    vif.round(1).sort_values(by='VIF Factor', ascending=False).loc[:,\n",
    "                                                                   'Features'])\n",
    "\n",
    "vif\n",
    "\n",
    "#We have ideal VIF's now in our dataset."
   ]
  },
  {
   "cell_type": "code",
   "execution_count": 249,
   "metadata": {
    "ExecuteTime": {
     "end_time": "2020-04-13T09:06:33.898534Z",
     "start_time": "2020-04-13T09:06:33.893548Z"
    }
   },
   "outputs": [
    {
     "data": {
      "text/plain": [
       "['dst_host_same_srv_rate',\n",
       " 'service_http',\n",
       " 'hot',\n",
       " 'service_eco_i',\n",
       " 'flag_S0',\n",
       " 'dst_host_srv_diff_host_rate',\n",
       " 'service_ftp',\n",
       " 'dst_host_same_src_port_rate',\n",
       " 'num_compromised',\n",
       " 'rerror_rate',\n",
       " 'service_smtp',\n",
       " 'service_private',\n",
       " 'service_ecr_i',\n",
       " 'service_telnet',\n",
       " 'service_X11',\n",
       " 'service_gopher',\n",
       " 'flag_S2',\n",
       " 'flag_S1',\n",
       " 'service_uucp']"
      ]
     },
     "execution_count": 249,
     "metadata": {},
     "output_type": "execute_result"
    }
   ],
   "source": [
    "#features_final = features_final.remove('Intercept')\n",
    "features_final.remove('Intercept')\n",
    "features_final\n",
    "#I have already removed intercept, but ran twice by mistake. Therefore, this error. Kindly ignore this error."
   ]
  },
  {
   "cell_type": "code",
   "execution_count": 250,
   "metadata": {
    "ExecuteTime": {
     "end_time": "2020-04-13T09:06:33.919477Z",
     "start_time": "2020-04-13T09:06:33.901526Z"
    }
   },
   "outputs": [],
   "source": [
    "#Final data for analysis\n",
    "\n",
    "X = df_train_new[features_final]\n",
    "y = df_train_new['attack']"
   ]
  },
  {
   "cell_type": "code",
   "execution_count": 251,
   "metadata": {
    "ExecuteTime": {
     "end_time": "2020-04-13T09:06:35.345700Z",
     "start_time": "2020-04-13T09:06:33.921474Z"
    }
   },
   "outputs": [
    {
     "data": {
      "image/png": "[encoded data removed]",
      "text/plain": [
       "<Figure size 1440x1080 with 2 Axes>"
      ]
     },
     "metadata": {
      "needs_background": "light"
     },
     "output_type": "display_data"
    }
   ],
   "source": [
    "#Corelation check of the new variables\n",
    "\n",
    "plt.subplots(figsize=(20, 15))\n",
    "sns.heatmap(X.corr(), cmap=\"viridis\", annot=True)\n",
    "plt.show()"
   ]
  },
  {
   "cell_type": "markdown",
   "metadata": {},
   "source": [
    "## Modelling and Predictions"
   ]
  },
  {
   "cell_type": "code",
   "execution_count": 252,
   "metadata": {
    "ExecuteTime": {
     "end_time": "2020-04-13T09:06:35.374621Z",
     "start_time": "2020-04-13T09:06:35.346686Z"
    }
   },
   "outputs": [],
   "source": [
    "from sklearn.model_selection import train_test_split\n",
    "\n",
    "df_train_new[features_final]\n",
    "\n",
    "train_X, test_X, train_y, test_y = train_test_split(X, y,test_size = 0.3, random_state = 12345)"
   ]
  },
  {
   "cell_type": "markdown",
   "metadata": {},
   "source": [
    "## Building model from statsmodels"
   ]
  },
  {
   "cell_type": "code",
   "execution_count": 253,
   "metadata": {
    "ExecuteTime": {
     "end_time": "2020-04-13T09:06:35.432467Z",
     "start_time": "2020-04-13T09:06:35.375585Z"
    }
   },
   "outputs": [],
   "source": [
    "# method 2: divide the data into training and testing for statsmodels.formula.api\n",
    "train, test = train_test_split(df_train_new, test_size = 0.3, random_state = 12345)"
   ]
  },
  {
   "cell_type": "code",
   "execution_count": 254,
   "metadata": {
    "ExecuteTime": {
     "end_time": "2020-04-13T09:06:35.438417Z",
     "start_time": "2020-04-13T09:06:35.433430Z"
    }
   },
   "outputs": [
    {
     "name": "stdout",
     "output_type": "stream",
     "text": [
      "No of obs in training:  88181  |  No of obs in testing:  37792\n"
     ]
    }
   ],
   "source": [
    "# verify the no of obs in training and testing after split\n",
    "print('No of obs in training: ', len(train), ' | ', 'No of obs in testing: ', len(test))"
   ]
  },
  {
   "cell_type": "code",
   "execution_count": 255,
   "metadata": {
    "ExecuteTime": {
     "end_time": "2020-04-13T09:06:35.446397Z",
     "start_time": "2020-04-13T09:06:35.440412Z"
    }
   },
   "outputs": [
    {
     "data": {
      "text/plain": [
       "'attack ~ dst_host_same_srv_rate + service_http + hot + service_eco_i + flag_S0 + dst_host_srv_diff_host_rate + service_ftp + dst_host_same_src_port_rate + num_compromised + rerror_rate + service_smtp + service_private + service_ecr_i + service_telnet + service_X11 + service_gopher + flag_S2 + flag_S1 + service_uucp'"
      ]
     },
     "execution_count": 255,
     "metadata": {},
     "output_type": "execute_result"
    }
   ],
   "source": [
    "import statsmodels.formula.api as smf\n",
    "\n",
    "model_param_final = 'attack ~ ' + ' + '.join(features_final)\n",
    "model_param_final"
   ]
  },
  {
   "cell_type": "code",
   "execution_count": 256,
   "metadata": {
    "ExecuteTime": {
     "end_time": "2020-04-13T09:06:36.364455Z",
     "start_time": "2020-04-13T09:06:35.448392Z"
    }
   },
   "outputs": [
    {
     "name": "stdout",
     "output_type": "stream",
     "text": [
      "Warning: Maximum number of iterations has been exceeded.\n",
      "         Current function value: 0.086735\n",
      "         Iterations: 35\n"
     ]
    }
   ],
   "source": [
    "lr = smf.logit(formula = model_param_final, data = train).fit()"
   ]
  },
  {
   "cell_type": "code",
   "execution_count": 257,
   "metadata": {
    "ExecuteTime": {
     "end_time": "2020-04-13T09:06:36.479677Z",
     "start_time": "2020-04-13T09:06:36.366450Z"
    }
   },
   "outputs": [
    {
     "data": {
      "text/html": [
       "<table class=\"simpletable\">\n",
       "<caption>Logit Regression Results</caption>\n",
       "<tr>\n",
       "  <th>Dep. Variable:</th>        <td>attack</td>      <th>  No. Observations:  </th>  <td> 88181</td> \n",
       "</tr>\n",
       "<tr>\n",
       "  <th>Model:</th>                 <td>Logit</td>      <th>  Df Residuals:      </th>  <td> 88161</td> \n",
       "</tr>\n",
       "<tr>\n",
       "  <th>Method:</th>                 <td>MLE</td>       <th>  Df Model:          </th>  <td>    19</td> \n",
       "</tr>\n",
       "<tr>\n",
       "  <th>Date:</th>            <td>Mon, 13 Apr 2020</td> <th>  Pseudo R-squ.:     </th>  <td>0.8744</td> \n",
       "</tr>\n",
       "<tr>\n",
       "  <th>Time:</th>                <td>14:36:36</td>     <th>  Log-Likelihood:    </th> <td> -7648.4</td>\n",
       "</tr>\n",
       "<tr>\n",
       "  <th>converged:</th>             <td>False</td>      <th>  LL-Null:           </th> <td> -60913.</td>\n",
       "</tr>\n",
       "<tr>\n",
       "  <th>Covariance Type:</th>     <td>nonrobust</td>    <th>  LLR p-value:       </th>  <td> 0.000</td> \n",
       "</tr>\n",
       "</table>\n",
       "<table class=\"simpletable\">\n",
       "<tr>\n",
       "               <td></td>                  <th>coef</th>     <th>std err</th>      <th>z</th>      <th>P>|z|</th>  <th>[0.025</th>    <th>0.975]</th>  \n",
       "</tr>\n",
       "<tr>\n",
       "  <th>Intercept</th>                   <td>   -3.6596</td> <td>    0.064</td> <td>  -57.287</td> <td> 0.000</td> <td>   -3.785</td> <td>   -3.534</td>\n",
       "</tr>\n",
       "<tr>\n",
       "  <th>dst_host_same_srv_rate</th>      <td>   -2.7279</td> <td>    0.074</td> <td>  -36.800</td> <td> 0.000</td> <td>   -2.873</td> <td>   -2.583</td>\n",
       "</tr>\n",
       "<tr>\n",
       "  <th>service_http</th>                <td>   -4.5035</td> <td>    0.111</td> <td>  -40.548</td> <td> 0.000</td> <td>   -4.721</td> <td>   -4.286</td>\n",
       "</tr>\n",
       "<tr>\n",
       "  <th>hot</th>                         <td>    2.5616</td> <td>    0.059</td> <td>   43.224</td> <td> 0.000</td> <td>    2.445</td> <td>    2.678</td>\n",
       "</tr>\n",
       "<tr>\n",
       "  <th>service_eco_i</th>               <td>    3.7262</td> <td>    0.093</td> <td>   40.283</td> <td> 0.000</td> <td>    3.545</td> <td>    3.908</td>\n",
       "</tr>\n",
       "<tr>\n",
       "  <th>flag_S0</th>                     <td>   10.6344</td> <td>    0.134</td> <td>   79.360</td> <td> 0.000</td> <td>   10.372</td> <td>   10.897</td>\n",
       "</tr>\n",
       "<tr>\n",
       "  <th>dst_host_srv_diff_host_rate</th> <td>    5.8436</td> <td>    0.224</td> <td>   26.141</td> <td> 0.000</td> <td>    5.406</td> <td>    6.282</td>\n",
       "</tr>\n",
       "<tr>\n",
       "  <th>service_ftp</th>                 <td>   -4.0459</td> <td>    0.161</td> <td>  -25.122</td> <td> 0.000</td> <td>   -4.362</td> <td>   -3.730</td>\n",
       "</tr>\n",
       "<tr>\n",
       "  <th>dst_host_same_src_port_rate</th> <td>    2.8899</td> <td>    0.076</td> <td>   38.170</td> <td> 0.000</td> <td>    2.742</td> <td>    3.038</td>\n",
       "</tr>\n",
       "<tr>\n",
       "  <th>num_compromised</th>             <td>    6.9544</td> <td>    0.145</td> <td>   47.988</td> <td> 0.000</td> <td>    6.670</td> <td>    7.238</td>\n",
       "</tr>\n",
       "<tr>\n",
       "  <th>rerror_rate</th>                 <td>    7.1236</td> <td>    0.100</td> <td>   71.369</td> <td> 0.000</td> <td>    6.928</td> <td>    7.319</td>\n",
       "</tr>\n",
       "<tr>\n",
       "  <th>service_smtp</th>                <td>   -3.7639</td> <td>    0.197</td> <td>  -19.095</td> <td> 0.000</td> <td>   -4.150</td> <td>   -3.378</td>\n",
       "</tr>\n",
       "<tr>\n",
       "  <th>service_private</th>             <td>    5.0833</td> <td>    0.087</td> <td>   58.427</td> <td> 0.000</td> <td>    4.913</td> <td>    5.254</td>\n",
       "</tr>\n",
       "<tr>\n",
       "  <th>service_ecr_i</th>               <td>    6.2698</td> <td>    0.108</td> <td>   58.203</td> <td> 0.000</td> <td>    6.059</td> <td>    6.481</td>\n",
       "</tr>\n",
       "<tr>\n",
       "  <th>service_telnet</th>              <td>   -3.6452</td> <td>    0.127</td> <td>  -28.688</td> <td> 0.000</td> <td>   -3.894</td> <td>   -3.396</td>\n",
       "</tr>\n",
       "<tr>\n",
       "  <th>service_X11</th>                 <td>   -3.9825</td> <td>    1.178</td> <td>   -3.379</td> <td> 0.001</td> <td>   -6.292</td> <td>   -1.673</td>\n",
       "</tr>\n",
       "<tr>\n",
       "  <th>service_gopher</th>              <td>   18.7425</td> <td>  871.114</td> <td>    0.022</td> <td> 0.983</td> <td>-1688.610</td> <td> 1726.095</td>\n",
       "</tr>\n",
       "<tr>\n",
       "  <th>flag_S2</th>                     <td>    1.7117</td> <td>    0.491</td> <td>    3.485</td> <td> 0.000</td> <td>    0.749</td> <td>    2.674</td>\n",
       "</tr>\n",
       "<tr>\n",
       "  <th>flag_S1</th>                     <td>   -1.1213</td> <td>    0.608</td> <td>   -1.843</td> <td> 0.065</td> <td>   -2.313</td> <td>    0.071</td>\n",
       "</tr>\n",
       "<tr>\n",
       "  <th>service_uucp</th>                <td>   30.5597</td> <td> 1.28e+06</td> <td> 2.38e-05</td> <td> 1.000</td> <td>-2.52e+06</td> <td> 2.52e+06</td>\n",
       "</tr>\n",
       "</table><br/><br/>Possibly complete quasi-separation: A fraction 0.42 of observations can be<br/>perfectly predicted. This might indicate that there is complete<br/>quasi-separation. In this case some parameters will not be identified."
      ],
      "text/plain": [
       "<class 'statsmodels.iolib.summary.Summary'>\n",
       "\"\"\"\n",
       "                           Logit Regression Results                           \n",
       "==============================================================================\n",
       "Dep. Variable:                 attack   No. Observations:                88181\n",
       "Model:                          Logit   Df Residuals:                    88161\n",
       "Method:                           MLE   Df Model:                           19\n",
       "Date:                Mon, 13 Apr 2020   Pseudo R-squ.:                  0.8744\n",
       "Time:                        14:36:36   Log-Likelihood:                -7648.4\n",
       "converged:                      False   LL-Null:                       -60913.\n",
       "Covariance Type:            nonrobust   LLR p-value:                     0.000\n",
       "===============================================================================================\n",
       "                                  coef    std err          z      P>|z|      [0.025      0.975]\n",
       "-----------------------------------------------------------------------------------------------\n",
       "Intercept                      -3.6596      0.064    -57.287      0.000      -3.785      -3.534\n",
       "dst_host_same_srv_rate         -2.7279      0.074    -36.800      0.000      -2.873      -2.583\n",
       "service_http                   -4.5035      0.111    -40.548      0.000      -4.721      -4.286\n",
       "hot                             2.5616      0.059     43.224      0.000       2.445       2.678\n",
       "service_eco_i                   3.7262      0.093     40.283      0.000       3.545       3.908\n",
       "flag_S0                        10.6344      0.134     79.360      0.000      10.372      10.897\n",
       "dst_host_srv_diff_host_rate     5.8436      0.224     26.141      0.000       5.406       6.282\n",
       "service_ftp                    -4.0459      0.161    -25.122      0.000      -4.362      -3.730\n",
       "dst_host_same_src_port_rate     2.8899      0.076     38.170      0.000       2.742       3.038\n",
       "num_compromised                 6.9544      0.145     47.988      0.000       6.670       7.238\n",
       "rerror_rate                     7.1236      0.100     71.369      0.000       6.928       7.319\n",
       "service_smtp                   -3.7639      0.197    -19.095      0.000      -4.150      -3.378\n",
       "service_private                 5.0833      0.087     58.427      0.000       4.913       5.254\n",
       "service_ecr_i                   6.2698      0.108     58.203      0.000       6.059       6.481\n",
       "service_telnet                 -3.6452      0.127    -28.688      0.000      -3.894      -3.396\n",
       "service_X11                    -3.9825      1.178     -3.379      0.001      -6.292      -1.673\n",
       "service_gopher                 18.7425    871.114      0.022      0.983   -1688.610    1726.095\n",
       "flag_S2                         1.7117      0.491      3.485      0.000       0.749       2.674\n",
       "flag_S1                        -1.1213      0.608     -1.843      0.065      -2.313       0.071\n",
       "service_uucp                   30.5597   1.28e+06   2.38e-05      1.000   -2.52e+06    2.52e+06\n",
       "===============================================================================================\n",
       "\n",
       "Possibly complete quasi-separation: A fraction 0.42 of observations can be\n",
       "perfectly predicted. This might indicate that there is complete\n",
       "quasi-separation. In this case some parameters will not be identified.\n",
       "\"\"\""
      ]
     },
     "execution_count": 257,
     "metadata": {},
     "output_type": "execute_result"
    }
   ],
   "source": [
    "lr.summary()"
   ]
  },
  {
   "cell_type": "code",
   "execution_count": 259,
   "metadata": {
    "ExecuteTime": {
     "end_time": "2020-04-13T09:08:01.458418Z",
     "start_time": "2020-04-13T09:08:01.425507Z"
    }
   },
   "outputs": [
    {
     "data": {
      "text/html": [
       "<table class=\"simpletable\">\n",
       "<tr>\n",
       "        <td>Model:</td>              <td>Logit</td>      <td>Pseudo R-squared:</td>    <td>0.874</td>  \n",
       "</tr>\n",
       "<tr>\n",
       "  <td>Dependent Variable:</td>      <td>attack</td>            <td>AIC:</td>        <td>15336.7625</td>\n",
       "</tr>\n",
       "<tr>\n",
       "         <td>Date:</td>        <td>2020-04-13 14:38</td>       <td>BIC:</td>        <td>15524.5054</td>\n",
       "</tr>\n",
       "<tr>\n",
       "   <td>No. Observations:</td>        <td>88181</td>       <td>Log-Likelihood:</td>    <td>-7648.4</td> \n",
       "</tr>\n",
       "<tr>\n",
       "       <td>Df Model:</td>             <td>19</td>            <td>LL-Null:</td>        <td>-60913.</td> \n",
       "</tr>\n",
       "<tr>\n",
       "     <td>Df Residuals:</td>          <td>88161</td>        <td>LLR p-value:</td>      <td>0.0000</td>  \n",
       "</tr>\n",
       "<tr>\n",
       "      <td>Converged:</td>           <td>0.0000</td>           <td>Scale:</td>         <td>1.0000</td>  \n",
       "</tr>\n",
       "<tr>\n",
       "    <td>No. Iterations:</td>        <td>35.0000</td>             <td></td>               <td></td>     \n",
       "</tr>\n",
       "</table>\n",
       "<table class=\"simpletable\">\n",
       "<tr>\n",
       "               <td></td>                <th>Coef.</th>    <th>Std.Err.</th>       <th>z</th>     <th>P>|z|</th>    <th>[0.025</th>        <th>0.975]</th>   \n",
       "</tr>\n",
       "<tr>\n",
       "  <th>Intercept</th>                   <td>-3.6596</td>    <td>0.0639</td>    <td>-57.2872</td> <td>0.0000</td>    <td>-3.7848</td>       <td>-3.5344</td>  \n",
       "</tr>\n",
       "<tr>\n",
       "  <th>dst_host_same_srv_rate</th>      <td>-2.7279</td>    <td>0.0741</td>    <td>-36.7997</td> <td>0.0000</td>    <td>-2.8732</td>       <td>-2.5826</td>  \n",
       "</tr>\n",
       "<tr>\n",
       "  <th>service_http</th>                <td>-4.5035</td>    <td>0.1111</td>    <td>-40.5477</td> <td>0.0000</td>    <td>-4.7212</td>       <td>-4.2859</td>  \n",
       "</tr>\n",
       "<tr>\n",
       "  <th>hot</th>                         <td>2.5616</td>     <td>0.0593</td>     <td>43.2240</td> <td>0.0000</td>    <td>2.4454</td>        <td>2.6777</td>   \n",
       "</tr>\n",
       "<tr>\n",
       "  <th>service_eco_i</th>               <td>3.7262</td>     <td>0.0925</td>     <td>40.2826</td> <td>0.0000</td>    <td>3.5449</td>        <td>3.9075</td>   \n",
       "</tr>\n",
       "<tr>\n",
       "  <th>flag_S0</th>                     <td>10.6344</td>    <td>0.1340</td>     <td>79.3603</td> <td>0.0000</td>    <td>10.3718</td>       <td>10.8970</td>  \n",
       "</tr>\n",
       "<tr>\n",
       "  <th>dst_host_srv_diff_host_rate</th> <td>5.8436</td>     <td>0.2235</td>     <td>26.1411</td> <td>0.0000</td>    <td>5.4055</td>        <td>6.2818</td>   \n",
       "</tr>\n",
       "<tr>\n",
       "  <th>service_ftp</th>                 <td>-4.0459</td>    <td>0.1610</td>    <td>-25.1225</td> <td>0.0000</td>    <td>-4.3616</td>       <td>-3.7303</td>  \n",
       "</tr>\n",
       "<tr>\n",
       "  <th>dst_host_same_src_port_rate</th> <td>2.8899</td>     <td>0.0757</td>     <td>38.1699</td> <td>0.0000</td>    <td>2.7415</td>        <td>3.0383</td>   \n",
       "</tr>\n",
       "<tr>\n",
       "  <th>num_compromised</th>             <td>6.9544</td>     <td>0.1449</td>     <td>47.9882</td> <td>0.0000</td>    <td>6.6704</td>        <td>7.2384</td>   \n",
       "</tr>\n",
       "<tr>\n",
       "  <th>rerror_rate</th>                 <td>7.1236</td>     <td>0.0998</td>     <td>71.3689</td> <td>0.0000</td>    <td>6.9280</td>        <td>7.3192</td>   \n",
       "</tr>\n",
       "<tr>\n",
       "  <th>service_smtp</th>                <td>-3.7639</td>    <td>0.1971</td>    <td>-19.0949</td> <td>0.0000</td>    <td>-4.1502</td>       <td>-3.3775</td>  \n",
       "</tr>\n",
       "<tr>\n",
       "  <th>service_private</th>             <td>5.0833</td>     <td>0.0870</td>     <td>58.4272</td> <td>0.0000</td>    <td>4.9128</td>        <td>5.2538</td>   \n",
       "</tr>\n",
       "<tr>\n",
       "  <th>service_ecr_i</th>               <td>6.2698</td>     <td>0.1077</td>     <td>58.2031</td> <td>0.0000</td>    <td>6.0587</td>        <td>6.4809</td>   \n",
       "</tr>\n",
       "<tr>\n",
       "  <th>service_telnet</th>              <td>-3.6452</td>    <td>0.1271</td>    <td>-28.6877</td> <td>0.0000</td>    <td>-3.8943</td>       <td>-3.3962</td>  \n",
       "</tr>\n",
       "<tr>\n",
       "  <th>service_X11</th>                 <td>-3.9825</td>    <td>1.1785</td>     <td>-3.3793</td> <td>0.0007</td>    <td>-6.2923</td>       <td>-1.6727</td>  \n",
       "</tr>\n",
       "<tr>\n",
       "  <th>service_gopher</th>              <td>18.7425</td>   <td>871.1142</td>    <td>0.0215</td>  <td>0.9828</td>  <td>-1688.6099</td>     <td>1726.0950</td> \n",
       "</tr>\n",
       "<tr>\n",
       "  <th>flag_S2</th>                     <td>1.7117</td>     <td>0.4911</td>     <td>3.4854</td>  <td>0.0005</td>    <td>0.7492</td>        <td>2.6743</td>   \n",
       "</tr>\n",
       "<tr>\n",
       "  <th>flag_S1</th>                     <td>-1.1213</td>    <td>0.6083</td>     <td>-1.8434</td> <td>0.0653</td>    <td>-2.3135</td>       <td>0.0709</td>   \n",
       "</tr>\n",
       "<tr>\n",
       "  <th>service_uucp</th>                <td>30.5597</td> <td>1284630.1761</td>  <td>0.0000</td>  <td>1.0000</td> <td>-2517798.3190</td> <td>2517859.4383</td>\n",
       "</tr>\n",
       "</table>"
      ],
      "text/plain": [
       "<class 'statsmodels.iolib.summary2.Summary'>\n",
       "\"\"\"\n",
       "                                      Results: Logit\n",
       "===========================================================================================\n",
       "Model:                        Logit                    Pseudo R-squared:         0.874     \n",
       "Dependent Variable:           attack                   AIC:                      15336.7625\n",
       "Date:                         2020-04-13 14:38         BIC:                      15524.5054\n",
       "No. Observations:             88181                    Log-Likelihood:           -7648.4   \n",
       "Df Model:                     19                       LL-Null:                  -60913.   \n",
       "Df Residuals:                 88161                    LLR p-value:              0.0000    \n",
       "Converged:                    0.0000                   Scale:                    1.0000    \n",
       "No. Iterations:               35.0000                                                      \n",
       "-------------------------------------------------------------------------------------------\n",
       "                             Coef.    Std.Err.      z     P>|z|      [0.025       0.975]   \n",
       "-------------------------------------------------------------------------------------------\n",
       "Intercept                   -3.6596       0.0639 -57.2872 0.0000       -3.7848      -3.5344\n",
       "dst_host_same_srv_rate      -2.7279       0.0741 -36.7997 0.0000       -2.8732      -2.5826\n",
       "service_http                -4.5035       0.1111 -40.5477 0.0000       -4.7212      -4.2859\n",
       "hot                          2.5616       0.0593  43.2240 0.0000        2.4454       2.6777\n",
       "service_eco_i                3.7262       0.0925  40.2826 0.0000        3.5449       3.9075\n",
       "flag_S0                     10.6344       0.1340  79.3603 0.0000       10.3718      10.8970\n",
       "dst_host_srv_diff_host_rate  5.8436       0.2235  26.1411 0.0000        5.4055       6.2818\n",
       "service_ftp                 -4.0459       0.1610 -25.1225 0.0000       -4.3616      -3.7303\n",
       "dst_host_same_src_port_rate  2.8899       0.0757  38.1699 0.0000        2.7415       3.0383\n",
       "num_compromised              6.9544       0.1449  47.9882 0.0000        6.6704       7.2384\n",
       "rerror_rate                  7.1236       0.0998  71.3689 0.0000        6.9280       7.3192\n",
       "service_smtp                -3.7639       0.1971 -19.0949 0.0000       -4.1502      -3.3775\n",
       "service_private              5.0833       0.0870  58.4272 0.0000        4.9128       5.2538\n",
       "service_ecr_i                6.2698       0.1077  58.2031 0.0000        6.0587       6.4809\n",
       "service_telnet              -3.6452       0.1271 -28.6877 0.0000       -3.8943      -3.3962\n",
       "service_X11                 -3.9825       1.1785  -3.3793 0.0007       -6.2923      -1.6727\n",
       "service_gopher              18.7425     871.1142   0.0215 0.9828    -1688.6099    1726.0950\n",
       "flag_S2                      1.7117       0.4911   3.4854 0.0005        0.7492       2.6743\n",
       "flag_S1                     -1.1213       0.6083  -1.8434 0.0653       -2.3135       0.0709\n",
       "service_uucp                30.5597 1284630.1761   0.0000 1.0000 -2517798.3190 2517859.4383\n",
       "===========================================================================================\n",
       "\n",
       "\"\"\""
      ]
     },
     "execution_count": 259,
     "metadata": {},
     "output_type": "execute_result"
    }
   ],
   "source": [
    "lr.summary2()"
   ]
  },
  {
   "cell_type": "markdown",
   "metadata": {},
   "source": [
    "I have ran the Logistic Regression multiple times by choosing the no.of variables many times (did not include in the code so the notebook does not become messy).\n",
    "I chose the best model based on trial and error."
   ]
  },
  {
   "cell_type": "markdown",
   "metadata": {},
   "source": [
    "## Building model from sklearn"
   ]
  },
  {
   "cell_type": "code",
   "execution_count": 302,
   "metadata": {
    "ExecuteTime": {
     "end_time": "2020-04-13T09:23:47.193454Z",
     "start_time": "2020-04-13T09:23:46.614006Z"
    }
   },
   "outputs": [
    {
     "data": {
      "text/plain": [
       "0.9726244882684478"
      ]
     },
     "execution_count": 302,
     "metadata": {},
     "output_type": "execute_result"
    }
   ],
   "source": [
    "from sklearn.linear_model import LogisticRegression\n",
    "\n",
    "logreg1 = LogisticRegression().fit(train_X,train_y)\n",
    "logreg1.score(train_X,train_y)\n",
    "#97.24% accuracy using Logistic Regression"
   ]
  },
  {
   "cell_type": "code",
   "execution_count": 303,
   "metadata": {
    "ExecuteTime": {
     "end_time": "2020-04-13T09:23:48.029220Z",
     "start_time": "2020-04-13T09:23:48.023239Z"
    }
   },
   "outputs": [
    {
     "data": {
      "text/plain": [
       "array([-3.49926077])"
      ]
     },
     "execution_count": 303,
     "metadata": {},
     "output_type": "execute_result"
    }
   ],
   "source": [
    "logreg1.intercept_"
   ]
  },
  {
   "cell_type": "code",
   "execution_count": 304,
   "metadata": {
    "ExecuteTime": {
     "end_time": "2020-04-13T09:23:48.309472Z",
     "start_time": "2020-04-13T09:23:48.299499Z"
    }
   },
   "outputs": [
    {
     "data": {
      "text/plain": [
       "array([1, 0, 1, ..., 1, 0, 0], dtype=int64)"
      ]
     },
     "execution_count": 304,
     "metadata": {},
     "output_type": "execute_result"
    }
   ],
   "source": [
    "logreg1.predict(test_X)"
   ]
  },
  {
   "cell_type": "code",
   "execution_count": 305,
   "metadata": {
    "ExecuteTime": {
     "end_time": "2020-04-13T09:23:48.487993Z",
     "start_time": "2020-04-13T09:23:48.476025Z"
    }
   },
   "outputs": [],
   "source": [
    "y_pred = pd.DataFrame( { 'actual':  test_y,\n",
    "                                'predicted': logreg1.predict( test_X) } )"
   ]
  },
  {
   "cell_type": "code",
   "execution_count": 306,
   "metadata": {
    "ExecuteTime": {
     "end_time": "2020-04-13T09:23:48.675491Z",
     "start_time": "2020-04-13T09:23:48.653551Z"
    }
   },
   "outputs": [
    {
     "name": "stdout",
     "output_type": "stream",
     "text": [
      "0.9723751058425063\n",
      "0.9720569126440992\n"
     ]
    }
   ],
   "source": [
    "print(metrics.accuracy_score( y_pred.actual, y_pred.predicted ))\n",
    "print(metrics.roc_auc_score( y_pred.actual, y_pred.predicted ))\n",
    "\n",
    "#Very good accuracy and ROC-AUC score of Test Data"
   ]
  },
  {
   "cell_type": "code",
   "execution_count": 307,
   "metadata": {
    "ExecuteTime": {
     "end_time": "2020-04-13T09:23:49.112325Z",
     "start_time": "2020-04-13T09:23:48.842048Z"
    }
   },
   "outputs": [
    {
     "data": {
      "text/plain": [
       "Text(0.5, 12.5, 'Predicted label')"
      ]
     },
     "execution_count": 307,
     "metadata": {},
     "output_type": "execute_result"
    },
    {
     "data": {
      "image/png": "[encoded data removed]",
      "text/plain": [
       "<Figure size 432x288 with 2 Axes>"
      ]
     },
     "metadata": {
      "needs_background": "light"
     },
     "output_type": "display_data"
    }
   ],
   "source": [
    "lr_cm = metrics.confusion_matrix(y_pred.predicted, y_pred.actual, [1, 0])\n",
    "sns.heatmap(lr_cm,\n",
    "            annot=True,\n",
    "            cmap='Set3',\n",
    "            fmt='.2f',\n",
    "            )\n",
    "\n",
    "plt.ylabel('True label')\n",
    "plt.xlabel('Predicted label')"
   ]
  },
  {
   "cell_type": "markdown",
   "metadata": {},
   "source": [
    "## Building the model from Random Forest Classifier for a better accuracy"
   ]
  },
  {
   "cell_type": "code",
   "execution_count": 308,
   "metadata": {
    "ExecuteTime": {
     "end_time": "2020-04-13T09:23:52.128260Z",
     "start_time": "2020-04-13T09:23:49.178150Z"
    }
   },
   "outputs": [
    {
     "data": {
      "text/plain": [
       "RandomForestClassifier(bootstrap=True, ccp_alpha=0.0, class_weight=None,\n",
       "                       criterion='gini', max_depth=None, max_features='auto',\n",
       "                       max_leaf_nodes=None, max_samples=None,\n",
       "                       min_impurity_decrease=0.0, min_impurity_split=None,\n",
       "                       min_samples_leaf=1, min_samples_split=2,\n",
       "                       min_weight_fraction_leaf=0.0, n_estimators=100,\n",
       "                       n_jobs=None, oob_score=False, random_state=12345,\n",
       "                       verbose=0, warm_start=False)"
      ]
     },
     "execution_count": 308,
     "metadata": {},
     "output_type": "execute_result"
    }
   ],
   "source": [
    "from sklearn.ensemble import RandomForestClassifier\n",
    "from sklearn.model_selection import GridSearchCV\n",
    "\n",
    "rf1 = RandomForestClassifier(random_state=12345)\n",
    "rf1.fit(train_X,train_y)"
   ]
  },
  {
   "cell_type": "code",
   "execution_count": 309,
   "metadata": {
    "ExecuteTime": {
     "end_time": "2020-04-13T09:23:52.961034Z",
     "start_time": "2020-04-13T09:23:52.129260Z"
    }
   },
   "outputs": [
    {
     "data": {
      "text/plain": [
       "0.9926514782095917"
      ]
     },
     "execution_count": 309,
     "metadata": {},
     "output_type": "execute_result"
    }
   ],
   "source": [
    "rf1.score(train_X,train_y)\n",
    "#We  get a 99.25% accuracy with the Random Forest Classifier model."
   ]
  },
  {
   "cell_type": "code",
   "execution_count": 310,
   "metadata": {
    "ExecuteTime": {
     "end_time": "2020-04-13T09:23:53.298132Z",
     "start_time": "2020-04-13T09:23:52.962032Z"
    }
   },
   "outputs": [
    {
     "data": {
      "text/plain": [
       "array([1, 0, 1, ..., 1, 0, 0], dtype=int64)"
      ]
     },
     "execution_count": 310,
     "metadata": {},
     "output_type": "execute_result"
    }
   ],
   "source": [
    "rf1.predict(test_X)"
   ]
  },
  {
   "cell_type": "code",
   "execution_count": 311,
   "metadata": {
    "ExecuteTime": {
     "end_time": "2020-04-13T09:23:53.636293Z",
     "start_time": "2020-04-13T09:23:53.299129Z"
    }
   },
   "outputs": [],
   "source": [
    "y_pred1 = pd.DataFrame( { 'actual':  test_y,\n",
    "                                'predicted': rf1.predict( test_X) } )"
   ]
  },
  {
   "cell_type": "code",
   "execution_count": 312,
   "metadata": {
    "ExecuteTime": {
     "end_time": "2020-04-13T09:23:53.645206Z",
     "start_time": "2020-04-13T09:23:53.637226Z"
    }
   },
   "outputs": [
    {
     "data": {
      "text/html": [
       "<div>\n",
       "<style scoped>\n",
       "    .dataframe tbody tr th:only-of-type {\n",
       "        vertical-align: middle;\n",
       "    }\n",
       "\n",
       "    .dataframe tbody tr th {\n",
       "        vertical-align: top;\n",
       "    }\n",
       "\n",
       "    .dataframe thead th {\n",
       "        text-align: right;\n",
       "    }\n",
       "</style>\n",
       "<table border=\"1\" class=\"dataframe\">\n",
       "  <thead>\n",
       "    <tr style=\"text-align: right;\">\n",
       "      <th></th>\n",
       "      <th>actual</th>\n",
       "      <th>predicted</th>\n",
       "    </tr>\n",
       "  </thead>\n",
       "  <tbody>\n",
       "    <tr>\n",
       "      <th>112168</th>\n",
       "      <td>1</td>\n",
       "      <td>1</td>\n",
       "    </tr>\n",
       "    <tr>\n",
       "      <th>66607</th>\n",
       "      <td>0</td>\n",
       "      <td>0</td>\n",
       "    </tr>\n",
       "    <tr>\n",
       "      <th>108068</th>\n",
       "      <td>1</td>\n",
       "      <td>1</td>\n",
       "    </tr>\n",
       "    <tr>\n",
       "      <th>81121</th>\n",
       "      <td>1</td>\n",
       "      <td>1</td>\n",
       "    </tr>\n",
       "    <tr>\n",
       "      <th>31292</th>\n",
       "      <td>1</td>\n",
       "      <td>1</td>\n",
       "    </tr>\n",
       "    <tr>\n",
       "      <th>...</th>\n",
       "      <td>...</td>\n",
       "      <td>...</td>\n",
       "    </tr>\n",
       "    <tr>\n",
       "      <th>80385</th>\n",
       "      <td>1</td>\n",
       "      <td>1</td>\n",
       "    </tr>\n",
       "    <tr>\n",
       "      <th>120029</th>\n",
       "      <td>1</td>\n",
       "      <td>1</td>\n",
       "    </tr>\n",
       "    <tr>\n",
       "      <th>3457</th>\n",
       "      <td>1</td>\n",
       "      <td>1</td>\n",
       "    </tr>\n",
       "    <tr>\n",
       "      <th>62256</th>\n",
       "      <td>0</td>\n",
       "      <td>0</td>\n",
       "    </tr>\n",
       "    <tr>\n",
       "      <th>79268</th>\n",
       "      <td>0</td>\n",
       "      <td>0</td>\n",
       "    </tr>\n",
       "  </tbody>\n",
       "</table>\n",
       "<p>37792 rows × 2 columns</p>\n",
       "</div>"
      ],
      "text/plain": [
       "        actual  predicted\n",
       "112168       1          1\n",
       "66607        0          0\n",
       "108068       1          1\n",
       "81121        1          1\n",
       "31292        1          1\n",
       "...        ...        ...\n",
       "80385        1          1\n",
       "120029       1          1\n",
       "3457         1          1\n",
       "62256        0          0\n",
       "79268        0          0\n",
       "\n",
       "[37792 rows x 2 columns]"
      ]
     },
     "execution_count": 312,
     "metadata": {},
     "output_type": "execute_result"
    }
   ],
   "source": [
    "y_pred1"
   ]
  },
  {
   "cell_type": "code",
   "execution_count": 313,
   "metadata": {
    "ExecuteTime": {
     "end_time": "2020-04-13T09:23:53.662195Z",
     "start_time": "2020-04-13T09:23:53.646202Z"
    }
   },
   "outputs": [
    {
     "name": "stdout",
     "output_type": "stream",
     "text": [
      "0.9903154106689246\n",
      "0.9901710369153309\n"
     ]
    }
   ],
   "source": [
    "print(metrics.accuracy_score(y_pred.actual, y_pred1.predicted))\n",
    "print(metrics.roc_auc_score(y_pred.actual, y_pred1.predicted))\n",
    "\n",
    "#Better accuracy of Test Data from Logistic Regression"
   ]
  },
  {
   "cell_type": "code",
   "execution_count": 314,
   "metadata": {
    "ExecuteTime": {
     "end_time": "2020-04-13T09:23:53.931473Z",
     "start_time": "2020-04-13T09:23:53.663157Z"
    }
   },
   "outputs": [
    {
     "data": {
      "text/plain": [
       "Text(0.5, 12.5, 'Predicted label')"
      ]
     },
     "execution_count": 314,
     "metadata": {},
     "output_type": "execute_result"
    },
    {
     "data": {
      "image/png": "[encoded data removed]",
      "text/plain": [
       "<Figure size 432x288 with 2 Axes>"
      ]
     },
     "metadata": {
      "needs_background": "light"
     },
     "output_type": "display_data"
    }
   ],
   "source": [
    "rftree_cm = metrics.confusion_matrix(y_pred1.predicted, y_pred.actual, [1, 0])\n",
    "sns.heatmap(rftree_cm,\n",
    "            annot=True,\n",
    "            cmap='Set3',\n",
    "            fmt='.2f',\n",
    "            )\n",
    "\n",
    "plt.ylabel('True label')\n",
    "plt.xlabel('Predicted label')"
   ]
  },
  {
   "cell_type": "markdown",
   "metadata": {},
   "source": [
    "## Implementing Grid Search CV to get a better score and reduce overfitting and reduce multicollinearity (if any)."
   ]
  },
  {
   "cell_type": "code",
   "execution_count": 315,
   "metadata": {
    "ExecuteTime": {
     "end_time": "2020-04-13T09:34:57.493109Z",
     "start_time": "2020-04-13T09:23:53.933435Z"
    }
   },
   "outputs": [
    {
     "name": "stdout",
     "output_type": "stream",
     "text": [
      "Fitting 10 folds for each of 42 candidates, totalling 420 fits\n"
     ]
    },
    {
     "name": "stderr",
     "output_type": "stream",
     "text": [
      "[Parallel(n_jobs=-1)]: Using backend LokyBackend with 8 concurrent workers.\n",
      "[Parallel(n_jobs=-1)]: Done   2 tasks      | elapsed:    8.4s\n",
      "[Parallel(n_jobs=-1)]: Done   9 tasks      | elapsed:   14.5s\n",
      "[Parallel(n_jobs=-1)]: Done  16 tasks      | elapsed:   15.9s\n",
      "[Parallel(n_jobs=-1)]: Done  25 tasks      | elapsed:   30.0s\n",
      "[Parallel(n_jobs=-1)]: Done  34 tasks      | elapsed:   39.8s\n",
      "[Parallel(n_jobs=-1)]: Done  45 tasks      | elapsed:   52.1s\n",
      "[Parallel(n_jobs=-1)]: Done  56 tasks      | elapsed:  1.1min\n",
      "[Parallel(n_jobs=-1)]: Done  69 tasks      | elapsed:  1.6min\n",
      "[Parallel(n_jobs=-1)]: Done  82 tasks      | elapsed:  1.8min\n",
      "[Parallel(n_jobs=-1)]: Done  97 tasks      | elapsed:  2.0min\n",
      "[Parallel(n_jobs=-1)]: Done 112 tasks      | elapsed:  2.3min\n",
      "[Parallel(n_jobs=-1)]: Done 129 tasks      | elapsed:  2.8min\n",
      "[Parallel(n_jobs=-1)]: Done 146 tasks      | elapsed:  3.3min\n",
      "[Parallel(n_jobs=-1)]: Done 165 tasks      | elapsed:  3.6min\n",
      "[Parallel(n_jobs=-1)]: Done 184 tasks      | elapsed:  4.0min\n",
      "[Parallel(n_jobs=-1)]: Done 205 tasks      | elapsed:  4.8min\n",
      "[Parallel(n_jobs=-1)]: Done 226 tasks      | elapsed:  5.2min\n",
      "[Parallel(n_jobs=-1)]: Done 249 tasks      | elapsed:  5.7min\n",
      "[Parallel(n_jobs=-1)]: Done 272 tasks      | elapsed:  6.5min\n",
      "[Parallel(n_jobs=-1)]: Done 297 tasks      | elapsed:  7.1min\n",
      "[Parallel(n_jobs=-1)]: Done 322 tasks      | elapsed:  7.7min\n",
      "[Parallel(n_jobs=-1)]: Done 349 tasks      | elapsed:  8.8min\n",
      "[Parallel(n_jobs=-1)]: Done 376 tasks      | elapsed:  9.4min\n",
      "[Parallel(n_jobs=-1)]: Done 405 tasks      | elapsed: 10.3min\n",
      "[Parallel(n_jobs=-1)]: Done 420 out of 420 | elapsed: 11.0min finished\n"
     ]
    },
    {
     "data": {
      "text/plain": [
       "GridSearchCV(cv=10, error_score=nan,\n",
       "             estimator=RandomForestClassifier(bootstrap=True, ccp_alpha=0.0,\n",
       "                                              class_weight=None,\n",
       "                                              criterion='gini', max_depth=None,\n",
       "                                              max_features='auto',\n",
       "                                              max_leaf_nodes=None,\n",
       "                                              max_samples=None,\n",
       "                                              min_impurity_decrease=0.0,\n",
       "                                              min_impurity_split=None,\n",
       "                                              min_samples_leaf=1,\n",
       "                                              min_samples_split=2,\n",
       "                                              min_weight_fraction_leaf=0.0,\n",
       "                                              n_estimators=100, n_jobs=None,\n",
       "                                              oob_score=False,\n",
       "                                              random_state=12345, verbose=0,\n",
       "                                              warm_start=False),\n",
       "             iid='deprecated', n_jobs=-1,\n",
       "             param_grid={'max_features': [5, 6, 7, 8, 9, 10],\n",
       "                         'n_estimators': [70, 80, 90, 100, 120, 150, 200]},\n",
       "             pre_dispatch='2*n_jobs', refit=True, return_train_score=False,\n",
       "             scoring=None, verbose=10)"
      ]
     },
     "execution_count": 315,
     "metadata": {},
     "output_type": "execute_result"
    }
   ],
   "source": [
    "param_grid = {\n",
    "    'n_estimators': [70, 80, 90, 100, 120, 150, 200],\n",
    "    'max_features': [5, 6, 7, 8, 9, 10],\n",
    "}\n",
    "\n",
    "rgscv = GridSearchCV(RandomForestClassifier(random_state=12345),\n",
    "                     param_grid,\n",
    "                     cv=10,\n",
    "                     verbose=10,\n",
    "                     n_jobs=-1)\n",
    "\n",
    "rgscv.fit(train_X, train_y)"
   ]
  },
  {
   "cell_type": "code",
   "execution_count": 316,
   "metadata": {
    "ExecuteTime": {
     "end_time": "2020-04-13T09:34:57.500055Z",
     "start_time": "2020-04-13T09:34:57.495068Z"
    }
   },
   "outputs": [
    {
     "data": {
      "text/plain": [
       "{'max_features': 5, 'n_estimators': 90}"
      ]
     },
     "execution_count": 316,
     "metadata": {},
     "output_type": "execute_result"
    }
   ],
   "source": [
    "rgscv.best_params_"
   ]
  },
  {
   "cell_type": "code",
   "execution_count": 317,
   "metadata": {
    "ExecuteTime": {
     "end_time": "2020-04-13T09:34:57.506039Z",
     "start_time": "2020-04-13T09:34:57.501052Z"
    }
   },
   "outputs": [
    {
     "data": {
      "text/plain": [
       "0.9901565996590126"
      ]
     },
     "execution_count": 317,
     "metadata": {},
     "output_type": "execute_result"
    }
   ],
   "source": [
    "rgscv.best_score_\n",
    "\n",
    "#99.04% score"
   ]
  },
  {
   "cell_type": "code",
   "execution_count": 318,
   "metadata": {
    "ExecuteTime": {
     "end_time": "2020-04-13T09:34:57.812390Z",
     "start_time": "2020-04-13T09:34:57.507036Z"
    }
   },
   "outputs": [
    {
     "data": {
      "text/plain": [
       "array([1, 0, 1, ..., 1, 0, 0], dtype=int64)"
      ]
     },
     "execution_count": 318,
     "metadata": {},
     "output_type": "execute_result"
    }
   ],
   "source": [
    "rgscv.predict(test_X)"
   ]
  },
  {
   "cell_type": "code",
   "execution_count": 319,
   "metadata": {
    "ExecuteTime": {
     "end_time": "2020-04-13T09:34:58.110600Z",
     "start_time": "2020-04-13T09:34:57.813219Z"
    }
   },
   "outputs": [],
   "source": [
    "y_pred2 = pd.DataFrame( { 'actual':  test_y,\n",
    "                                'predicted': rgscv.predict( test_X) } )"
   ]
  },
  {
   "cell_type": "code",
   "execution_count": 320,
   "metadata": {
    "ExecuteTime": {
     "end_time": "2020-04-13T09:34:58.119433Z",
     "start_time": "2020-04-13T09:34:58.111422Z"
    }
   },
   "outputs": [
    {
     "data": {
      "text/html": [
       "<div>\n",
       "<style scoped>\n",
       "    .dataframe tbody tr th:only-of-type {\n",
       "        vertical-align: middle;\n",
       "    }\n",
       "\n",
       "    .dataframe tbody tr th {\n",
       "        vertical-align: top;\n",
       "    }\n",
       "\n",
       "    .dataframe thead th {\n",
       "        text-align: right;\n",
       "    }\n",
       "</style>\n",
       "<table border=\"1\" class=\"dataframe\">\n",
       "  <thead>\n",
       "    <tr style=\"text-align: right;\">\n",
       "      <th></th>\n",
       "      <th>actual</th>\n",
       "      <th>predicted</th>\n",
       "    </tr>\n",
       "  </thead>\n",
       "  <tbody>\n",
       "    <tr>\n",
       "      <th>112168</th>\n",
       "      <td>1</td>\n",
       "      <td>1</td>\n",
       "    </tr>\n",
       "    <tr>\n",
       "      <th>66607</th>\n",
       "      <td>0</td>\n",
       "      <td>0</td>\n",
       "    </tr>\n",
       "    <tr>\n",
       "      <th>108068</th>\n",
       "      <td>1</td>\n",
       "      <td>1</td>\n",
       "    </tr>\n",
       "    <tr>\n",
       "      <th>81121</th>\n",
       "      <td>1</td>\n",
       "      <td>1</td>\n",
       "    </tr>\n",
       "    <tr>\n",
       "      <th>31292</th>\n",
       "      <td>1</td>\n",
       "      <td>1</td>\n",
       "    </tr>\n",
       "    <tr>\n",
       "      <th>...</th>\n",
       "      <td>...</td>\n",
       "      <td>...</td>\n",
       "    </tr>\n",
       "    <tr>\n",
       "      <th>80385</th>\n",
       "      <td>1</td>\n",
       "      <td>1</td>\n",
       "    </tr>\n",
       "    <tr>\n",
       "      <th>120029</th>\n",
       "      <td>1</td>\n",
       "      <td>1</td>\n",
       "    </tr>\n",
       "    <tr>\n",
       "      <th>3457</th>\n",
       "      <td>1</td>\n",
       "      <td>1</td>\n",
       "    </tr>\n",
       "    <tr>\n",
       "      <th>62256</th>\n",
       "      <td>0</td>\n",
       "      <td>0</td>\n",
       "    </tr>\n",
       "    <tr>\n",
       "      <th>79268</th>\n",
       "      <td>0</td>\n",
       "      <td>0</td>\n",
       "    </tr>\n",
       "  </tbody>\n",
       "</table>\n",
       "<p>37792 rows × 2 columns</p>\n",
       "</div>"
      ],
      "text/plain": [
       "        actual  predicted\n",
       "112168       1          1\n",
       "66607        0          0\n",
       "108068       1          1\n",
       "81121        1          1\n",
       "31292        1          1\n",
       "...        ...        ...\n",
       "80385        1          1\n",
       "120029       1          1\n",
       "3457         1          1\n",
       "62256        0          0\n",
       "79268        0          0\n",
       "\n",
       "[37792 rows x 2 columns]"
      ]
     },
     "execution_count": 320,
     "metadata": {},
     "output_type": "execute_result"
    }
   ],
   "source": [
    "y_pred2"
   ]
  },
  {
   "cell_type": "code",
   "execution_count": 321,
   "metadata": {
    "ExecuteTime": {
     "end_time": "2020-04-13T09:34:58.136354Z",
     "start_time": "2020-04-13T09:34:58.120396Z"
    }
   },
   "outputs": [
    {
     "name": "stdout",
     "output_type": "stream",
     "text": [
      "0.9904477138018628\n",
      "0.9903132925202017\n"
     ]
    }
   ],
   "source": [
    "print(metrics.accuracy_score(y_pred.actual, y_pred2.predicted))\n",
    "print(metrics.roc_auc_score(y_pred.actual, y_pred2.predicted))\n",
    "\n",
    "#Better score than a single Random Forest Classifier"
   ]
  },
  {
   "cell_type": "code",
   "execution_count": 322,
   "metadata": {
    "ExecuteTime": {
     "end_time": "2020-04-13T09:34:58.412617Z",
     "start_time": "2020-04-13T09:34:58.137350Z"
    }
   },
   "outputs": [
    {
     "data": {
      "text/plain": [
       "Text(0.5, 12.5, 'Predicted label')"
      ]
     },
     "execution_count": 322,
     "metadata": {},
     "output_type": "execute_result"
    },
    {
     "data": {
      "image/png": "[encoded data removed]",
      "text/plain": [
       "<Figure size 432x288 with 2 Axes>"
      ]
     },
     "metadata": {
      "needs_background": "light"
     },
     "output_type": "display_data"
    }
   ],
   "source": [
    "rfgsv_cm = metrics.confusion_matrix(y_pred2.predicted, y_pred.actual, [1, 0])\n",
    "sns.heatmap(rfgsv_cm,\n",
    "            annot=True,\n",
    "            cmap='Set3',\n",
    "            fmt='.2f',\n",
    "            )\n",
    "\n",
    "plt.ylabel('True label')\n",
    "plt.xlabel('Predicted label')"
   ]
  },
  {
   "cell_type": "markdown",
   "metadata": {},
   "source": [
    "## Running Boosting Methods to test the accuracy and ROC score of the models."
   ]
  },
  {
   "cell_type": "code",
   "execution_count": 323,
   "metadata": {
    "ExecuteTime": {
     "end_time": "2020-04-13T09:37:05.554041Z",
     "start_time": "2020-04-13T09:34:58.413614Z"
    }
   },
   "outputs": [
    {
     "name": "stdout",
     "output_type": "stream",
     "text": [
      "Fitting 5 folds for each of 20 candidates, totalling 100 fits\n"
     ]
    },
    {
     "name": "stderr",
     "output_type": "stream",
     "text": [
      "[Parallel(n_jobs=-1)]: Using backend LokyBackend with 8 concurrent workers.\n",
      "[Parallel(n_jobs=-1)]: Done  34 tasks      | elapsed:   37.9s\n",
      "[Parallel(n_jobs=-1)]: Done 100 out of 100 | elapsed:  2.0min finished\n"
     ]
    },
    {
     "data": {
      "text/plain": [
       "GridSearchCV(cv=5, error_score=nan,\n",
       "             estimator=GradientBoostingClassifier(ccp_alpha=0.0,\n",
       "                                                  criterion='friedman_mse',\n",
       "                                                  init=None, learning_rate=0.1,\n",
       "                                                  loss='deviance', max_depth=3,\n",
       "                                                  max_features=None,\n",
       "                                                  max_leaf_nodes=None,\n",
       "                                                  min_impurity_decrease=0.0,\n",
       "                                                  min_impurity_split=None,\n",
       "                                                  min_samples_leaf=1,\n",
       "                                                  min_samples_split=2,\n",
       "                                                  min_weight_fraction_leaf=0.0,\n",
       "                                                  n_estimators=100,\n",
       "                                                  n_iter_no_change=None,\n",
       "                                                  presort='deprecated',\n",
       "                                                  random_state=None,\n",
       "                                                  subsample=1.0, tol=0.0001,\n",
       "                                                  validation_fraction=0.1,\n",
       "                                                  verbose=0, warm_start=False),\n",
       "             iid='deprecated', n_jobs=-1,\n",
       "             param_grid={'learning_rate': [0.001, 0.01, 0.1, 1],\n",
       "                         'n_estimators': [50, 70, 90, 100, 200]},\n",
       "             pre_dispatch='2*n_jobs', refit=True, return_train_score=False,\n",
       "             scoring=None, verbose=True)"
      ]
     },
     "execution_count": 323,
     "metadata": {},
     "output_type": "execute_result"
    }
   ],
   "source": [
    "from sklearn.ensemble import GradientBoostingClassifier\n",
    "\n",
    "pargrid_grad = {'n_estimators': [50, 70, 90, 100, 200],\n",
    "                   'learning_rate': [10 ** x for x in range(-3, 1)]}\n",
    "\n",
    "gscv_grad = GridSearchCV(estimator = GradientBoostingClassifier(), \n",
    "                        param_grid = pargrid_grad, \n",
    "                        cv = 5,\n",
    "                        verbose = True, \n",
    "                        n_jobs = -1)\n",
    "\n",
    "gscv_grad.fit(train_X,train_y)"
   ]
  },
  {
   "cell_type": "code",
   "execution_count": 324,
   "metadata": {
    "ExecuteTime": {
     "end_time": "2020-04-13T09:37:05.559992Z",
     "start_time": "2020-04-13T09:37:05.555006Z"
    }
   },
   "outputs": [
    {
     "data": {
      "text/plain": [
       "{'learning_rate': 1, 'n_estimators': 200}"
      ]
     },
     "execution_count": 324,
     "metadata": {},
     "output_type": "execute_result"
    }
   ],
   "source": [
    "gscv_grad.best_params_"
   ]
  },
  {
   "cell_type": "code",
   "execution_count": 325,
   "metadata": {
    "ExecuteTime": {
     "end_time": "2020-04-13T09:37:05.565975Z",
     "start_time": "2020-04-13T09:37:05.560991Z"
    }
   },
   "outputs": [
    {
     "data": {
      "text/plain": [
       "0.9882854418520786"
      ]
     },
     "execution_count": 325,
     "metadata": {},
     "output_type": "execute_result"
    }
   ],
   "source": [
    "gscv_grad.best_score_"
   ]
  },
  {
   "cell_type": "code",
   "execution_count": 326,
   "metadata": {
    "ExecuteTime": {
     "end_time": "2020-04-13T09:37:05.658729Z",
     "start_time": "2020-04-13T09:37:05.566974Z"
    }
   },
   "outputs": [
    {
     "data": {
      "text/plain": [
       "array([1, 0, 0, ..., 1, 0, 0], dtype=int64)"
      ]
     },
     "execution_count": 326,
     "metadata": {},
     "output_type": "execute_result"
    }
   ],
   "source": [
    "gscv_grad.predict(test_X)"
   ]
  },
  {
   "cell_type": "code",
   "execution_count": 327,
   "metadata": {
    "ExecuteTime": {
     "end_time": "2020-04-13T09:37:05.738515Z",
     "start_time": "2020-04-13T09:37:05.659726Z"
    }
   },
   "outputs": [],
   "source": [
    "y_pred3 = pd.DataFrame( { 'actual':  test_y,\n",
    "                                'predicted': gscv_grad.predict( test_X) } )"
   ]
  },
  {
   "cell_type": "code",
   "execution_count": 328,
   "metadata": {
    "ExecuteTime": {
     "end_time": "2020-04-13T09:37:05.747491Z",
     "start_time": "2020-04-13T09:37:05.739512Z"
    }
   },
   "outputs": [
    {
     "data": {
      "text/html": [
       "<div>\n",
       "<style scoped>\n",
       "    .dataframe tbody tr th:only-of-type {\n",
       "        vertical-align: middle;\n",
       "    }\n",
       "\n",
       "    .dataframe tbody tr th {\n",
       "        vertical-align: top;\n",
       "    }\n",
       "\n",
       "    .dataframe thead th {\n",
       "        text-align: right;\n",
       "    }\n",
       "</style>\n",
       "<table border=\"1\" class=\"dataframe\">\n",
       "  <thead>\n",
       "    <tr style=\"text-align: right;\">\n",
       "      <th></th>\n",
       "      <th>actual</th>\n",
       "      <th>predicted</th>\n",
       "    </tr>\n",
       "  </thead>\n",
       "  <tbody>\n",
       "    <tr>\n",
       "      <th>112168</th>\n",
       "      <td>1</td>\n",
       "      <td>1</td>\n",
       "    </tr>\n",
       "    <tr>\n",
       "      <th>66607</th>\n",
       "      <td>0</td>\n",
       "      <td>0</td>\n",
       "    </tr>\n",
       "    <tr>\n",
       "      <th>108068</th>\n",
       "      <td>1</td>\n",
       "      <td>0</td>\n",
       "    </tr>\n",
       "    <tr>\n",
       "      <th>81121</th>\n",
       "      <td>1</td>\n",
       "      <td>1</td>\n",
       "    </tr>\n",
       "    <tr>\n",
       "      <th>31292</th>\n",
       "      <td>1</td>\n",
       "      <td>1</td>\n",
       "    </tr>\n",
       "    <tr>\n",
       "      <th>...</th>\n",
       "      <td>...</td>\n",
       "      <td>...</td>\n",
       "    </tr>\n",
       "    <tr>\n",
       "      <th>80385</th>\n",
       "      <td>1</td>\n",
       "      <td>1</td>\n",
       "    </tr>\n",
       "    <tr>\n",
       "      <th>120029</th>\n",
       "      <td>1</td>\n",
       "      <td>1</td>\n",
       "    </tr>\n",
       "    <tr>\n",
       "      <th>3457</th>\n",
       "      <td>1</td>\n",
       "      <td>1</td>\n",
       "    </tr>\n",
       "    <tr>\n",
       "      <th>62256</th>\n",
       "      <td>0</td>\n",
       "      <td>0</td>\n",
       "    </tr>\n",
       "    <tr>\n",
       "      <th>79268</th>\n",
       "      <td>0</td>\n",
       "      <td>0</td>\n",
       "    </tr>\n",
       "  </tbody>\n",
       "</table>\n",
       "<p>37792 rows × 2 columns</p>\n",
       "</div>"
      ],
      "text/plain": [
       "        actual  predicted\n",
       "112168       1          1\n",
       "66607        0          0\n",
       "108068       1          0\n",
       "81121        1          1\n",
       "31292        1          1\n",
       "...        ...        ...\n",
       "80385        1          1\n",
       "120029       1          1\n",
       "3457         1          1\n",
       "62256        0          0\n",
       "79268        0          0\n",
       "\n",
       "[37792 rows x 2 columns]"
      ]
     },
     "execution_count": 328,
     "metadata": {},
     "output_type": "execute_result"
    }
   ],
   "source": [
    "y_pred3"
   ]
  },
  {
   "cell_type": "code",
   "execution_count": 329,
   "metadata": {
    "ExecuteTime": {
     "end_time": "2020-04-13T09:37:05.764445Z",
     "start_time": "2020-04-13T09:37:05.748490Z"
    }
   },
   "outputs": [
    {
     "name": "stdout",
     "output_type": "stream",
     "text": [
      "0.9881985605419137\n",
      "0.9879358747476564\n"
     ]
    }
   ],
   "source": [
    "print(metrics.accuracy_score(y_pred.actual, y_pred3.predicted))\n",
    "print(metrics.roc_auc_score(y_pred.actual, y_pred3.predicted))\n"
   ]
  },
  {
   "cell_type": "code",
   "execution_count": 334,
   "metadata": {
    "ExecuteTime": {
     "end_time": "2020-04-13T10:01:21.498323Z",
     "start_time": "2020-04-13T10:01:21.231039Z"
    }
   },
   "outputs": [
    {
     "data": {
      "text/plain": [
       "Text(0.5, 12.5, 'Predicted label')"
      ]
     },
     "execution_count": 334,
     "metadata": {},
     "output_type": "execute_result"
    },
    {
     "data": {
      "image/png": "[encoded data removed]",
      "text/plain": [
       "<Figure size 432x288 with 2 Axes>"
      ]
     },
     "metadata": {
      "needs_background": "light"
     },
     "output_type": "display_data"
    }
   ],
   "source": [
    "grad_cm = metrics.confusion_matrix(y_pred3.predicted, y_pred.actual, [1, 0])\n",
    "sns.heatmap(\n",
    "    grad_cm,\n",
    "    annot=True,\n",
    "    cmap='Set3',\n",
    "    fmt='.2f',\n",
    ")\n",
    "\n",
    "plt.ylabel('True label')\n",
    "plt.xlabel('Predicted label')"
   ]
  },
  {
   "cell_type": "markdown",
   "metadata": {
    "ExecuteTime": {
     "end_time": "2020-04-13T09:40:07.963815Z",
     "start_time": "2020-04-13T09:40:07.485091Z"
    }
   },
   "source": [
    "We have the best score with Random Forest Classifier which ran with Grid Search CV.\n",
    "We will use those predicted values for our analysis."
   ]
  },
  {
   "cell_type": "markdown",
   "metadata": {
    "ExecuteTime": {
     "end_time": "2020-04-13T09:40:12.541972Z",
     "start_time": "2020-04-13T09:40:12.536988Z"
    }
   },
   "source": [
    "## Predictions"
   ]
  },
  {
   "cell_type": "code",
   "execution_count": 351,
   "metadata": {
    "ExecuteTime": {
     "end_time": "2020-04-13T10:34:25.226955Z",
     "start_time": "2020-04-13T10:34:25.205015Z"
    }
   },
   "outputs": [
    {
     "ename": "ValueError",
     "evalue": "Number of features of the model must match the input. Model n_features is 19 and input n_features is 20 ",
     "output_type": "error",
     "traceback": [
      "\u001b[1;31m---------------------------------------------------------------------------\u001b[0m",
      "\u001b[1;31mValueError\u001b[0m                                Traceback (most recent call last)",
      "\u001b[1;32m<ipython-input-351-d5960a278615>\u001b[0m in \u001b[0;36m<module>\u001b[1;34m\u001b[0m\n\u001b[0;32m      1\u001b[0m \u001b[1;31m# Step 4: predict the spend on the testing/validation data\u001b[0m\u001b[1;33m\u001b[0m\u001b[1;33m\u001b[0m\u001b[1;33m\u001b[0m\u001b[0m\n\u001b[1;32m----> 2\u001b[1;33m \u001b[0mtest_X\u001b[0m\u001b[1;33m[\u001b[0m\u001b[1;34m'Predictions'\u001b[0m\u001b[1;33m]\u001b[0m \u001b[1;33m=\u001b[0m \u001b[0mrgscv\u001b[0m\u001b[1;33m.\u001b[0m\u001b[0mpredict\u001b[0m\u001b[1;33m(\u001b[0m\u001b[0mtest_X\u001b[0m\u001b[1;33m)\u001b[0m\u001b[1;33m\u001b[0m\u001b[1;33m\u001b[0m\u001b[0m\n\u001b[0m",
      "\u001b[1;32m~\\Anaconda3\\lib\\site-packages\\sklearn\\utils\\metaestimators.py\u001b[0m in \u001b[0;36m<lambda>\u001b[1;34m(*args, **kwargs)\u001b[0m\n\u001b[0;32m    114\u001b[0m \u001b[1;33m\u001b[0m\u001b[0m\n\u001b[0;32m    115\u001b[0m         \u001b[1;31m# lambda, but not partial, allows help() to work with update_wrapper\u001b[0m\u001b[1;33m\u001b[0m\u001b[1;33m\u001b[0m\u001b[1;33m\u001b[0m\u001b[0m\n\u001b[1;32m--> 116\u001b[1;33m         \u001b[0mout\u001b[0m \u001b[1;33m=\u001b[0m \u001b[1;32mlambda\u001b[0m \u001b[1;33m*\u001b[0m\u001b[0margs\u001b[0m\u001b[1;33m,\u001b[0m \u001b[1;33m**\u001b[0m\u001b[0mkwargs\u001b[0m\u001b[1;33m:\u001b[0m \u001b[0mself\u001b[0m\u001b[1;33m.\u001b[0m\u001b[0mfn\u001b[0m\u001b[1;33m(\u001b[0m\u001b[0mobj\u001b[0m\u001b[1;33m,\u001b[0m \u001b[1;33m*\u001b[0m\u001b[0margs\u001b[0m\u001b[1;33m,\u001b[0m \u001b[1;33m**\u001b[0m\u001b[0mkwargs\u001b[0m\u001b[1;33m)\u001b[0m\u001b[1;33m\u001b[0m\u001b[1;33m\u001b[0m\u001b[0m\n\u001b[0m\u001b[0;32m    117\u001b[0m         \u001b[1;31m# update the docstring of the returned function\u001b[0m\u001b[1;33m\u001b[0m\u001b[1;33m\u001b[0m\u001b[1;33m\u001b[0m\u001b[0m\n\u001b[0;32m    118\u001b[0m         \u001b[0mupdate_wrapper\u001b[0m\u001b[1;33m(\u001b[0m\u001b[0mout\u001b[0m\u001b[1;33m,\u001b[0m \u001b[0mself\u001b[0m\u001b[1;33m.\u001b[0m\u001b[0mfn\u001b[0m\u001b[1;33m)\u001b[0m\u001b[1;33m\u001b[0m\u001b[1;33m\u001b[0m\u001b[0m\n",
      "\u001b[1;32m~\\Anaconda3\\lib\\site-packages\\sklearn\\model_selection\\_search.py\u001b[0m in \u001b[0;36mpredict\u001b[1;34m(self, X)\u001b[0m\n\u001b[0;32m    475\u001b[0m         \"\"\"\n\u001b[0;32m    476\u001b[0m         \u001b[0mself\u001b[0m\u001b[1;33m.\u001b[0m\u001b[0m_check_is_fitted\u001b[0m\u001b[1;33m(\u001b[0m\u001b[1;34m'predict'\u001b[0m\u001b[1;33m)\u001b[0m\u001b[1;33m\u001b[0m\u001b[1;33m\u001b[0m\u001b[0m\n\u001b[1;32m--> 477\u001b[1;33m         \u001b[1;32mreturn\u001b[0m \u001b[0mself\u001b[0m\u001b[1;33m.\u001b[0m\u001b[0mbest_estimator_\u001b[0m\u001b[1;33m.\u001b[0m\u001b[0mpredict\u001b[0m\u001b[1;33m(\u001b[0m\u001b[0mX\u001b[0m\u001b[1;33m)\u001b[0m\u001b[1;33m\u001b[0m\u001b[1;33m\u001b[0m\u001b[0m\n\u001b[0m\u001b[0;32m    478\u001b[0m \u001b[1;33m\u001b[0m\u001b[0m\n\u001b[0;32m    479\u001b[0m     \u001b[1;33m@\u001b[0m\u001b[0mif_delegate_has_method\u001b[0m\u001b[1;33m(\u001b[0m\u001b[0mdelegate\u001b[0m\u001b[1;33m=\u001b[0m\u001b[1;33m(\u001b[0m\u001b[1;34m'best_estimator_'\u001b[0m\u001b[1;33m,\u001b[0m \u001b[1;34m'estimator'\u001b[0m\u001b[1;33m)\u001b[0m\u001b[1;33m)\u001b[0m\u001b[1;33m\u001b[0m\u001b[1;33m\u001b[0m\u001b[0m\n",
      "\u001b[1;32m~\\Anaconda3\\lib\\site-packages\\sklearn\\ensemble\\_forest.py\u001b[0m in \u001b[0;36mpredict\u001b[1;34m(self, X)\u001b[0m\n\u001b[0;32m    610\u001b[0m             \u001b[0mThe\u001b[0m \u001b[0mpredicted\u001b[0m \u001b[0mclasses\u001b[0m\u001b[1;33m.\u001b[0m\u001b[1;33m\u001b[0m\u001b[1;33m\u001b[0m\u001b[0m\n\u001b[0;32m    611\u001b[0m         \"\"\"\n\u001b[1;32m--> 612\u001b[1;33m         \u001b[0mproba\u001b[0m \u001b[1;33m=\u001b[0m \u001b[0mself\u001b[0m\u001b[1;33m.\u001b[0m\u001b[0mpredict_proba\u001b[0m\u001b[1;33m(\u001b[0m\u001b[0mX\u001b[0m\u001b[1;33m)\u001b[0m\u001b[1;33m\u001b[0m\u001b[1;33m\u001b[0m\u001b[0m\n\u001b[0m\u001b[0;32m    613\u001b[0m \u001b[1;33m\u001b[0m\u001b[0m\n\u001b[0;32m    614\u001b[0m         \u001b[1;32mif\u001b[0m \u001b[0mself\u001b[0m\u001b[1;33m.\u001b[0m\u001b[0mn_outputs_\u001b[0m \u001b[1;33m==\u001b[0m \u001b[1;36m1\u001b[0m\u001b[1;33m:\u001b[0m\u001b[1;33m\u001b[0m\u001b[1;33m\u001b[0m\u001b[0m\n",
      "\u001b[1;32m~\\Anaconda3\\lib\\site-packages\\sklearn\\ensemble\\_forest.py\u001b[0m in \u001b[0;36mpredict_proba\u001b[1;34m(self, X)\u001b[0m\n\u001b[0;32m    654\u001b[0m         \u001b[0mcheck_is_fitted\u001b[0m\u001b[1;33m(\u001b[0m\u001b[0mself\u001b[0m\u001b[1;33m)\u001b[0m\u001b[1;33m\u001b[0m\u001b[1;33m\u001b[0m\u001b[0m\n\u001b[0;32m    655\u001b[0m         \u001b[1;31m# Check data\u001b[0m\u001b[1;33m\u001b[0m\u001b[1;33m\u001b[0m\u001b[1;33m\u001b[0m\u001b[0m\n\u001b[1;32m--> 656\u001b[1;33m         \u001b[0mX\u001b[0m \u001b[1;33m=\u001b[0m \u001b[0mself\u001b[0m\u001b[1;33m.\u001b[0m\u001b[0m_validate_X_predict\u001b[0m\u001b[1;33m(\u001b[0m\u001b[0mX\u001b[0m\u001b[1;33m)\u001b[0m\u001b[1;33m\u001b[0m\u001b[1;33m\u001b[0m\u001b[0m\n\u001b[0m\u001b[0;32m    657\u001b[0m \u001b[1;33m\u001b[0m\u001b[0m\n\u001b[0;32m    658\u001b[0m         \u001b[1;31m# Assign chunk of trees to jobs\u001b[0m\u001b[1;33m\u001b[0m\u001b[1;33m\u001b[0m\u001b[1;33m\u001b[0m\u001b[0m\n",
      "\u001b[1;32m~\\Anaconda3\\lib\\site-packages\\sklearn\\ensemble\\_forest.py\u001b[0m in \u001b[0;36m_validate_X_predict\u001b[1;34m(self, X)\u001b[0m\n\u001b[0;32m    410\u001b[0m         \u001b[0mcheck_is_fitted\u001b[0m\u001b[1;33m(\u001b[0m\u001b[0mself\u001b[0m\u001b[1;33m)\u001b[0m\u001b[1;33m\u001b[0m\u001b[1;33m\u001b[0m\u001b[0m\n\u001b[0;32m    411\u001b[0m \u001b[1;33m\u001b[0m\u001b[0m\n\u001b[1;32m--> 412\u001b[1;33m         \u001b[1;32mreturn\u001b[0m \u001b[0mself\u001b[0m\u001b[1;33m.\u001b[0m\u001b[0mestimators_\u001b[0m\u001b[1;33m[\u001b[0m\u001b[1;36m0\u001b[0m\u001b[1;33m]\u001b[0m\u001b[1;33m.\u001b[0m\u001b[0m_validate_X_predict\u001b[0m\u001b[1;33m(\u001b[0m\u001b[0mX\u001b[0m\u001b[1;33m,\u001b[0m \u001b[0mcheck_input\u001b[0m\u001b[1;33m=\u001b[0m\u001b[1;32mTrue\u001b[0m\u001b[1;33m)\u001b[0m\u001b[1;33m\u001b[0m\u001b[1;33m\u001b[0m\u001b[0m\n\u001b[0m\u001b[0;32m    413\u001b[0m \u001b[1;33m\u001b[0m\u001b[0m\n\u001b[0;32m    414\u001b[0m     \u001b[1;33m@\u001b[0m\u001b[0mproperty\u001b[0m\u001b[1;33m\u001b[0m\u001b[1;33m\u001b[0m\u001b[0m\n",
      "\u001b[1;32m~\\Anaconda3\\lib\\site-packages\\sklearn\\tree\\_classes.py\u001b[0m in \u001b[0;36m_validate_X_predict\u001b[1;34m(self, X, check_input)\u001b[0m\n\u001b[0;32m    389\u001b[0m                              \u001b[1;34m\"match the input. Model n_features is %s and \"\u001b[0m\u001b[1;33m\u001b[0m\u001b[1;33m\u001b[0m\u001b[0m\n\u001b[0;32m    390\u001b[0m                              \u001b[1;34m\"input n_features is %s \"\u001b[0m\u001b[1;33m\u001b[0m\u001b[1;33m\u001b[0m\u001b[0m\n\u001b[1;32m--> 391\u001b[1;33m                              % (self.n_features_, n_features))\n\u001b[0m\u001b[0;32m    392\u001b[0m \u001b[1;33m\u001b[0m\u001b[0m\n\u001b[0;32m    393\u001b[0m         \u001b[1;32mreturn\u001b[0m \u001b[0mX\u001b[0m\u001b[1;33m\u001b[0m\u001b[1;33m\u001b[0m\u001b[0m\n",
      "\u001b[1;31mValueError\u001b[0m: Number of features of the model must match the input. Model n_features is 19 and input n_features is 20 "
     ]
    }
   ],
   "source": [
    "# Step 4: predict the spend on the testing/validation data\n",
    "test_X['Predictions'] = rgscv.predict(test_X)\n",
    "\n",
    "#I have already run this code and Predictions column came up. This error came because Predictions is already there and there is one column more."
   ]
  },
  {
   "cell_type": "code",
   "execution_count": 356,
   "metadata": {
    "ExecuteTime": {
     "end_time": "2020-04-13T10:42:18.520183Z",
     "start_time": "2020-04-13T10:42:18.510245Z"
    }
   },
   "outputs": [],
   "source": [
    "test = pd.concat([test_X, test_y], axis =1)"
   ]
  },
  {
   "cell_type": "code",
   "execution_count": 359,
   "metadata": {
    "ExecuteTime": {
     "end_time": "2020-04-13T10:42:48.303994Z",
     "start_time": "2020-04-13T10:42:48.293000Z"
    }
   },
   "outputs": [
    {
     "data": {
      "text/html": [
       "<div>\n",
       "<style scoped>\n",
       "    .dataframe tbody tr th:only-of-type {\n",
       "        vertical-align: middle;\n",
       "    }\n",
       "\n",
       "    .dataframe tbody tr th {\n",
       "        vertical-align: top;\n",
       "    }\n",
       "\n",
       "    .dataframe thead th {\n",
       "        text-align: right;\n",
       "    }\n",
       "</style>\n",
       "<table border=\"1\" class=\"dataframe\">\n",
       "  <thead>\n",
       "    <tr style=\"text-align: right;\">\n",
       "      <th></th>\n",
       "      <th>attack</th>\n",
       "      <th>Predictions</th>\n",
       "    </tr>\n",
       "  </thead>\n",
       "  <tbody>\n",
       "    <tr>\n",
       "      <th>112168</th>\n",
       "      <td>1</td>\n",
       "      <td>1</td>\n",
       "    </tr>\n",
       "    <tr>\n",
       "      <th>66607</th>\n",
       "      <td>0</td>\n",
       "      <td>0</td>\n",
       "    </tr>\n",
       "    <tr>\n",
       "      <th>108068</th>\n",
       "      <td>1</td>\n",
       "      <td>1</td>\n",
       "    </tr>\n",
       "    <tr>\n",
       "      <th>81121</th>\n",
       "      <td>1</td>\n",
       "      <td>1</td>\n",
       "    </tr>\n",
       "    <tr>\n",
       "      <th>31292</th>\n",
       "      <td>1</td>\n",
       "      <td>1</td>\n",
       "    </tr>\n",
       "    <tr>\n",
       "      <th>...</th>\n",
       "      <td>...</td>\n",
       "      <td>...</td>\n",
       "    </tr>\n",
       "    <tr>\n",
       "      <th>80385</th>\n",
       "      <td>1</td>\n",
       "      <td>1</td>\n",
       "    </tr>\n",
       "    <tr>\n",
       "      <th>120029</th>\n",
       "      <td>1</td>\n",
       "      <td>1</td>\n",
       "    </tr>\n",
       "    <tr>\n",
       "      <th>3457</th>\n",
       "      <td>1</td>\n",
       "      <td>1</td>\n",
       "    </tr>\n",
       "    <tr>\n",
       "      <th>62256</th>\n",
       "      <td>0</td>\n",
       "      <td>0</td>\n",
       "    </tr>\n",
       "    <tr>\n",
       "      <th>79268</th>\n",
       "      <td>0</td>\n",
       "      <td>0</td>\n",
       "    </tr>\n",
       "  </tbody>\n",
       "</table>\n",
       "<p>37792 rows × 2 columns</p>\n",
       "</div>"
      ],
      "text/plain": [
       "        attack  Predictions\n",
       "112168       1            1\n",
       "66607        0            0\n",
       "108068       1            1\n",
       "81121        1            1\n",
       "31292        1            1\n",
       "...        ...          ...\n",
       "80385        1            1\n",
       "120029       1            1\n",
       "3457         1            1\n",
       "62256        0            0\n",
       "79268        0            0\n",
       "\n",
       "[37792 rows x 2 columns]"
      ]
     },
     "execution_count": 359,
     "metadata": {},
     "output_type": "execute_result"
    }
   ],
   "source": [
    "test[['attack','Predictions']]"
   ]
  },
  {
   "cell_type": "code",
   "execution_count": 367,
   "metadata": {
    "ExecuteTime": {
     "end_time": "2020-04-13T10:53:20.633567Z",
     "start_time": "2020-04-13T10:53:20.627615Z"
    }
   },
   "outputs": [],
   "source": [
    "##Predicting the y variable on the new test dataset\n",
    "\n",
    "testX = df_test_new[features_final]\n",
    "testy = df_test_new['attack']"
   ]
  },
  {
   "cell_type": "code",
   "execution_count": 377,
   "metadata": {
    "ExecuteTime": {
     "end_time": "2020-04-13T11:06:14.037456Z",
     "start_time": "2020-04-13T11:04:19.867332Z"
    }
   },
   "outputs": [
    {
     "name": "stdout",
     "output_type": "stream",
     "text": [
      "Fitting 10 folds for each of 42 candidates, totalling 420 fits\n"
     ]
    },
    {
     "name": "stderr",
     "output_type": "stream",
     "text": [
      "[Parallel(n_jobs=-1)]: Using backend LokyBackend with 8 concurrent workers.\n",
      "[Parallel(n_jobs=-1)]: Done   2 tasks      | elapsed:    3.2s\n",
      "[Parallel(n_jobs=-1)]: Done   9 tasks      | elapsed:    4.3s\n",
      "[Parallel(n_jobs=-1)]: Done  16 tasks      | elapsed:    4.8s\n",
      "[Parallel(n_jobs=-1)]: Done  25 tasks      | elapsed:    6.8s\n",
      "[Parallel(n_jobs=-1)]: Done  34 tasks      | elapsed:    8.7s\n",
      "[Parallel(n_jobs=-1)]: Done  45 tasks      | elapsed:   10.9s\n",
      "[Parallel(n_jobs=-1)]: Done  56 tasks      | elapsed:   13.6s\n",
      "[Parallel(n_jobs=-1)]: Done  69 tasks      | elapsed:   18.0s\n",
      "[Parallel(n_jobs=-1)]: Done  82 tasks      | elapsed:   20.3s\n",
      "[Parallel(n_jobs=-1)]: Done  97 tasks      | elapsed:   22.7s\n",
      "[Parallel(n_jobs=-1)]: Done 112 tasks      | elapsed:   26.0s\n",
      "[Parallel(n_jobs=-1)]: Done 129 tasks      | elapsed:   31.9s\n",
      "[Parallel(n_jobs=-1)]: Done 146 tasks      | elapsed:   36.7s\n",
      "[Parallel(n_jobs=-1)]: Done 165 tasks      | elapsed:   39.9s\n",
      "[Parallel(n_jobs=-1)]: Done 184 tasks      | elapsed:   44.7s\n",
      "[Parallel(n_jobs=-1)]: Done 205 tasks      | elapsed:   51.6s\n",
      "[Parallel(n_jobs=-1)]: Done 226 tasks      | elapsed:   55.9s\n",
      "[Parallel(n_jobs=-1)]: Done 249 tasks      | elapsed:  1.0min\n",
      "[Parallel(n_jobs=-1)]: Done 272 tasks      | elapsed:  1.2min\n",
      "[Parallel(n_jobs=-1)]: Done 297 tasks      | elapsed:  1.3min\n",
      "[Parallel(n_jobs=-1)]: Done 322 tasks      | elapsed:  1.4min\n",
      "[Parallel(n_jobs=-1)]: Done 349 tasks      | elapsed:  1.5min\n",
      "[Parallel(n_jobs=-1)]: Done 376 tasks      | elapsed:  1.6min\n",
      "[Parallel(n_jobs=-1)]: Done 405 tasks      | elapsed:  1.8min\n",
      "[Parallel(n_jobs=-1)]: Done 420 out of 420 | elapsed:  1.9min finished\n"
     ]
    },
    {
     "data": {
      "text/plain": [
       "GridSearchCV(cv=10, error_score=nan,\n",
       "             estimator=RandomForestClassifier(bootstrap=True, ccp_alpha=0.0,\n",
       "                                              class_weight=None,\n",
       "                                              criterion='gini', max_depth=None,\n",
       "                                              max_features='auto',\n",
       "                                              max_leaf_nodes=None,\n",
       "                                              max_samples=None,\n",
       "                                              min_impurity_decrease=0.0,\n",
       "                                              min_impurity_split=None,\n",
       "                                              min_samples_leaf=1,\n",
       "                                              min_samples_split=2,\n",
       "                                              min_weight_fraction_leaf=0.0,\n",
       "                                              n_estimators=100, n_jobs=None,\n",
       "                                              oob_score=False,\n",
       "                                              random_state=12345, verbose=0,\n",
       "                                              warm_start=False),\n",
       "             iid='deprecated', n_jobs=-1,\n",
       "             param_grid={'max_features': [5, 6, 7, 8, 9, 10],\n",
       "                         'n_estimators': [70, 80, 90, 100, 120, 150, 200]},\n",
       "             pre_dispatch='2*n_jobs', refit=True, return_train_score=False,\n",
       "             scoring=None, verbose=10)"
      ]
     },
     "execution_count": 377,
     "metadata": {},
     "output_type": "execute_result"
    }
   ],
   "source": [
    "rgscv.fit(testX,testy)  #Random Forest Classifier which we ran before to test our accuracies where we got 99.4% accuracy."
   ]
  },
  {
   "cell_type": "code",
   "execution_count": 378,
   "metadata": {
    "ExecuteTime": {
     "end_time": "2020-04-13T11:06:22.152042Z",
     "start_time": "2020-04-13T11:06:22.147055Z"
    }
   },
   "outputs": [
    {
     "data": {
      "text/plain": [
       "0.955864085921653"
      ]
     },
     "execution_count": 378,
     "metadata": {},
     "output_type": "execute_result"
    }
   ],
   "source": [
    "rgscv.best_score_"
   ]
  },
  {
   "cell_type": "code",
   "execution_count": 379,
   "metadata": {
    "ExecuteTime": {
     "end_time": "2020-04-13T11:06:33.082542Z",
     "start_time": "2020-04-13T11:06:33.077555Z"
    }
   },
   "outputs": [
    {
     "data": {
      "text/plain": [
       "{'max_features': 9, 'n_estimators': 90}"
      ]
     },
     "execution_count": 379,
     "metadata": {},
     "output_type": "execute_result"
    }
   ],
   "source": [
    "rgscv.best_params_"
   ]
  },
  {
   "cell_type": "code",
   "execution_count": 380,
   "metadata": {
    "ExecuteTime": {
     "end_time": "2020-04-13T11:06:36.478720Z",
     "start_time": "2020-04-13T11:06:36.281142Z"
    }
   },
   "outputs": [],
   "source": [
    "testX['Predictions'] = rgscv.predict(testX)"
   ]
  },
  {
   "cell_type": "code",
   "execution_count": 381,
   "metadata": {
    "ExecuteTime": {
     "end_time": "2020-04-13T11:06:37.171685Z",
     "start_time": "2020-04-13T11:06:37.164698Z"
    }
   },
   "outputs": [],
   "source": [
    "testnew = pd.concat([testX, testy], axis =1)"
   ]
  },
  {
   "cell_type": "code",
   "execution_count": 382,
   "metadata": {
    "ExecuteTime": {
     "end_time": "2020-04-13T11:06:38.377971Z",
     "start_time": "2020-04-13T11:06:38.364973Z"
    }
   },
   "outputs": [
    {
     "data": {
      "text/html": [
       "<div>\n",
       "<style scoped>\n",
       "    .dataframe tbody tr th:only-of-type {\n",
       "        vertical-align: middle;\n",
       "    }\n",
       "\n",
       "    .dataframe tbody tr th {\n",
       "        vertical-align: top;\n",
       "    }\n",
       "\n",
       "    .dataframe thead th {\n",
       "        text-align: right;\n",
       "    }\n",
       "</style>\n",
       "<table border=\"1\" class=\"dataframe\">\n",
       "  <thead>\n",
       "    <tr style=\"text-align: right;\">\n",
       "      <th></th>\n",
       "      <th>attack</th>\n",
       "      <th>Predictions</th>\n",
       "    </tr>\n",
       "  </thead>\n",
       "  <tbody>\n",
       "    <tr>\n",
       "      <th>0</th>\n",
       "      <td>1</td>\n",
       "      <td>1</td>\n",
       "    </tr>\n",
       "    <tr>\n",
       "      <th>1</th>\n",
       "      <td>1</td>\n",
       "      <td>1</td>\n",
       "    </tr>\n",
       "    <tr>\n",
       "      <th>2</th>\n",
       "      <td>0</td>\n",
       "      <td>0</td>\n",
       "    </tr>\n",
       "    <tr>\n",
       "      <th>3</th>\n",
       "      <td>1</td>\n",
       "      <td>1</td>\n",
       "    </tr>\n",
       "    <tr>\n",
       "      <th>4</th>\n",
       "      <td>1</td>\n",
       "      <td>1</td>\n",
       "    </tr>\n",
       "    <tr>\n",
       "      <th>...</th>\n",
       "      <td>...</td>\n",
       "      <td>...</td>\n",
       "    </tr>\n",
       "    <tr>\n",
       "      <th>22539</th>\n",
       "      <td>0</td>\n",
       "      <td>0</td>\n",
       "    </tr>\n",
       "    <tr>\n",
       "      <th>22540</th>\n",
       "      <td>0</td>\n",
       "      <td>0</td>\n",
       "    </tr>\n",
       "    <tr>\n",
       "      <th>22541</th>\n",
       "      <td>1</td>\n",
       "      <td>1</td>\n",
       "    </tr>\n",
       "    <tr>\n",
       "      <th>22542</th>\n",
       "      <td>0</td>\n",
       "      <td>0</td>\n",
       "    </tr>\n",
       "    <tr>\n",
       "      <th>22543</th>\n",
       "      <td>1</td>\n",
       "      <td>1</td>\n",
       "    </tr>\n",
       "  </tbody>\n",
       "</table>\n",
       "<p>22544 rows × 2 columns</p>\n",
       "</div>"
      ],
      "text/plain": [
       "       attack  Predictions\n",
       "0           1            1\n",
       "1           1            1\n",
       "2           0            0\n",
       "3           1            1\n",
       "4           1            1\n",
       "...       ...          ...\n",
       "22539       0            0\n",
       "22540       0            0\n",
       "22541       1            1\n",
       "22542       0            0\n",
       "22543       1            1\n",
       "\n",
       "[22544 rows x 2 columns]"
      ]
     },
     "execution_count": 382,
     "metadata": {},
     "output_type": "execute_result"
    }
   ],
   "source": [
    "testnew[['attack','Predictions']]"
   ]
  },
  {
   "cell_type": "code",
   "execution_count": 391,
   "metadata": {
    "ExecuteTime": {
     "end_time": "2020-04-13T11:26:12.008784Z",
     "start_time": "2020-04-13T11:26:11.983851Z"
    }
   },
   "outputs": [
    {
     "name": "stdout",
     "output_type": "stream",
     "text": [
      "The accuracy score with the Random Forest Classifier with test data 0.9904477138018628\n",
      "The accuracy score with the Random Forest Classifier with test data 0.9903132925202017\n",
      "The accuracy score with the Random Forest Classifier with the new test data 0.9687278211497516\n",
      "The accuracy score with the Random Forest Classifier with the new test data 0.9660182588584422\n"
     ]
    }
   ],
   "source": [
    "print('The accuracy score with the Random Forest Classifier with test data',\n",
    "      metrics.accuracy_score(y_pred.actual, y_pred2.predicted))\n",
    "print('The accuracy score with the Random Forest Classifier with test data',\n",
    "      metrics.roc_auc_score(y_pred.actual, y_pred2.predicted))\n",
    "\n",
    "print(\n",
    "    'The accuracy score with the Random Forest Classifier with the new test data',\n",
    "    metrics.accuracy_score(testnew.attack, testnew.Predictions))\n",
    "print(\n",
    "    'The accuracy score with the Random Forest Classifier with the new test data',\n",
    "    metrics.roc_auc_score(testnew.attack, testnew.Predictions))"
   ]
  },
  {
   "cell_type": "markdown",
   "metadata": {},
   "source": [
    "## Important Notes"
   ]
  },
  {
   "cell_type": "markdown",
   "metadata": {
    "ExecuteTime": {
     "end_time": "2020-04-13T11:24:30.209866Z",
     "start_time": "2020-04-13T11:24:30.204883Z"
    }
   },
   "source": [
    "We got out best score using Random Forest Classifier.\n",
    "The predictions score with the test data in the train dataset comes to be around 99%.\n",
    "\n",
    "If we get a new dataset(test dataset) we got a prediction score of around 97%.\n",
    "\n",
    "So, our prediction to find if a network is attacked or not is around 97%\n",
    "\n",
    "We will do the multinomial classification on another jupyter notebook attached with the assignment zip."
   ]
  },
  {
   "cell_type": "code",
   "execution_count": null,
   "metadata": {},
   "outputs": [],
   "source": []
  }
 ],
 "metadata": {
  "kernelspec": {
   "display_name": "Python 3",
   "language": "python",
   "name": "python3"
  },
  "language_info": {
   "codemirror_mode": {
    "name": "ipython",
    "version": 3
   },
   "file_extension": ".py",
   "mimetype": "text/x-python",
   "name": "python",
   "nbconvert_exporter": "python",
   "pygments_lexer": "ipython3",
   "version": "3.7.4"
  }
 },
 "nbformat": 4,
 "nbformat_minor": 2
}
